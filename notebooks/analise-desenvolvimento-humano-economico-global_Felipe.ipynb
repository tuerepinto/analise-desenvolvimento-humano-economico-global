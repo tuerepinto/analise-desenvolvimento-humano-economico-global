{
 "cells": [
  {
   "cell_type": "markdown",
   "id": "8d7ae1ad",
   "metadata": {},
   "source": [
    "# EDA - Análise Exploratória de Dados\n",
    "## Pós Graduação em Inteligência Artificial e Machine Learning / PUC MINAS\n",
    "\n",
    "Professor Leandro Figueira Lessa\n",
    "\n",
    "`Felipe Bochoski da Cruz` - `colocar_email`\n",
    "\n",
    "`Khalil Omar Salha` - `colocar_email`\n",
    "\n",
    "`Pedro Augusto de Morais` - `colocar_email`\n",
    "\n",
    "`Tuerê Pinto` - `colocar_email`\n",
    "\n",
    "`2025`"
   ]
  },
  {
   "cell_type": "markdown",
   "id": "3d373b9d",
   "metadata": {},
   "source": [
    "# 1. Introdução\n",
    "\n",
    "Este projeto  tem como objetivo realizar no mínimo 15 análises de dados, utilizando\n",
    "visualizações, tabelas e representações gráficas para investigar o desenvolvimento humano\n",
    "e econômico ao redor do mundo. As análises devem ser feitas com base no dataset\n",
    "Gapminder, que contempla dados históricos, cujo o objetivo é obter uma visão abrangente sobre padrões globais de crescimento, desigualdade, evolução populacional e qualidade de vida de países ao redor do mundo.\n",
    "\n",
    "Ele será realizado em 5 etapas:\n",
    "    1. Introdução\n",
    "    2. Coleta e Exploração de Dados\n",
    "    3. Limpeza dos Dados\n",
    "    4. Conclusão"
   ]
  },
  {
   "cell_type": "code",
   "execution_count": null,
   "id": "96df430f",
   "metadata": {},
   "outputs": [
    {
     "ename": "ModuleNotFoundError",
     "evalue": "No module named 'plotly'",
     "output_type": "error",
     "traceback": [
      "\u001b[31m---------------------------------------------------------------------------\u001b[39m",
      "\u001b[31mModuleNotFoundError\u001b[39m                       Traceback (most recent call last)",
      "\u001b[36mCell\u001b[39m\u001b[36m \u001b[39m\u001b[32mIn[1]\u001b[39m\u001b[32m, line 6\u001b[39m\n\u001b[32m      4\u001b[39m \u001b[38;5;28;01mimport\u001b[39;00m\u001b[38;5;250m \u001b[39m\u001b[34;01mseaborn\u001b[39;00m\u001b[38;5;250m \u001b[39m\u001b[38;5;28;01mas\u001b[39;00m\u001b[38;5;250m \u001b[39m\u001b[34;01msns\u001b[39;00m\n\u001b[32m      5\u001b[39m \u001b[38;5;28;01mimport\u001b[39;00m\u001b[38;5;250m \u001b[39m\u001b[34;01mmatplotlib\u001b[39;00m\u001b[34;01m.\u001b[39;00m\u001b[34;01mpyplot\u001b[39;00m\u001b[38;5;250m \u001b[39m\u001b[38;5;28;01mas\u001b[39;00m\u001b[38;5;250m \u001b[39m\u001b[34;01mplt\u001b[39;00m\n\u001b[32m----> \u001b[39m\u001b[32m6\u001b[39m \u001b[38;5;28;01mimport\u001b[39;00m\u001b[38;5;250m \u001b[39m\u001b[34;01mplotly\u001b[39;00m\u001b[34;01m.\u001b[39;00m\u001b[34;01mexpress\u001b[39;00m\u001b[38;5;250m \u001b[39m\u001b[38;5;28;01mas\u001b[39;00m\u001b[38;5;250m \u001b[39m\u001b[34;01mpx\u001b[39;00m\n",
      "\u001b[31mModuleNotFoundError\u001b[39m: No module named 'plotly'"
     ]
    }
   ],
   "source": [
    "# Importação das bibliotecas que serão usadas\n",
    "import pandas as pd\n",
    "import numpy as np\n",
    "import seaborn as sns\n",
    "import matplotlib.pyplot as plt\n"
   ]
  },
  {
   "cell_type": "markdown",
   "id": "32179ac7",
   "metadata": {},
   "source": [
    "# 2. Coleta e Exploração de Dados\n",
    "\n",
    "Nesta etapa será realizado a extração do dataset em formato CSV para realizar a atividade, e identificar e coletar os dados necessários para análise."
   ]
  },
  {
   "cell_type": "code",
   "execution_count": null,
   "id": "dbdf1b1c",
   "metadata": {},
   "outputs": [],
   "source": [
    "# Carregando o dataset\n",
    "df = pd.read_csv('../datasets/gapminder_full.csv', sep=',')"
   ]
  },
  {
   "cell_type": "code",
   "execution_count": null,
   "id": "8cdb2e4e",
   "metadata": {},
   "outputs": [
    {
     "name": "stdout",
     "output_type": "stream",
     "text": [
      "<class 'pandas.core.frame.DataFrame'>\n",
      "RangeIndex: 1736 entries, 0 to 1735\n",
      "Data columns (total 6 columns):\n",
      " #   Column     Non-Null Count  Dtype  \n",
      "---  ------     --------------  -----  \n",
      " 0   country    1736 non-null   object \n",
      " 1   year       1736 non-null   int64  \n",
      " 2   pop        1736 non-null   float64\n",
      " 3   continent  1736 non-null   object \n",
      " 4   lifeExp    1736 non-null   float64\n",
      " 5   gdpPercap  1736 non-null   float64\n",
      "dtypes: float64(3), int64(1), object(2)\n",
      "memory usage: 81.5+ KB\n"
     ]
    }
   ],
   "source": [
    "# Visualizando o dataset\n",
    "df.info()"
   ]
  },
  {
   "cell_type": "code",
   "execution_count": null,
   "id": "ec42f768",
   "metadata": {},
   "outputs": [
    {
     "data": {
      "application/vnd.microsoft.datawrangler.viewer.v0+json": {
       "columns": [
        {
         "name": "index",
         "rawType": "object",
         "type": "string"
        },
        {
         "name": "year",
         "rawType": "float64",
         "type": "float"
        },
        {
         "name": "pop",
         "rawType": "float64",
         "type": "float"
        },
        {
         "name": "lifeExp",
         "rawType": "float64",
         "type": "float"
        },
        {
         "name": "gdpPercap",
         "rawType": "float64",
         "type": "float"
        }
       ],
       "ref": "8c15d23e-91f2-4748-8626-7ce7b5236c42",
       "rows": [
        [
         "count",
         "1736.0",
         "1736.0",
         "1736.0",
         "1736.0"
        ],
        [
         "mean",
         "1979.67",
         "31567996.19",
         "59.51",
         "7240.16"
        ],
        [
         "std",
         "17.3",
         "117288820.65",
         "12.96",
         "9839.87"
        ],
        [
         "min",
         "1952.0",
         "60011.0",
         "23.6",
         "241.17"
        ],
        [
         "25%",
         "1967.0",
         "2818694.25",
         "48.24",
         "1202.06"
        ],
        [
         "50%",
         "1982.0",
         "7150605.5",
         "60.81",
         "3534.77"
        ],
        [
         "75%",
         "1997.0",
         "19771020.25",
         "70.94",
         "9380.25"
        ],
        [
         "max",
         "2007.0",
         "1318683096.0",
         "82.6",
         "113523.13"
        ]
       ],
       "shape": {
        "columns": 4,
        "rows": 8
       }
      },
      "text/html": [
       "<div>\n",
       "<style scoped>\n",
       "    .dataframe tbody tr th:only-of-type {\n",
       "        vertical-align: middle;\n",
       "    }\n",
       "\n",
       "    .dataframe tbody tr th {\n",
       "        vertical-align: top;\n",
       "    }\n",
       "\n",
       "    .dataframe thead th {\n",
       "        text-align: right;\n",
       "    }\n",
       "</style>\n",
       "<table border=\"1\" class=\"dataframe\">\n",
       "  <thead>\n",
       "    <tr style=\"text-align: right;\">\n",
       "      <th></th>\n",
       "      <th>year</th>\n",
       "      <th>pop</th>\n",
       "      <th>lifeExp</th>\n",
       "      <th>gdpPercap</th>\n",
       "    </tr>\n",
       "  </thead>\n",
       "  <tbody>\n",
       "    <tr>\n",
       "      <th>count</th>\n",
       "      <td>1736.00</td>\n",
       "      <td>1.736000e+03</td>\n",
       "      <td>1736.00</td>\n",
       "      <td>1736.00</td>\n",
       "    </tr>\n",
       "    <tr>\n",
       "      <th>mean</th>\n",
       "      <td>1979.67</td>\n",
       "      <td>3.156800e+07</td>\n",
       "      <td>59.51</td>\n",
       "      <td>7240.16</td>\n",
       "    </tr>\n",
       "    <tr>\n",
       "      <th>std</th>\n",
       "      <td>17.30</td>\n",
       "      <td>1.172888e+08</td>\n",
       "      <td>12.96</td>\n",
       "      <td>9839.87</td>\n",
       "    </tr>\n",
       "    <tr>\n",
       "      <th>min</th>\n",
       "      <td>1952.00</td>\n",
       "      <td>6.001100e+04</td>\n",
       "      <td>23.60</td>\n",
       "      <td>241.17</td>\n",
       "    </tr>\n",
       "    <tr>\n",
       "      <th>25%</th>\n",
       "      <td>1967.00</td>\n",
       "      <td>2.818694e+06</td>\n",
       "      <td>48.24</td>\n",
       "      <td>1202.06</td>\n",
       "    </tr>\n",
       "    <tr>\n",
       "      <th>50%</th>\n",
       "      <td>1982.00</td>\n",
       "      <td>7.150606e+06</td>\n",
       "      <td>60.81</td>\n",
       "      <td>3534.77</td>\n",
       "    </tr>\n",
       "    <tr>\n",
       "      <th>75%</th>\n",
       "      <td>1997.00</td>\n",
       "      <td>1.977102e+07</td>\n",
       "      <td>70.94</td>\n",
       "      <td>9380.25</td>\n",
       "    </tr>\n",
       "    <tr>\n",
       "      <th>max</th>\n",
       "      <td>2007.00</td>\n",
       "      <td>1.318683e+09</td>\n",
       "      <td>82.60</td>\n",
       "      <td>113523.13</td>\n",
       "    </tr>\n",
       "  </tbody>\n",
       "</table>\n",
       "</div>"
      ],
      "text/plain": [
       "          year           pop  lifeExp  gdpPercap\n",
       "count  1736.00  1.736000e+03  1736.00    1736.00\n",
       "mean   1979.67  3.156800e+07    59.51    7240.16\n",
       "std      17.30  1.172888e+08    12.96    9839.87\n",
       "min    1952.00  6.001100e+04    23.60     241.17\n",
       "25%    1967.00  2.818694e+06    48.24    1202.06\n",
       "50%    1982.00  7.150606e+06    60.81    3534.77\n",
       "75%    1997.00  1.977102e+07    70.94    9380.25\n",
       "max    2007.00  1.318683e+09    82.60  113523.13"
      ]
     },
     "execution_count": 4,
     "metadata": {},
     "output_type": "execute_result"
    }
   ],
   "source": [
    "# Resumo estatístico das colunas numéricas arredondando para até duas casas decimais\n",
    "df.describe().round(2)"
   ]
  },
  {
   "cell_type": "code",
   "execution_count": null,
   "id": "e8e4eb91",
   "metadata": {},
   "outputs": [
    {
     "data": {
      "application/vnd.microsoft.datawrangler.viewer.v0+json": {
       "columns": [
        {
         "name": "index",
         "rawType": "int64",
         "type": "integer"
        },
        {
         "name": "country",
         "rawType": "object",
         "type": "string"
        },
        {
         "name": "year",
         "rawType": "int64",
         "type": "integer"
        },
        {
         "name": "pop",
         "rawType": "float64",
         "type": "float"
        },
        {
         "name": "continent",
         "rawType": "object",
         "type": "string"
        },
        {
         "name": "lifeExp",
         "rawType": "float64",
         "type": "float"
        },
        {
         "name": "gdpPercap",
         "rawType": "float64",
         "type": "float"
        }
       ],
       "ref": "91df9097-c7dc-4d8b-8cb3-d0e653239fc1",
       "rows": [
        [
         "0",
         "Afghanistan",
         "1952",
         "8425333.0",
         "Asia",
         "28.801",
         "779.4453145"
        ],
        [
         "1",
         "Afghanistan",
         "1957",
         "9240934.0",
         "Asia",
         "30.332",
         "820.8530296"
        ],
        [
         "2",
         "Afghanistan",
         "1962",
         "10267083.0",
         "Asia",
         "31.997",
         "853.10071"
        ],
        [
         "3",
         "Afghanistan",
         "1967",
         "11537966.0",
         "Asia",
         "34.02",
         "836.1971382"
        ],
        [
         "4",
         "Afghanistan",
         "1972",
         "13079460.0",
         "Asia",
         "36.088",
         "739.9811058"
        ]
       ],
       "shape": {
        "columns": 6,
        "rows": 5
       }
      },
      "text/html": [
       "<div>\n",
       "<style scoped>\n",
       "    .dataframe tbody tr th:only-of-type {\n",
       "        vertical-align: middle;\n",
       "    }\n",
       "\n",
       "    .dataframe tbody tr th {\n",
       "        vertical-align: top;\n",
       "    }\n",
       "\n",
       "    .dataframe thead th {\n",
       "        text-align: right;\n",
       "    }\n",
       "</style>\n",
       "<table border=\"1\" class=\"dataframe\">\n",
       "  <thead>\n",
       "    <tr style=\"text-align: right;\">\n",
       "      <th></th>\n",
       "      <th>country</th>\n",
       "      <th>year</th>\n",
       "      <th>pop</th>\n",
       "      <th>continent</th>\n",
       "      <th>lifeExp</th>\n",
       "      <th>gdpPercap</th>\n",
       "    </tr>\n",
       "  </thead>\n",
       "  <tbody>\n",
       "    <tr>\n",
       "      <th>0</th>\n",
       "      <td>Afghanistan</td>\n",
       "      <td>1952</td>\n",
       "      <td>8425333.0</td>\n",
       "      <td>Asia</td>\n",
       "      <td>28.801</td>\n",
       "      <td>779.445314</td>\n",
       "    </tr>\n",
       "    <tr>\n",
       "      <th>1</th>\n",
       "      <td>Afghanistan</td>\n",
       "      <td>1957</td>\n",
       "      <td>9240934.0</td>\n",
       "      <td>Asia</td>\n",
       "      <td>30.332</td>\n",
       "      <td>820.853030</td>\n",
       "    </tr>\n",
       "    <tr>\n",
       "      <th>2</th>\n",
       "      <td>Afghanistan</td>\n",
       "      <td>1962</td>\n",
       "      <td>10267083.0</td>\n",
       "      <td>Asia</td>\n",
       "      <td>31.997</td>\n",
       "      <td>853.100710</td>\n",
       "    </tr>\n",
       "    <tr>\n",
       "      <th>3</th>\n",
       "      <td>Afghanistan</td>\n",
       "      <td>1967</td>\n",
       "      <td>11537966.0</td>\n",
       "      <td>Asia</td>\n",
       "      <td>34.020</td>\n",
       "      <td>836.197138</td>\n",
       "    </tr>\n",
       "    <tr>\n",
       "      <th>4</th>\n",
       "      <td>Afghanistan</td>\n",
       "      <td>1972</td>\n",
       "      <td>13079460.0</td>\n",
       "      <td>Asia</td>\n",
       "      <td>36.088</td>\n",
       "      <td>739.981106</td>\n",
       "    </tr>\n",
       "  </tbody>\n",
       "</table>\n",
       "</div>"
      ],
      "text/plain": [
       "       country  year         pop continent  lifeExp   gdpPercap\n",
       "0  Afghanistan  1952   8425333.0      Asia   28.801  779.445314\n",
       "1  Afghanistan  1957   9240934.0      Asia   30.332  820.853030\n",
       "2  Afghanistan  1962  10267083.0      Asia   31.997  853.100710\n",
       "3  Afghanistan  1967  11537966.0      Asia   34.020  836.197138\n",
       "4  Afghanistan  1972  13079460.0      Asia   36.088  739.981106"
      ]
     },
     "execution_count": 5,
     "metadata": {},
     "output_type": "execute_result"
    }
   ],
   "source": [
    "# Exibindo os 5 primeiros dados do dataset para melhor visualização\n",
    "df.head(5)"
   ]
  },
  {
   "cell_type": "code",
   "execution_count": null,
   "id": "eda62a73",
   "metadata": {},
   "outputs": [
    {
     "data": {
      "application/vnd.microsoft.datawrangler.viewer.v0+json": {
       "columns": [
        {
         "name": "index",
         "rawType": "int64",
         "type": "integer"
        },
        {
         "name": "country",
         "rawType": "object",
         "type": "string"
        },
        {
         "name": "year",
         "rawType": "int64",
         "type": "integer"
        },
        {
         "name": "pop",
         "rawType": "float64",
         "type": "float"
        },
        {
         "name": "continent",
         "rawType": "object",
         "type": "string"
        },
        {
         "name": "lifeExp",
         "rawType": "float64",
         "type": "float"
        },
        {
         "name": "gdpPercap",
         "rawType": "float64",
         "type": "float"
        }
       ],
       "ref": "850d8a85-1631-4e90-9471-c13a9cec700f",
       "rows": [
        [
         "1731",
         "Zimbabwe",
         "1987",
         "9216418.0",
         "Africa",
         "62.351",
         "706.1573059"
        ],
        [
         "1732",
         "Zimbabwe",
         "1992",
         "10704340.0",
         "Africa",
         "60.377",
         "693.4207856"
        ],
        [
         "1733",
         "Zimbabwe",
         "1997",
         "11404948.0",
         "Africa",
         "46.809",
         "792.4499603"
        ],
        [
         "1734",
         "Zimbabwe",
         "2002",
         "11926563.0",
         "Africa",
         "39.989",
         "672.0386227"
        ],
        [
         "1735",
         "Zimbabwe",
         "2007",
         "12311143.0",
         "Africa",
         "43.487",
         "469.7092981"
        ]
       ],
       "shape": {
        "columns": 6,
        "rows": 5
       }
      },
      "text/html": [
       "<div>\n",
       "<style scoped>\n",
       "    .dataframe tbody tr th:only-of-type {\n",
       "        vertical-align: middle;\n",
       "    }\n",
       "\n",
       "    .dataframe tbody tr th {\n",
       "        vertical-align: top;\n",
       "    }\n",
       "\n",
       "    .dataframe thead th {\n",
       "        text-align: right;\n",
       "    }\n",
       "</style>\n",
       "<table border=\"1\" class=\"dataframe\">\n",
       "  <thead>\n",
       "    <tr style=\"text-align: right;\">\n",
       "      <th></th>\n",
       "      <th>country</th>\n",
       "      <th>year</th>\n",
       "      <th>pop</th>\n",
       "      <th>continent</th>\n",
       "      <th>lifeExp</th>\n",
       "      <th>gdpPercap</th>\n",
       "    </tr>\n",
       "  </thead>\n",
       "  <tbody>\n",
       "    <tr>\n",
       "      <th>1731</th>\n",
       "      <td>Zimbabwe</td>\n",
       "      <td>1987</td>\n",
       "      <td>9216418.0</td>\n",
       "      <td>Africa</td>\n",
       "      <td>62.351</td>\n",
       "      <td>706.157306</td>\n",
       "    </tr>\n",
       "    <tr>\n",
       "      <th>1732</th>\n",
       "      <td>Zimbabwe</td>\n",
       "      <td>1992</td>\n",
       "      <td>10704340.0</td>\n",
       "      <td>Africa</td>\n",
       "      <td>60.377</td>\n",
       "      <td>693.420786</td>\n",
       "    </tr>\n",
       "    <tr>\n",
       "      <th>1733</th>\n",
       "      <td>Zimbabwe</td>\n",
       "      <td>1997</td>\n",
       "      <td>11404948.0</td>\n",
       "      <td>Africa</td>\n",
       "      <td>46.809</td>\n",
       "      <td>792.449960</td>\n",
       "    </tr>\n",
       "    <tr>\n",
       "      <th>1734</th>\n",
       "      <td>Zimbabwe</td>\n",
       "      <td>2002</td>\n",
       "      <td>11926563.0</td>\n",
       "      <td>Africa</td>\n",
       "      <td>39.989</td>\n",
       "      <td>672.038623</td>\n",
       "    </tr>\n",
       "    <tr>\n",
       "      <th>1735</th>\n",
       "      <td>Zimbabwe</td>\n",
       "      <td>2007</td>\n",
       "      <td>12311143.0</td>\n",
       "      <td>Africa</td>\n",
       "      <td>43.487</td>\n",
       "      <td>469.709298</td>\n",
       "    </tr>\n",
       "  </tbody>\n",
       "</table>\n",
       "</div>"
      ],
      "text/plain": [
       "       country  year         pop continent  lifeExp   gdpPercap\n",
       "1731  Zimbabwe  1987   9216418.0    Africa   62.351  706.157306\n",
       "1732  Zimbabwe  1992  10704340.0    Africa   60.377  693.420786\n",
       "1733  Zimbabwe  1997  11404948.0    Africa   46.809  792.449960\n",
       "1734  Zimbabwe  2002  11926563.0    Africa   39.989  672.038623\n",
       "1735  Zimbabwe  2007  12311143.0    Africa   43.487  469.709298"
      ]
     },
     "execution_count": 6,
     "metadata": {},
     "output_type": "execute_result"
    }
   ],
   "source": [
    "# Exibindo os 5 últimos dados do dataset para melhor visualização\n",
    "df.tail(5)"
   ]
  },
  {
   "cell_type": "markdown",
   "id": "08afdd3a",
   "metadata": {},
   "source": [
    "# 3. Limpeza dos Dados\n",
    "\n",
    "Prepararando os dados, tratando inconsistências e identificando padrões iniciais"
   ]
  },
  {
   "cell_type": "code",
   "execution_count": null,
   "id": "203fd148",
   "metadata": {},
   "outputs": [
    {
     "name": "stdout",
     "output_type": "stream",
     "text": [
      "Total de linhas duplicadas: 32\n"
     ]
    }
   ],
   "source": [
    "# Analisar os dados duplicados\n",
    "num_duplicados = df.duplicated().sum()\n",
    "print(f\"Total de linhas duplicadas: {num_duplicados}\")"
   ]
  },
  {
   "cell_type": "code",
   "execution_count": null,
   "id": "5bbe7c1a",
   "metadata": {},
   "outputs": [
    {
     "name": "stdout",
     "output_type": "stream",
     "text": [
      "         country  year         pop continent  lifeExp     gdpPercap\n",
      "9    Afghanistan  1997  22227415.0      Asia   41.763    635.341351\n",
      "72   Afghanistan  1997  22227415.0      Asia   41.763    635.341351\n",
      "120      Belgium  2007  10392226.0    Europe   79.441  33692.605080\n",
      "140      Bolivia  1987   6156369.0  Americas   57.251   2753.691490\n",
      "141      Bolivia  1992   6893451.0  Americas   59.957   2961.699694\n",
      "..           ...   ...         ...       ...      ...           ...\n",
      "644       Guinea  1952   2664249.0    Africa   33.609    510.196492\n",
      "645       Guinea  1957   2876726.0    Africa   34.558    576.267025\n",
      "646       Guinea  1962   3140003.0    Africa   35.753    686.373674\n",
      "647       Guinea  1967   3451418.0    Africa   37.197    708.759541\n",
      "648       Guinea  1972   3811387.0    Africa   38.842    741.666231\n",
      "\n",
      "[64 rows x 6 columns]\n"
     ]
    }
   ],
   "source": [
    "# Visualizar os dados que estão duplicados\n",
    "duplicados = df[df.duplicated(keep=False)]\n",
    "print(duplicados)"
   ]
  },
  {
   "cell_type": "code",
   "execution_count": null,
   "id": "0a8acdd5",
   "metadata": {},
   "outputs": [],
   "source": [
    "# Eliminar dados duplicados\n",
    "df = df.drop_duplicates()"
   ]
  },
  {
   "cell_type": "code",
   "execution_count": null,
   "id": "84485d14",
   "metadata": {},
   "outputs": [
    {
     "name": "stdout",
     "output_type": "stream",
     "text": [
      "Total de linhas duplicadas: 0\n"
     ]
    }
   ],
   "source": [
    "# Analisar os dados duplicados - DEFINIR FUNCAO\n",
    "num_duplicados = df.duplicated().sum()\n",
    "print(f\"Total de linhas duplicadas: {num_duplicados}\")"
   ]
  },
  {
   "cell_type": "code",
   "execution_count": null,
   "id": "aa7d5568",
   "metadata": {},
   "outputs": [
    {
     "name": "stdout",
     "output_type": "stream",
     "text": [
      "country      0\n",
      "year         0\n",
      "pop          0\n",
      "continent    0\n",
      "lifeExp      0\n",
      "gdpPercap    0\n",
      "dtype: int64\n"
     ]
    }
   ],
   "source": [
    "# Visualizar dados ausentes\n",
    "print(df.isnull().sum())"
   ]
  },
  {
   "cell_type": "markdown",
   "id": "3f3071b5",
   "metadata": {},
   "source": [
    "# 3. Funções de Visualização e Análise Gráfica\n",
    "\n",
    " Criar funções reutilizáveis para gerar gráficos e apoiar a análise"
   ]
  },
  {
   "cell_type": "code",
   "execution_count": null,
   "id": "3ef19e97",
   "metadata": {},
   "outputs": [
    {
     "data": {
      "text/plain": [
       "Text(0, 0.5, 'Exp de Vida')"
      ]
     },
     "execution_count": 12,
     "metadata": {},
     "output_type": "execute_result"
    },
    {
     "data": {
      "image/png": "[encoded data removed]",
      "text/plain": [
       "<Figure size 640x480 with 1 Axes>"
      ]
     },
     "metadata": {},
     "output_type": "display_data"
    }
   ],
   "source": [
    "expVidaAnos = df.groupby('year')['lifeExp'].mean()\n",
    "expVidaAnos.plot(title='Média de Expectativa de Vida ao Longo dos Anos')\n",
    "plt.xlabel('Ano')\n",
    "plt.ylabel('Exp de Vida')"
   ]
  },
  {
   "cell_type": "code",
   "execution_count": null,
   "id": "6e7acd9f",
   "metadata": {},
   "outputs": [
    {
     "data": {
      "text/plain": [
       "Text(0, 0.5, '$')"
      ]
     },
     "execution_count": 13,
     "metadata": {},
     "output_type": "execute_result"
    },
    {
     "data": {
      "image/png": "[encoded data removed]",
      "text/plain": [
       "<Figure size 640x480 with 1 Axes>"
      ]
     },
     "metadata": {},
     "output_type": "display_data"
    }
   ],
   "source": [
    "pibAnos = df.groupby('year')['gdpPercap'].mean()\n",
    "pibAnos.plot(title='Média do Pib ao Longo dos Anos')\n",
    "plt.xlabel('Ano')\n",
    "plt.ylabel('$')"
   ]
  },
  {
   "cell_type": "code",
   "execution_count": null,
   "id": "424473a1",
   "metadata": {},
   "outputs": [
    {
     "data": {
      "text/plain": [
       "Text(0, 0.5, 'População (em Bilhões)')"
      ]
     },
     "execution_count": 14,
     "metadata": {},
     "output_type": "execute_result"
    },
    {
     "data": {
      "image/png": "[encoded data removed]",
      "text/plain": [
       "<Figure size 640x480 with 1 Axes>"
      ]
     },
     "metadata": {},
     "output_type": "display_data"
    }
   ],
   "source": [
    "populacaoAnos = df.groupby('year')['pop'].sum()\n",
    "(populacaoAnos/1e9).plot(title='Média de População ao Longo dos Anos')\n",
    "plt.xlabel('Ano')\n",
    "plt.ylabel('População (em Bilhões)')"
   ]
  },
  {
   "cell_type": "code",
   "execution_count": null,
   "id": "de76a6b3",
   "metadata": {},
   "outputs": [
    {
     "name": "stderr",
     "output_type": "stream",
     "text": [
      "C:\\Users\\Felipe Bochosk\\AppData\\Local\\Temp\\ipykernel_10928\\2411627791.py:1: FutureWarning: \n",
      "\n",
      "Passing `palette` without assigning `hue` is deprecated and will be removed in v0.14.0. Assign the `y` variable to `hue` and set `legend=False` for the same effect.\n",
      "\n",
      "  sns.countplot(df['continent'], palette='Set2')\n"
     ]
    },
    {
     "data": {
      "image/png": "[encoded data removed]",
      "text/plain": [
       "<Figure size 640x480 with 1 Axes>"
      ]
     },
     "metadata": {},
     "output_type": "display_data"
    }
   ],
   "source": [
    "sns.countplot(df['continent'], palette='Set2')\n",
    "plt.xlabel('Qtde')\n",
    "plt.ylabel('Continentes')\n",
    "plt.title('Quantidade de Países por Continente')\n",
    "plt.show()"
   ]
  },
  {
   "cell_type": "code",
   "execution_count": null,
   "id": "15e9cba7",
   "metadata": {},
   "outputs": [
    {
     "data": {
      "image/png": "[encoded data removed]",
      "text/plain": [
       "<Figure size 640x480 with 1 Axes>"
      ]
     },
     "metadata": {},
     "output_type": "display_data"
    }
   ],
   "source": [
    "sns.scatterplot(data=df, x='gdpPercap', y='lifeExp', hue='year')\n",
    "plt.show()"
   ]
  },
  {
   "cell_type": "code",
   "execution_count": null,
   "id": "3397f636",
   "metadata": {},
   "outputs": [
    {
     "data": {
      "image/png": "[encoded data removed]",
      "text/plain": [
       "<Figure size 640x480 with 1 Axes>"
      ]
     },
     "metadata": {},
     "output_type": "display_data"
    }
   ],
   "source": [
    "sns.scatterplot(data=df, x='year', y='gdpPercap')\n",
    "plt.show()"
   ]
  },
  {
   "cell_type": "code",
   "execution_count": null,
   "id": "ba11bb34",
   "metadata": {},
   "outputs": [
    {
     "data": {
      "image/png": "[encoded data removed]",
      "text/plain": [
       "<Figure size 640x480 with 1 Axes>"
      ]
     },
     "metadata": {},
     "output_type": "display_data"
    }
   ],
   "source": [
    "sns.scatterplot(data=df, x='year', y='lifeExp')\n",
    "plt.show()"
   ]
  },
  {
   "cell_type": "code",
   "execution_count": null,
   "id": "578edee9",
   "metadata": {},
   "outputs": [
    {
     "name": "stderr",
     "output_type": "stream",
     "text": [
      "C:\\Users\\Felipe Bochosk\\AppData\\Local\\Temp\\ipykernel_10928\\2810715446.py:2: FutureWarning: \n",
      "\n",
      "Passing `palette` without assigning `hue` is deprecated and will be removed in v0.14.0. Assign the `x` variable to `hue` and set `legend=False` for the same effect.\n",
      "\n",
      "  sns.boxplot(data=df, x='continent', y='lifeExp', palette='tab10')\n"
     ]
    },
    {
     "data": {
      "image/png": "[encoded data removed]",
      "text/plain": [
       "<Figure size 800x500 with 1 Axes>"
      ]
     },
     "metadata": {},
     "output_type": "display_data"
    }
   ],
   "source": [
    "plt.figure(figsize=(8,5))\n",
    "sns.boxplot(data=df, x='continent', y='lifeExp', palette='tab10')\n",
    "plt.title(f\"Expectativa de Vida por Continente\")\n",
    "plt.show()"
   ]
  },
  {
   "cell_type": "code",
   "execution_count": null,
   "id": "764aa3ed",
   "metadata": {},
   "outputs": [
    {
     "name": "stderr",
     "output_type": "stream",
     "text": [
      "C:\\Users\\Felipe Bochosk\\AppData\\Local\\Temp\\ipykernel_10928\\601583141.py:2: FutureWarning: \n",
      "\n",
      "Passing `palette` without assigning `hue` is deprecated and will be removed in v0.14.0. Assign the `x` variable to `hue` and set `legend=False` for the same effect.\n",
      "\n",
      "  sns.boxplot(data=df, x='continent', y='gdpPercap', palette='tab10')\n"
     ]
    },
    {
     "data": {
      "image/png": "[encoded data removed]",
      "text/plain": [
       "<Figure size 800x500 with 1 Axes>"
      ]
     },
     "metadata": {},
     "output_type": "display_data"
    }
   ],
   "source": [
    "plt.figure(figsize=(8,5))\n",
    "sns.boxplot(data=df, x='continent', y='gdpPercap', palette='tab10')\n",
    "plt.title(f\"Expectativa de Vida por Continente\")\n",
    "plt.show()"
   ]
  },
  {
   "cell_type": "code",
   "execution_count": null,
   "id": "efc56a4d",
   "metadata": {},
   "outputs": [
    {
     "data": {
      "image/png": "[encoded data removed]",
      "text/plain": [
       "<Figure size 1500x300 with 5 Axes>"
      ]
     },
     "metadata": {},
     "output_type": "display_data"
    }
   ],
   "source": [
    "g = sns.FacetGrid(df, col='continent', hue='continent')\n",
    "g = g.map(plt.scatter, 'year', 'gdpPercap')\n",
    "plt.suptitle(\"Pib dos Continentes 1952-2007\", fontsize=15, y=1.20)\n",
    "plt.show()"
   ]
  },
  {
   "cell_type": "code",
   "execution_count": null,
   "id": "397b650a",
   "metadata": {},
   "outputs": [
    {
     "data": {
      "image/png": "[encoded data removed]",
      "text/plain": [
       "<Figure size 1500x300 with 5 Axes>"
      ]
     },
     "metadata": {},
     "output_type": "display_data"
    }
   ],
   "source": [
    "g = sns.FacetGrid(df, col='continent', hue='continent')\n",
    "g = g.map(plt.scatter, 'year', 'pop')\n",
    "plt.suptitle(\"Populações dos Continentes 1952-2007\", fontsize=15, y=1.20)\n",
    "plt.show()"
   ]
  },
  {
   "cell_type": "code",
   "execution_count": null,
   "id": "aba62d9b",
   "metadata": {},
   "outputs": [
    {
     "data": {
      "image/png": "[encoded data removed]",
      "text/plain": [
       "<Figure size 640x480 with 1 Axes>"
      ]
     },
     "metadata": {},
     "output_type": "display_data"
    }
   ],
   "source": [
    "sns.stripplot(data=df, x='year', y='pop')\n",
    "plt.title(\"População Total de 1952-2007\")\n",
    "plt.show()"
   ]
  },
  {
   "cell_type": "code",
   "execution_count": null,
   "id": "23e74b53",
   "metadata": {},
   "outputs": [
    {
     "data": {
      "image/png": "[encoded data removed]",
      "text/plain": [
       "<Figure size 1000x600 with 1 Axes>"
      ]
     },
     "metadata": {},
     "output_type": "display_data"
    }
   ],
   "source": [
    "top5_por_ano = (\n",
    "    df.sort_values([\"year\", \"lifeExp\"], ascending=[True, False])\n",
    "      .groupby(\"year\")\n",
    "      .head(5)\n",
    ")\n",
    "\n",
    "plt.figure(figsize=(10,6))\n",
    "\n",
    "for country in top5_por_ano[\"country\"].unique():\n",
    "    data = top5_por_ano[top5_por_ano[\"country\"] == country]\n",
    "    plt.plot(data[\"year\"], data[\"lifeExp\"], marker=\"o\", label=country)\n",
    "\n",
    "plt.title(\"Top 5 países com maior expectativa de vida em cada ano\")\n",
    "plt.xlabel(\"Ano\")\n",
    "plt.ylabel(\"Expectativa de vida (anos)\")\n",
    "plt.legend(title=\"País\")\n",
    "plt.grid(True)\n",
    "plt.show()"
   ]
  },
  {
   "cell_type": "code",
   "execution_count": null,
   "id": "e1bfb1fa",
   "metadata": {},
   "outputs": [
    {
     "data": {
      "image/png": "[encoded data removed]",
      "text/plain": [
       "<Figure size 1000x600 with 1 Axes>"
      ]
     },
     "metadata": {},
     "output_type": "display_data"
    }
   ],
   "source": [
    "top5_por_ano = (\n",
    "    df.sort_values([\"year\", \"gdpPercap\"], ascending=[True, False])\n",
    "      .groupby(\"year\")\n",
    "      .head(5)\n",
    ")\n",
    "\n",
    "plt.figure(figsize=(10,6))\n",
    "\n",
    "for country in top5_por_ano[\"country\"].unique():\n",
    "    data = top5_por_ano[top5_por_ano[\"country\"] == country]\n",
    "    plt.plot(data[\"year\"], data[\"gdpPercap\"], marker=\"o\", label=country)\n",
    "\n",
    "plt.title(\"Top 5 países com maior pib em cada ano\")\n",
    "plt.xlabel(\"Ano\")\n",
    "plt.ylabel(\"Pib\")\n",
    "plt.legend(title=\"País\")\n",
    "plt.grid(True)\n",
    "plt.show()"
   ]
  },
  {
   "cell_type": "code",
   "execution_count": null,
   "id": "9efe6e5f",
   "metadata": {},
   "outputs": [
    {
     "name": "stderr",
     "output_type": "stream",
     "text": [
      "C:\\Users\\Felipe Bochosk\\AppData\\Local\\Temp\\ipykernel_10928\\2574609778.py:1: DeprecationWarning:\n",
      "\n",
      "The library used by the *country names* `locationmode` option is changing in an upcoming version. Country names in existing plots may not work in the new version. To ensure consistent behavior, consider setting `locationmode` to *ISO-3*.\n",
      "\n"
     ]
    },
    {
     "data": {
      "application/vnd.plotly.v1+json": {
       "config": {
        "plotlyServerURL": "https://plot.ly"
       },
       "data": [
        {
         "geo": "geo",
         "hovertemplate": "<b>%{hovertext}</b><br><br>continent=Asia<br>year=1952<br>pop=%{marker.size}<br>country=%{location}<extra></extra>",
         "hovertext": [
          "Afghanistan",
          "Bahrain",
          "Bangladesh",
          "Cambodia",
          "China",
          "Hong Kong China",
          "India",
          "Indonesia",
          "Iran",
          "Iraq",
          "Israel",
          "Japan",
          "Jordan",
          "Korea Dem. Rep.",
          "Korea Rep.",
          "Kuwait",
          "Lebanon",
          "Malaysia",
          "Mongolia",
          "Myanmar",
          "Nepal",
          "Oman",
          "Pakistan",
          "Philippines",
          "Saudi Arabia",
          "Singapore",
          "Sri Lanka",
          "Syria",
          "Taiwan",
          "Thailand",
          "Vietnam",
          "West Bank and Gaza",
          "Yemen Rep."
         ],
         "legendgroup": "Asia",
         "locationmode": "country names",
         "locations": [
          "Afghanistan",
          "Bahrain",
          "Bangladesh",
          "Cambodia",
          "China",
          "Hong Kong China",
          "India",
          "Indonesia",
          "Iran",
          "Iraq",
          "Israel",
          "Japan",
          "Jordan",
          "Korea Dem. Rep.",
          "Korea Rep.",
          "Kuwait",
          "Lebanon",
          "Malaysia",
          "Mongolia",
          "Myanmar",
          "Nepal",
          "Oman",
          "Pakistan",
          "Philippines",
          "Saudi Arabia",
          "Singapore",
          "Sri Lanka",
          "Syria",
          "Taiwan",
          "Thailand",
          "Vietnam",
          "West Bank and Gaza",
          "Yemen Rep."
         ],
         "marker": {
          "color": "#636efa",
          "size": {
           "bdata": "AAAAoO4RYEEAAAAA8Gf9QAAAAFh+W4ZBAAAAANPnUUGk//8z9JPAQQAAAAAmOEBBAAAAAEUstkEAAACADpCTQQAAAADMeHBBAAAAgDnCVEEAAAAAsrs4QQAAAEQKnZRBAAAAAFSNIkEAAAAA2uhgQQAAADAn+nNBAAAAAACIA0EAAAAAKfc1QQAAAIA2vllBAAAAAC5vKEEAAABAhClzQQAAAACpg2FBAAAAAOT+HkEAAAAAMLeDQQAAADAyZnVBAAAAgJaPTkEAAAAAWDIxQQAAAIBBc15BAAAAgHbvS0EAAABA+05gQQAAAKCbTXRBAAAAcOsHeUEAAAAAcnMvQQAAAEB971JB",
           "dtype": "f8"
          },
          "sizemode": "area",
          "sizeref": 3296707.74,
          "symbol": "circle"
         },
         "mode": "markers",
         "name": "Asia",
         "showlegend": true,
         "type": "scattergeo"
        },
        {
         "geo": "geo",
         "hovertemplate": "<b>%{hovertext}</b><br><br>continent=Europe<br>year=1952<br>pop=%{marker.size}<br>country=%{location}<extra></extra>",
         "hovertext": [
          "Albania",
          "Austria",
          "Belgium",
          "Bosnia and Herzegovina",
          "Bulgaria",
          "Croatia",
          "Czech Republic",
          "Denmark",
          "Finland",
          "France",
          "Germany",
          "Greece",
          "Hungary",
          "Iceland",
          "Ireland",
          "Italy",
          "Montenegro",
          "Netherlands",
          "Norway",
          "Poland",
          "Portugal",
          "Romania",
          "Serbia",
          "Slovak Republic",
          "Slovenia",
          "Spain",
          "Sweden",
          "Switzerland",
          "Turkey",
          "United Kingdom"
         ],
         "legendgroup": "Europe",
         "locationmode": "country names",
         "locations": [
          "Albania",
          "Austria",
          "Belgium",
          "Bosnia and Herzegovina",
          "Bulgaria",
          "Croatia",
          "Czech Republic",
          "Denmark",
          "Finland",
          "France",
          "Germany",
          "Greece",
          "Hungary",
          "Iceland",
          "Ireland",
          "Italy",
          "Montenegro",
          "Netherlands",
          "Norway",
          "Poland",
          "Portugal",
          "Romania",
          "Serbia",
          "Slovak Republic",
          "Slovenia",
          "Spain",
          "Sweden",
          "Switzerland",
          "Turkey",
          "United Kingdom"
         ],
         "marker": {
          "color": "#EF553B",
          "size": {
           "bdata": "AAAAAImSM0EAAAAAZ21aQQAAAKDkpmBBAAAAACxLRUEAAAAAZcBbQQAAAIB6nk1BAAAA4KdnYUEAAAAAbIhQQQAAAABCNU9BAAAAmBA/hEEAAACAVXyQQQAAAIAAgF1BAAAAAKAgYkEAAAAA0A8CQQAAAADuhUZBAAAAgJq6hkEAAAAAKEIZQQAAAIBUzWNBAAAAAHhjSUEAAABw34l4QQAAAEAcQ2BBAAAAAB64b0EAAADAXCtaQQAAAIB8JUtBAAAAAG66NkEAAADgLjp7QQAAAECwLVtBAAAAACZeUkEAAADQoTR1QQAAAIABDIhB",
           "dtype": "f8"
          },
          "sizemode": "area",
          "sizeref": 3296707.74,
          "symbol": "circle"
         },
         "mode": "markers",
         "name": "Europe",
         "showlegend": true,
         "type": "scattergeo"
        },
        {
         "geo": "geo",
         "hovertemplate": "<b>%{hovertext}</b><br><br>continent=Africa<br>year=1952<br>pop=%{marker.size}<br>country=%{location}<extra></extra>",
         "hovertext": [
          "Algeria",
          "Angola",
          "Benin",
          "Botswana",
          "Burkina Faso",
          "Burundi",
          "Cameroon",
          "Central African Republic",
          "Chad",
          "Comoros",
          "Congo Dem. Rep.",
          "Congo Rep.",
          "Cote d'Ivoire",
          "Djibouti",
          "Egypt",
          "Equatorial Guinea",
          "Eritrea",
          "Ethiopia",
          "Gabon",
          "Gambia",
          "Ghana",
          "Guinea",
          "Guinea-Bissau",
          "Kenya",
          "Lesotho",
          "Liberia",
          "Libya",
          "Madagascar",
          "Malawi",
          "Mali",
          "Mauritania",
          "Mauritius",
          "Morocco",
          "Mozambique",
          "Namibia",
          "Niger",
          "Nigeria",
          "Reunion",
          "Rwanda",
          "Sao Tome and Principe",
          "Senegal",
          "Sierra Leone",
          "Somalia",
          "South Africa",
          "Sudan",
          "Swaziland",
          "Tanzania",
          "Togo",
          "Tunisia",
          "Uganda",
          "Zambia",
          "Zimbabwe"
         ],
         "legendgroup": "Africa",
         "locationmode": "country names",
         "locations": [
          "Algeria",
          "Angola",
          "Benin",
          "Botswana",
          "Burkina Faso",
          "Burundi",
          "Cameroon",
          "Central African Republic",
          "Chad",
          "Comoros",
          "Congo Dem. Rep.",
          "Congo Rep.",
          "Cote d'Ivoire",
          "Djibouti",
          "Egypt",
          "Equatorial Guinea",
          "Eritrea",
          "Ethiopia",
          "Gabon",
          "Gambia",
          "Ghana",
          "Guinea",
          "Guinea-Bissau",
          "Kenya",
          "Lesotho",
          "Liberia",
          "Libya",
          "Madagascar",
          "Malawi",
          "Mali",
          "Mauritania",
          "Mauritius",
          "Morocco",
          "Mozambique",
          "Namibia",
          "Niger",
          "Nigeria",
          "Reunion",
          "Rwanda",
          "Sao Tome and Principe",
          "Senegal",
          "Sierra Leone",
          "Somalia",
          "South Africa",
          "Sudan",
          "Swaziland",
          "Tanzania",
          "Togo",
          "Tunisia",
          "Uganda",
          "Zambia",
          "Zimbabwe"
         ],
         "marker": {
          "color": "#00cc96",
          "size": {
           "bdata": "AAAAoASzYUEAAADA5yRQQQAAAABLhjpBAAAAABD/GkEAAADANg1RQQAAAACZqEJBAAAAwKobU0EAAAAAr7UzQQAAAAAvd0RBAAAAAIDKAkEAAACgxORqQQAAAADKFipBAAAAgH22RkEAAAAAoNXuQAAAANCcMXVBAAAAACB8CkEAAAAAKPQ1QQAAANAA5XNBAAAAAHitGUEAAAAAgFoRQQAAAEAySlVBAAAAgJxTREEAAAAAWrghQQAAAICLqFhBAAAAAJbZJkEAAAAAmFgqQQAAAACiHi9BAAAAAEgrUkEAAAAA1UJGQQAAAABsSE1BAAAAALg0L0EAAAAAMIcfQQAAACAi9WJBAAAAADuXWEEAAAAAHKcdQQAAAACGyElBAAAAgLeVf0EAAAAAIHUPQQAAAIAHV0NBAAAAAGBN7UAAAACAAgZFQQAAAIAIWkBBAAAAAIlHQ0EAAADgTDVrQQAAAGCrOGBBAAAAAAy3EUEAAABA279fQQAAAAApmjJBAAAAgHvUS0EAAABARzhWQQAAAADAYkRBAAAAgGWBR0E=",
           "dtype": "f8"
          },
          "sizemode": "area",
          "sizeref": 3296707.74,
          "symbol": "circle"
         },
         "mode": "markers",
         "name": "Africa",
         "showlegend": true,
         "type": "scattergeo"
        },
        {
         "geo": "geo",
         "hovertemplate": "<b>%{hovertext}</b><br><br>continent=Americas<br>year=1952<br>pop=%{marker.size}<br>country=%{location}<extra></extra>",
         "hovertext": [
          "Argentina",
          "Bolivia",
          "Brazil",
          "Canada",
          "Chile",
          "Colombia",
          "Costa Rica",
          "Cuba",
          "Dominican Republic",
          "Ecuador",
          "El Salvador",
          "Guatemala",
          "Haiti",
          "Honduras",
          "Jamaica",
          "Mexico",
          "Nicaragua",
          "Panama",
          "Paraguay",
          "Peru",
          "Puerto Rico",
          "Trinidad and Tobago",
          "United States",
          "Uruguay",
          "Venezuela"
         ],
         "legendgroup": "Americas",
         "locationmode": "country names",
         "locations": [
          "Argentina",
          "Bolivia",
          "Brazil",
          "Canada",
          "Chile",
          "Colombia",
          "Costa Rica",
          "Cuba",
          "Dominican Republic",
          "Ecuador",
          "El Salvador",
          "Guatemala",
          "Haiti",
          "Honduras",
          "Jamaica",
          "Mexico",
          "Nicaragua",
          "Panama",
          "Paraguay",
          "Peru",
          "Puerto Rico",
          "Trinidad and Tobago",
          "United States",
          "Uruguay",
          "Venezuela"
         ],
         "marker": {
          "color": "#ab63fa",
          "size": {
           "bdata": "AAAAwH0McUEAAACAef9FQQAAAAB+/YpBAAAAAIYzbEEAAADAJFRYQQAAAGCmjmdBAAAAANpELEEAAABA/epWQQAAAADpAUNBAAAAgCgTS0EAAAAA8Ss/QQAAAIBGAUhBAAAAAOhsSEEAAAAAjSc3QQAAAACvwjVBAAAA0HO/fEEAAAAA3skxQQAAAABgsCxBAAAAAKS9N0EAAAAAmZ1eQQAAAACc/UBBAAAAAIQ6JEEAAADQIsiiQQAAAIBSMEFBAAAAABTAVEE=",
           "dtype": "f8"
          },
          "sizemode": "area",
          "sizeref": 3296707.74,
          "symbol": "circle"
         },
         "mode": "markers",
         "name": "Americas",
         "showlegend": true,
         "type": "scattergeo"
        },
        {
         "geo": "geo",
         "hovertemplate": "<b>%{hovertext}</b><br><br>continent=Oceania<br>year=1952<br>pop=%{marker.size}<br>country=%{location}<extra></extra>",
         "hovertext": [
          "Australia",
          "New Zealand"
         ],
         "legendgroup": "Oceania",
         "locationmode": "country names",
         "locations": [
          "Australia",
          "New Zealand"
         ],
         "marker": {
          "color": "#FFA15A",
          "size": {
           "bdata": "AAAAgMGTYEEAAAAAKnA+QQ==",
           "dtype": "f8"
          },
          "sizemode": "area",
          "sizeref": 3296707.74,
          "symbol": "circle"
         },
         "mode": "markers",
         "name": "Oceania",
         "showlegend": true,
         "type": "scattergeo"
        }
       ],
       "frames": [
        {
         "data": [
          {
           "geo": "geo",
           "hovertemplate": "<b>%{hovertext}</b><br><br>continent=Asia<br>year=1952<br>pop=%{marker.size}<br>country=%{location}<extra></extra>",
           "hovertext": [
            "Afghanistan",
            "Bahrain",
            "Bangladesh",
            "Cambodia",
            "China",
            "Hong Kong China",
            "India",
            "Indonesia",
            "Iran",
            "Iraq",
            "Israel",
            "Japan",
            "Jordan",
            "Korea Dem. Rep.",
            "Korea Rep.",
            "Kuwait",
            "Lebanon",
            "Malaysia",
            "Mongolia",
            "Myanmar",
            "Nepal",
            "Oman",
            "Pakistan",
            "Philippines",
            "Saudi Arabia",
            "Singapore",
            "Sri Lanka",
            "Syria",
            "Taiwan",
            "Thailand",
            "Vietnam",
            "West Bank and Gaza",
            "Yemen Rep."
           ],
           "legendgroup": "Asia",
           "locationmode": "country names",
           "locations": [
            "Afghanistan",
            "Bahrain",
            "Bangladesh",
            "Cambodia",
            "China",
            "Hong Kong China",
            "India",
            "Indonesia",
            "Iran",
            "Iraq",
            "Israel",
            "Japan",
            "Jordan",
            "Korea Dem. Rep.",
            "Korea Rep.",
            "Kuwait",
            "Lebanon",
            "Malaysia",
            "Mongolia",
            "Myanmar",
            "Nepal",
            "Oman",
            "Pakistan",
            "Philippines",
            "Saudi Arabia",
            "Singapore",
            "Sri Lanka",
            "Syria",
            "Taiwan",
            "Thailand",
            "Vietnam",
            "West Bank and Gaza",
            "Yemen Rep."
           ],
           "marker": {
            "color": "#636efa",
            "size": {
             "bdata": "AAAAoO4RYEEAAAAA8Gf9QAAAAFh+W4ZBAAAAANPnUUGk//8z9JPAQQAAAAAmOEBBAAAAAEUstkEAAACADpCTQQAAAADMeHBBAAAAgDnCVEEAAAAAsrs4QQAAAEQKnZRBAAAAAFSNIkEAAAAA2uhgQQAAADAn+nNBAAAAAACIA0EAAAAAKfc1QQAAAIA2vllBAAAAAC5vKEEAAABAhClzQQAAAACpg2FBAAAAAOT+HkEAAAAAMLeDQQAAADAyZnVBAAAAgJaPTkEAAAAAWDIxQQAAAIBBc15BAAAAgHbvS0EAAABA+05gQQAAAKCbTXRBAAAAcOsHeUEAAAAAcnMvQQAAAEB971JB",
             "dtype": "f8"
            },
            "sizemode": "area",
            "sizeref": 3296707.74,
            "symbol": "circle"
           },
           "mode": "markers",
           "name": "Asia",
           "showlegend": true,
           "type": "scattergeo"
          },
          {
           "geo": "geo",
           "hovertemplate": "<b>%{hovertext}</b><br><br>continent=Europe<br>year=1952<br>pop=%{marker.size}<br>country=%{location}<extra></extra>",
           "hovertext": [
            "Albania",
            "Austria",
            "Belgium",
            "Bosnia and Herzegovina",
            "Bulgaria",
            "Croatia",
            "Czech Republic",
            "Denmark",
            "Finland",
            "France",
            "Germany",
            "Greece",
            "Hungary",
            "Iceland",
            "Ireland",
            "Italy",
            "Montenegro",
            "Netherlands",
            "Norway",
            "Poland",
            "Portugal",
            "Romania",
            "Serbia",
            "Slovak Republic",
            "Slovenia",
            "Spain",
            "Sweden",
            "Switzerland",
            "Turkey",
            "United Kingdom"
           ],
           "legendgroup": "Europe",
           "locationmode": "country names",
           "locations": [
            "Albania",
            "Austria",
            "Belgium",
            "Bosnia and Herzegovina",
            "Bulgaria",
            "Croatia",
            "Czech Republic",
            "Denmark",
            "Finland",
            "France",
            "Germany",
            "Greece",
            "Hungary",
            "Iceland",
            "Ireland",
            "Italy",
            "Montenegro",
            "Netherlands",
            "Norway",
            "Poland",
            "Portugal",
            "Romania",
            "Serbia",
            "Slovak Republic",
            "Slovenia",
            "Spain",
            "Sweden",
            "Switzerland",
            "Turkey",
            "United Kingdom"
           ],
           "marker": {
            "color": "#EF553B",
            "size": {
             "bdata": "AAAAAImSM0EAAAAAZ21aQQAAAKDkpmBBAAAAACxLRUEAAAAAZcBbQQAAAIB6nk1BAAAA4KdnYUEAAAAAbIhQQQAAAABCNU9BAAAAmBA/hEEAAACAVXyQQQAAAIAAgF1BAAAAAKAgYkEAAAAA0A8CQQAAAADuhUZBAAAAgJq6hkEAAAAAKEIZQQAAAIBUzWNBAAAAAHhjSUEAAABw34l4QQAAAEAcQ2BBAAAAAB64b0EAAADAXCtaQQAAAIB8JUtBAAAAAG66NkEAAADgLjp7QQAAAECwLVtBAAAAACZeUkEAAADQoTR1QQAAAIABDIhB",
             "dtype": "f8"
            },
            "sizemode": "area",
            "sizeref": 3296707.74,
            "symbol": "circle"
           },
           "mode": "markers",
           "name": "Europe",
           "showlegend": true,
           "type": "scattergeo"
          },
          {
           "geo": "geo",
           "hovertemplate": "<b>%{hovertext}</b><br><br>continent=Africa<br>year=1952<br>pop=%{marker.size}<br>country=%{location}<extra></extra>",
           "hovertext": [
            "Algeria",
            "Angola",
            "Benin",
            "Botswana",
            "Burkina Faso",
            "Burundi",
            "Cameroon",
            "Central African Republic",
            "Chad",
            "Comoros",
            "Congo Dem. Rep.",
            "Congo Rep.",
            "Cote d'Ivoire",
            "Djibouti",
            "Egypt",
            "Equatorial Guinea",
            "Eritrea",
            "Ethiopia",
            "Gabon",
            "Gambia",
            "Ghana",
            "Guinea",
            "Guinea-Bissau",
            "Kenya",
            "Lesotho",
            "Liberia",
            "Libya",
            "Madagascar",
            "Malawi",
            "Mali",
            "Mauritania",
            "Mauritius",
            "Morocco",
            "Mozambique",
            "Namibia",
            "Niger",
            "Nigeria",
            "Reunion",
            "Rwanda",
            "Sao Tome and Principe",
            "Senegal",
            "Sierra Leone",
            "Somalia",
            "South Africa",
            "Sudan",
            "Swaziland",
            "Tanzania",
            "Togo",
            "Tunisia",
            "Uganda",
            "Zambia",
            "Zimbabwe"
           ],
           "legendgroup": "Africa",
           "locationmode": "country names",
           "locations": [
            "Algeria",
            "Angola",
            "Benin",
            "Botswana",
            "Burkina Faso",
            "Burundi",
            "Cameroon",
            "Central African Republic",
            "Chad",
            "Comoros",
            "Congo Dem. Rep.",
            "Congo Rep.",
            "Cote d'Ivoire",
            "Djibouti",
            "Egypt",
            "Equatorial Guinea",
            "Eritrea",
            "Ethiopia",
            "Gabon",
            "Gambia",
            "Ghana",
            "Guinea",
            "Guinea-Bissau",
            "Kenya",
            "Lesotho",
            "Liberia",
            "Libya",
            "Madagascar",
            "Malawi",
            "Mali",
            "Mauritania",
            "Mauritius",
            "Morocco",
            "Mozambique",
            "Namibia",
            "Niger",
            "Nigeria",
            "Reunion",
            "Rwanda",
            "Sao Tome and Principe",
            "Senegal",
            "Sierra Leone",
            "Somalia",
            "South Africa",
            "Sudan",
            "Swaziland",
            "Tanzania",
            "Togo",
            "Tunisia",
            "Uganda",
            "Zambia",
            "Zimbabwe"
           ],
           "marker": {
            "color": "#00cc96",
            "size": {
             "bdata": "AAAAoASzYUEAAADA5yRQQQAAAABLhjpBAAAAABD/GkEAAADANg1RQQAAAACZqEJBAAAAwKobU0EAAAAAr7UzQQAAAAAvd0RBAAAAAIDKAkEAAACgxORqQQAAAADKFipBAAAAgH22RkEAAAAAoNXuQAAAANCcMXVBAAAAACB8CkEAAAAAKPQ1QQAAANAA5XNBAAAAAHitGUEAAAAAgFoRQQAAAEAySlVBAAAAgJxTREEAAAAAWrghQQAAAICLqFhBAAAAAJbZJkEAAAAAmFgqQQAAAACiHi9BAAAAAEgrUkEAAAAA1UJGQQAAAABsSE1BAAAAALg0L0EAAAAAMIcfQQAAACAi9WJBAAAAADuXWEEAAAAAHKcdQQAAAACGyElBAAAAgLeVf0EAAAAAIHUPQQAAAIAHV0NBAAAAAGBN7UAAAACAAgZFQQAAAIAIWkBBAAAAAIlHQ0EAAADgTDVrQQAAAGCrOGBBAAAAAAy3EUEAAABA279fQQAAAAApmjJBAAAAgHvUS0EAAABARzhWQQAAAADAYkRBAAAAgGWBR0E=",
             "dtype": "f8"
            },
            "sizemode": "area",
            "sizeref": 3296707.74,
            "symbol": "circle"
           },
           "mode": "markers",
           "name": "Africa",
           "showlegend": true,
           "type": "scattergeo"
          },
          {
           "geo": "geo",
           "hovertemplate": "<b>%{hovertext}</b><br><br>continent=Americas<br>year=1952<br>pop=%{marker.size}<br>country=%{location}<extra></extra>",
           "hovertext": [
            "Argentina",
            "Bolivia",
            "Brazil",
            "Canada",
            "Chile",
            "Colombia",
            "Costa Rica",
            "Cuba",
            "Dominican Republic",
            "Ecuador",
            "El Salvador",
            "Guatemala",
            "Haiti",
            "Honduras",
            "Jamaica",
            "Mexico",
            "Nicaragua",
            "Panama",
            "Paraguay",
            "Peru",
            "Puerto Rico",
            "Trinidad and Tobago",
            "United States",
            "Uruguay",
            "Venezuela"
           ],
           "legendgroup": "Americas",
           "locationmode": "country names",
           "locations": [
            "Argentina",
            "Bolivia",
            "Brazil",
            "Canada",
            "Chile",
            "Colombia",
            "Costa Rica",
            "Cuba",
            "Dominican Republic",
            "Ecuador",
            "El Salvador",
            "Guatemala",
            "Haiti",
            "Honduras",
            "Jamaica",
            "Mexico",
            "Nicaragua",
            "Panama",
            "Paraguay",
            "Peru",
            "Puerto Rico",
            "Trinidad and Tobago",
            "United States",
            "Uruguay",
            "Venezuela"
           ],
           "marker": {
            "color": "#ab63fa",
            "size": {
             "bdata": "AAAAwH0McUEAAACAef9FQQAAAAB+/YpBAAAAAIYzbEEAAADAJFRYQQAAAGCmjmdBAAAAANpELEEAAABA/epWQQAAAADpAUNBAAAAgCgTS0EAAAAA8Ss/QQAAAIBGAUhBAAAAAOhsSEEAAAAAjSc3QQAAAACvwjVBAAAA0HO/fEEAAAAA3skxQQAAAABgsCxBAAAAAKS9N0EAAAAAmZ1eQQAAAACc/UBBAAAAAIQ6JEEAAADQIsiiQQAAAIBSMEFBAAAAABTAVEE=",
             "dtype": "f8"
            },
            "sizemode": "area",
            "sizeref": 3296707.74,
            "symbol": "circle"
           },
           "mode": "markers",
           "name": "Americas",
           "showlegend": true,
           "type": "scattergeo"
          },
          {
           "geo": "geo",
           "hovertemplate": "<b>%{hovertext}</b><br><br>continent=Oceania<br>year=1952<br>pop=%{marker.size}<br>country=%{location}<extra></extra>",
           "hovertext": [
            "Australia",
            "New Zealand"
           ],
           "legendgroup": "Oceania",
           "locationmode": "country names",
           "locations": [
            "Australia",
            "New Zealand"
           ],
           "marker": {
            "color": "#FFA15A",
            "size": {
             "bdata": "AAAAgMGTYEEAAAAAKnA+QQ==",
             "dtype": "f8"
            },
            "sizemode": "area",
            "sizeref": 3296707.74,
            "symbol": "circle"
           },
           "mode": "markers",
           "name": "Oceania",
           "showlegend": true,
           "type": "scattergeo"
          }
         ],
         "name": "1952"
        },
        {
         "data": [
          {
           "geo": "geo",
           "hovertemplate": "<b>%{hovertext}</b><br><br>continent=Asia<br>year=1957<br>pop=%{marker.size}<br>country=%{location}<extra></extra>",
           "hovertext": [
            "Afghanistan",
            "Bahrain",
            "Bangladesh",
            "Cambodia",
            "China",
            "Hong Kong China",
            "India",
            "Indonesia",
            "Iran",
            "Iraq",
            "Israel",
            "Japan",
            "Jordan",
            "Korea Dem. Rep.",
            "Korea Rep.",
            "Kuwait",
            "Lebanon",
            "Malaysia",
            "Mongolia",
            "Myanmar",
            "Nepal",
            "Oman",
            "Pakistan",
            "Philippines",
            "Saudi Arabia",
            "Singapore",
            "Sri Lanka",
            "Syria",
            "Taiwan",
            "Thailand",
            "Vietnam",
            "West Bank and Gaza",
            "Yemen Rep."
           ],
           "legendgroup": "Asia",
           "locationmode": "country names",
           "locations": [
            "Afghanistan",
            "Bahrain",
            "Bangladesh",
            "Cambodia",
            "China",
            "Hong Kong China",
            "India",
            "Indonesia",
            "Iran",
            "Iraq",
            "Israel",
            "Japan",
            "Jordan",
            "Korea Dem. Rep.",
            "Korea Rep.",
            "Kuwait",
            "Lebanon",
            "Malaysia",
            "Mongolia",
            "Myanmar",
            "Nepal",
            "Oman",
            "Pakistan",
            "Philippines",
            "Saudi Arabia",
            "Singapore",
            "Sri Lanka",
            "Syria",
            "Taiwan",
            "Thailand",
            "Vietnam",
            "West Bank and Gaza",
            "Yemen Rep."
           ],
           "marker": {
            "color": "#636efa",
            "size": {
             "bdata": "AAAAwCygYUEAAAAA+OwAQQAAAOAyfohBAAAAAMpNVEEAAACACf/CQQAAAABW4ERBAAAAQNhguEEAAACAu3yVQQAAAAAI4HJBAAAAwDDWV0EAAAAAUas9QQAAAASQ1JVBAAAAAH7IJkEAAACgZvNhQQAAAABmkHVBAAAAAHD7CUEAAAAANCM5QQAAAMDYhV1BAAAAAKzrKkEAAABAoLl0QQAAAEC0d2JBAAAAAHImIUEAAABAPEKGQQAAACBI3XhBAAAAgBDcUEEAAAAAKRA2QQAAAEBMaWFBAAAAAEqpT0EAAADg/mJjQQAAANC/4XdBAAAA8Line0EAAAAAZ1UwQQAAAIA6+VRB",
             "dtype": "f8"
            },
            "sizemode": "area",
            "sizeref": 3296707.74,
            "symbol": "circle"
           },
           "mode": "markers",
           "name": "Asia",
           "showlegend": true,
           "type": "scattergeo"
          },
          {
           "geo": "geo",
           "hovertemplate": "<b>%{hovertext}</b><br><br>continent=Europe<br>year=1957<br>pop=%{marker.size}<br>country=%{location}<extra></extra>",
           "hovertext": [
            "Albania",
            "Austria",
            "Belgium",
            "Bosnia and Herzegovina",
            "Bulgaria",
            "Croatia",
            "Czech Republic",
            "Denmark",
            "Finland",
            "France",
            "Germany",
            "Greece",
            "Hungary",
            "Iceland",
            "Ireland",
            "Italy",
            "Montenegro",
            "Netherlands",
            "Norway",
            "Poland",
            "Portugal",
            "Romania",
            "Serbia",
            "Slovak Republic",
            "Slovenia",
            "Spain",
            "Sweden",
            "Switzerland",
            "Turkey",
            "United Kingdom"
           ],
           "legendgroup": "Europe",
           "locationmode": "country names",
           "locations": [
            "Albania",
            "Austria",
            "Belgium",
            "Bosnia and Herzegovina",
            "Bulgaria",
            "Croatia",
            "Czech Republic",
            "Denmark",
            "Finland",
            "France",
            "Germany",
            "Greece",
            "Hungary",
            "Iceland",
            "Ireland",
            "Italy",
            "Montenegro",
            "Netherlands",
            "Norway",
            "Poland",
            "Portugal",
            "Romania",
            "Serbia",
            "Slovak Republic",
            "Slovenia",
            "Spain",
            "Sweden",
            "Switzerland",
            "Turkey",
            "United Kingdom"
           ],
           "marker": {
            "color": "#EF553B",
            "size": {
             "bdata": "AAAAAJmHNkEAAAAAmZJaQQAAAOA2JWFBAAAAANB3R0EAAACA7S9dQQAAAABlc05BAAAAwGMlYkEAAADApR5RQQAAAACoflBBAAAAeAohhUEAAAD0qO6QQQAAAIB24l5BAAAAADPEYkEAAAAAsCcEQQAAAACG9UVBAAAAgKlzh0EAAAAANAcbQQAAAOD5B2VBAAAAADGkSkEAAAAgZe16QQAAAEB+0WBBAAAA8NwAcUEAAADAt7xbQQAAAIBaVE1BAAAAAI5kN0EAAADgjHV8QQAAAIA2F1xBAAAAANyNU0EAAACwUXt4QQAAAIAThohB",
             "dtype": "f8"
            },
            "sizemode": "area",
            "sizeref": 3296707.74,
            "symbol": "circle"
           },
           "mode": "markers",
           "name": "Europe",
           "showlegend": true,
           "type": "scattergeo"
          },
          {
           "geo": "geo",
           "hovertemplate": "<b>%{hovertext}</b><br><br>continent=Africa<br>year=1957<br>pop=%{marker.size}<br>country=%{location}<extra></extra>",
           "hovertext": [
            "Algeria",
            "Angola",
            "Benin",
            "Botswana",
            "Burkina Faso",
            "Burundi",
            "Cameroon",
            "Central African Republic",
            "Chad",
            "Comoros",
            "Congo Dem. Rep.",
            "Congo Rep.",
            "Cote d'Ivoire",
            "Djibouti",
            "Egypt",
            "Equatorial Guinea",
            "Eritrea",
            "Ethiopia",
            "Gabon",
            "Gambia",
            "Ghana",
            "Guinea",
            "Guinea-Bissau",
            "Kenya",
            "Lesotho",
            "Liberia",
            "Libya",
            "Madagascar",
            "Malawi",
            "Mali",
            "Mauritania",
            "Mauritius",
            "Morocco",
            "Mozambique",
            "Namibia",
            "Niger",
            "Nigeria",
            "Reunion",
            "Rwanda",
            "Sao Tome and Principe",
            "Senegal",
            "Sierra Leone",
            "Somalia",
            "South Africa",
            "Sudan",
            "Swaziland",
            "Tanzania",
            "Togo",
            "Tunisia",
            "Uganda",
            "Zambia",
            "Zimbabwe"
           ],
           "legendgroup": "Africa",
           "locationmode": "country names",
           "locations": [
            "Algeria",
            "Angola",
            "Benin",
            "Botswana",
            "Burkina Faso",
            "Burundi",
            "Cameroon",
            "Central African Republic",
            "Chad",
            "Comoros",
            "Congo Dem. Rep.",
            "Congo Rep.",
            "Cote d'Ivoire",
            "Djibouti",
            "Egypt",
            "Equatorial Guinea",
            "Eritrea",
            "Ethiopia",
            "Gabon",
            "Gambia",
            "Ghana",
            "Guinea",
            "Guinea-Bissau",
            "Kenya",
            "Lesotho",
            "Liberia",
            "Libya",
            "Madagascar",
            "Malawi",
            "Mali",
            "Mauritania",
            "Mauritius",
            "Morocco",
            "Mozambique",
            "Namibia",
            "Niger",
            "Nigeria",
            "Reunion",
            "Rwanda",
            "Sao Tome and Principe",
            "Senegal",
            "Sierra Leone",
            "Somalia",
            "South Africa",
            "Sudan",
            "Swaziland",
            "Tanzania",
            "Togo",
            "Tunisia",
            "Uganda",
            "Zambia",
            "Zimbabwe"
           ],
           "marker": {
            "color": "#00cc96",
            "size": {
             "bdata": "AAAAABGXY0EAAABAdGZRQQAAAAA1YD1BAAAAADz4HEEAAAAA8vpRQQAAAAD/WURBAAAAwExyVEEAAAAAnD41QQAAAIADFkZBAAAAAIDdBEEAAACAabZtQQAAAABUsyxBAAAAAFAtSUEAAAAAsIrxQAAAANDk2XdBAAAAANBuDEEAAAAA04k3QQAAAOA3wnVBAAAAAGCLGkEAAAAAOLkTQQAAAAB+YVhBAAAAAJvyRUEAAAAADlgiQQAAAMAOcFxBAAAAADTSKEEAAAAAnMgtQQAAAACqVTJBAAAAwDvEU0EAAAAAe5NIQQAAAAB3LlBBAAAAAHRuMEEAAAAAMJwiQQAAAMCBwWVBAAAAwBTZWkEAAAAA4LkgQQAAAABMK0xBAAAA4MK5gUEAAAAAcNcSQQAAAADhh0VBAAAAAKDx7UAAAACA6U1HQQAAAAC/g0FBAAAAgH82RUEAAACgf85uQQAAAABmmmJBAAAAAFTxE0EAAABAowdiQQAAAACFtjRBAAAAgIAkTkEAAABAC3dZQQAAAACgAkdBAAAAAMLRS0E=",
             "dtype": "f8"
            },
            "sizemode": "area",
            "sizeref": 3296707.74,
            "symbol": "circle"
           },
           "mode": "markers",
           "name": "Africa",
           "showlegend": true,
           "type": "scattergeo"
          },
          {
           "geo": "geo",
           "hovertemplate": "<b>%{hovertext}</b><br><br>continent=Americas<br>year=1957<br>pop=%{marker.size}<br>country=%{location}<extra></extra>",
           "hovertext": [
            "Argentina",
            "Bolivia",
            "Brazil",
            "Canada",
            "Chile",
            "Colombia",
            "Costa Rica",
            "Cuba",
            "Dominican Republic",
            "Ecuador",
            "El Salvador",
            "Guatemala",
            "Haiti",
            "Honduras",
            "Jamaica",
            "Mexico",
            "Nicaragua",
            "Panama",
            "Paraguay",
            "Peru",
            "Puerto Rico",
            "Trinidad and Tobago",
            "United States",
            "Uruguay",
            "Venezuela"
           ],
           "legendgroup": "Americas",
           "locationmode": "country names",
           "locations": [
            "Argentina",
            "Bolivia",
            "Brazil",
            "Canada",
            "Chile",
            "Colombia",
            "Costa Rica",
            "Cuba",
            "Dominican Republic",
            "Ecuador",
            "El Salvador",
            "Guatemala",
            "Haiti",
            "Honduras",
            "Jamaica",
            "Mexico",
            "Nicaragua",
            "Panama",
            "Paraguay",
            "Peru",
            "Puerto Rico",
            "Trinidad and Tobago",
            "United States",
            "Uruguay",
            "Venezuela"
           ],
           "marker": {
            "color": "#ab63fa",
            "size": {
             "bdata": "AAAAoLqzckEAAAAA7YBIQQAAABjaQY9BAAAAoN44cEEAAACAOuNaQQAAACA9oWtBAAAAAOz4MEEAAAAAHFVZQQAAAABZTUZBAAAAgIj2TkEAAACALvlBQQAAAAAWx0tBAAAAgPrCSkEAAAAAlgM7QQAAAABybDdBAAAA4FuygEEAAAAA7Ls0QQAAAABSOjBBAAAAAJYFO0EAAACA3nFhQQAAAAAQPkFBAAAAAMhXJ0EAAAAAiYCkQQAAAIA/gEJBAAAAAJORWUE=",
             "dtype": "f8"
            },
            "sizemode": "area",
            "sizeref": 3296707.74,
            "symbol": "circle"
           },
           "mode": "markers",
           "name": "Americas",
           "showlegend": true,
           "type": "scattergeo"
          },
          {
           "geo": "geo",
           "hovertemplate": "<b>%{hovertext}</b><br><br>continent=Oceania<br>year=1957<br>pop=%{marker.size}<br>country=%{location}<extra></extra>",
           "hovertext": [
            "Australia",
            "New Zealand"
           ],
           "legendgroup": "Oceania",
           "locationmode": "country names",
           "locations": [
            "Australia",
            "New Zealand"
           ],
           "marker": {
            "color": "#FFA15A",
            "size": {
             "bdata": "AAAAIHeGYkEAAACATwJBQQ==",
             "dtype": "f8"
            },
            "sizemode": "area",
            "sizeref": 3296707.74,
            "symbol": "circle"
           },
           "mode": "markers",
           "name": "Oceania",
           "showlegend": true,
           "type": "scattergeo"
          }
         ],
         "name": "1957"
        },
        {
         "data": [
          {
           "geo": "geo",
           "hovertemplate": "<b>%{hovertext}</b><br><br>continent=Asia<br>year=1962<br>pop=%{marker.size}<br>country=%{location}<extra></extra>",
           "hovertext": [
            "Afghanistan",
            "Bahrain",
            "Bangladesh",
            "Cambodia",
            "China",
            "Hong Kong China",
            "India",
            "Indonesia",
            "Iran",
            "Iraq",
            "Israel",
            "Japan",
            "Jordan",
            "Korea Dem. Rep.",
            "Korea Rep.",
            "Kuwait",
            "Lebanon",
            "Malaysia",
            "Mongolia",
            "Myanmar",
            "Nepal",
            "Oman",
            "Pakistan",
            "Philippines",
            "Saudi Arabia",
            "Singapore",
            "Sri Lanka",
            "Syria",
            "Taiwan",
            "Thailand",
            "Vietnam",
            "West Bank and Gaza",
            "Yemen Rep."
           ],
           "legendgroup": "Asia",
           "locationmode": "country names",
           "locations": [
            "Afghanistan",
            "Bahrain",
            "Bangladesh",
            "Cambodia",
            "China",
            "Hong Kong China",
            "India",
            "Indonesia",
            "Iran",
            "Iraq",
            "Israel",
            "Japan",
            "Jordan",
            "Korea Dem. Rep.",
            "Korea Rep.",
            "Kuwait",
            "Lebanon",
            "Malaysia",
            "Mongolia",
            "Myanmar",
            "Nepal",
            "Oman",
            "Pakistan",
            "Philippines",
            "Saudi Arabia",
            "Singapore",
            "Sri Lanka",
            "Syria",
            "Taiwan",
            "Thailand",
            "Vietnam",
            "West Bank and Gaza",
            "Yemen Rep."
           ],
           "marker": {
            "color": "#636efa",
            "size": {
             "bdata": "AAAAYDmVY0EAAAAAuPoEQQAAAMhjGotBAAAAwAg1V0EAAAAIbNfDQQAAAAB4N0lBAAAAgH0Pu0EAAACAMJyXQQAAAAB50HVBAAAAAJGeW0EAAAAAfKFBQQAAADQb2ZZBAAAAAG59LEEAAADAztJkQQAAADBFMnlBAAAAAOjdFUEAAAAAgMo8QQAAACDS/GBBAAAAANDULkEAAABAIIp2QQAAACDztGNBAAAAAIgrI0EAAAD4A1KJQQAAAACh63xBAAAAQC3bUkEAAAAAuLQ6QQAAAADW4GNBAAAAQE9xUkEAAABAy7tmQQAAAFBi6HtBAAAAYIEdgEEAAAAATkoxQQAAAECkWFdB",
             "dtype": "f8"
            },
            "sizemode": "area",
            "sizeref": 3296707.74,
            "symbol": "circle"
           },
           "mode": "markers",
           "name": "Asia",
           "showlegend": true,
           "type": "scattergeo"
          },
          {
           "geo": "geo",
           "hovertemplate": "<b>%{hovertext}</b><br><br>continent=Europe<br>year=1962<br>pop=%{marker.size}<br>country=%{location}<extra></extra>",
           "hovertext": [
            "Albania",
            "Austria",
            "Belgium",
            "Bosnia and Herzegovina",
            "Bulgaria",
            "Croatia",
            "Czech Republic",
            "Denmark",
            "Finland",
            "France",
            "Germany",
            "Greece",
            "Hungary",
            "Iceland",
            "Ireland",
            "Italy",
            "Montenegro",
            "Netherlands",
            "Norway",
            "Poland",
            "Portugal",
            "Romania",
            "Serbia",
            "Slovak Republic",
            "Slovenia",
            "Spain",
            "Sweden",
            "Switzerland",
            "Turkey",
            "United Kingdom"
           ],
           "legendgroup": "Europe",
           "locationmode": "country names",
           "locations": [
            "Albania",
            "Austria",
            "Belgium",
            "Bosnia and Herzegovina",
            "Bulgaria",
            "Croatia",
            "Czech Republic",
            "Denmark",
            "Finland",
            "France",
            "Germany",
            "Greece",
            "Hungary",
            "Iceland",
            "Ireland",
            "Italy",
            "Montenegro",
            "Netherlands",
            "Norway",
            "Poland",
            "Portugal",
            "Romania",
            "Serbia",
            "Slovak Republic",
            "Slovenia",
            "Spain",
            "Sweden",
            "Switzerland",
            "Turkey",
            "United Kingdom"
           ],
           "marker": {
            "color": "#EF553B",
            "size": {
             "bdata": "AAAAAIleOkEAAAAAwjJbQQAAAAAslWFBAAAAAASNSUEAAACAJJFeQQAAAIAGGk9BAAAAQGdZYkEAAADA/LlRQQAAAMAsIlFBAAAAAHF4hkEAAAC0rZSRQQAAACAdHWBBAAAAAJMxY0EAAAAAKDkGQQAAAABYl0VBAAAAAHI+iEEAAAAAgPYcQQAAACB/hGZBAAAAgEPDS0EAAAAQsex8QQAAAAAzNGFBAAAAELnQcUEAAAAAjw1dQQAAAAASKlBBAAAAAHInOEEAAADQ8rZ9QQAAAABd2FxBAAAAADSdVUEAAABwoWh8QQAAAABfaYlB",
             "dtype": "f8"
            },
            "sizemode": "area",
            "sizeref": 3296707.74,
            "symbol": "circle"
           },
           "mode": "markers",
           "name": "Europe",
           "showlegend": true,
           "type": "scattergeo"
          },
          {
           "geo": "geo",
           "hovertemplate": "<b>%{hovertext}</b><br><br>continent=Africa<br>year=1962<br>pop=%{marker.size}<br>country=%{location}<extra></extra>",
           "hovertext": [
            "Algeria",
            "Angola",
            "Benin",
            "Botswana",
            "Burkina Faso",
            "Burundi",
            "Cameroon",
            "Central African Republic",
            "Chad",
            "Comoros",
            "Congo Dem. Rep.",
            "Congo Rep.",
            "Cote d'Ivoire",
            "Djibouti",
            "Egypt",
            "Equatorial Guinea",
            "Eritrea",
            "Ethiopia",
            "Gabon",
            "Gambia",
            "Ghana",
            "Guinea",
            "Guinea-Bissau",
            "Kenya",
            "Lesotho",
            "Liberia",
            "Libya",
            "Madagascar",
            "Malawi",
            "Mali",
            "Mauritania",
            "Mauritius",
            "Morocco",
            "Mozambique",
            "Namibia",
            "Niger",
            "Nigeria",
            "Reunion",
            "Rwanda",
            "Sao Tome and Principe",
            "Senegal",
            "Sierra Leone",
            "Somalia",
            "South Africa",
            "Sudan",
            "Swaziland",
            "Tanzania",
            "Togo",
            "Tunisia",
            "Uganda",
            "Zambia",
            "Zimbabwe"
           ],
           "legendgroup": "Africa",
           "locationmode": "country names",
           "locations": [
            "Algeria",
            "Angola",
            "Benin",
            "Botswana",
            "Burkina Faso",
            "Burundi",
            "Cameroon",
            "Central African Republic",
            "Chad",
            "Comoros",
            "Congo Dem. Rep.",
            "Congo Rep.",
            "Cote d'Ivoire",
            "Djibouti",
            "Egypt",
            "Equatorial Guinea",
            "Eritrea",
            "Ethiopia",
            "Gabon",
            "Gambia",
            "Ghana",
            "Guinea",
            "Guinea-Bissau",
            "Kenya",
            "Lesotho",
            "Liberia",
            "Libya",
            "Madagascar",
            "Malawi",
            "Mali",
            "Mauritania",
            "Mauritius",
            "Morocco",
            "Mozambique",
            "Namibia",
            "Niger",
            "Nigeria",
            "Reunion",
            "Rwanda",
            "Sao Tome and Principe",
            "Senegal",
            "Sierra Leone",
            "Somalia",
            "South Africa",
            "Sudan",
            "Swaziland",
            "Tanzania",
            "Togo",
            "Tunisia",
            "Uganda",
            "Zambia",
            "Zimbabwe"
           ],
           "marker": {
            "color": "#00cc96",
            "size": {
             "bdata": "AAAAgI77ZEEAAADA52hSQQAAAIDrakBBAAAAAPBLH0EAAAAAVMRSQQAAAID9mEZBAAAAQNgZVkEAAAAAFj83QQAAAIAoCUhBAAAAAEhmB0EAAAAgJq1wQQAAAADo+i9BAAAAACw9TUEAAAAAoPL1QAAAANA/3npBAAAAACBsDkEAAAAAOm45QQAAAMAB+3dBAAAAALTPG0EAAAAAENQWQQAAAADcDlxBAAAAgNH0R0EAAAAA2CgjQQAAAKCTjWBBAAAAAK5BK0EAAAAA3PowQQAAAABHADZBAAAAAKfBVUEAAAAAIK9LQQAAAABx5FFBAAAAAIV/MUEAAAAAsGQlQQAAAIBL52hBAAAAAGS2XUEAAAAAoPYiQQAAAAD0GE9BAAAAuD/3g0EAAAAA0OcVQQAAAAB1R0dBAAAAACDo70AAAACAsStKQQAAAIAb1EJBAAAAgOx/R0EAAAAQm4FxQQAAAGCPVGVBAAAAAFiVFkEAAADAqrhkQQAAAAAiUTdBAAAAABZaUEEAAABAl1RdQQAAAACkGUpBAAAAAHpRUEE=",
             "dtype": "f8"
            },
            "sizemode": "area",
            "sizeref": 3296707.74,
            "symbol": "circle"
           },
           "mode": "markers",
           "name": "Africa",
           "showlegend": true,
           "type": "scattergeo"
          },
          {
           "geo": "geo",
           "hovertemplate": "<b>%{hovertext}</b><br><br>continent=Americas<br>year=1962<br>pop=%{marker.size}<br>country=%{location}<extra></extra>",
           "hovertext": [
            "Argentina",
            "Bolivia",
            "Brazil",
            "Canada",
            "Chile",
            "Colombia",
            "Costa Rica",
            "Cuba",
            "Dominican Republic",
            "Ecuador",
            "El Salvador",
            "Guatemala",
            "Haiti",
            "Honduras",
            "Jamaica",
            "Mexico",
            "Nicaragua",
            "Panama",
            "Paraguay",
            "Peru",
            "Puerto Rico",
            "Trinidad and Tobago",
            "United States",
            "Uruguay",
            "Venezuela"
           ],
           "legendgroup": "Americas",
           "locationmode": "country names",
           "locations": [
            "Argentina",
            "Bolivia",
            "Brazil",
            "Canada",
            "Chile",
            "Colombia",
            "Costa Rica",
            "Cuba",
            "Dominican Republic",
            "Ecuador",
            "El Salvador",
            "Guatemala",
            "Haiti",
            "Honduras",
            "Jamaica",
            "Mexico",
            "Nicaragua",
            "Panama",
            "Paraguay",
            "Peru",
            "Puerto Rico",
            "Trinidad and Tobago",
            "United States",
            "Uruguay",
            "Venezuela"
           ],
           "marker": {
            "color": "#ab63fa",
            "size": {
             "bdata": "AAAAcDxMdEEAAAAAX2tLQQAAAHgTIZJBAAAAkDcbckEAAACAql5eQQAAANDNOHBBAAAAAKOGNEEAAABAWaxbQQAAAAD9WEpBAAAAwPrbUUEAAACAk/ZEQQAAAIA2DlBBAAAAAGGaTUEAAAAAsuQ/QQAAAABoaDlBAAAAaLabg0EAAAAARUU4QQAAAADtjDJBAAAAANWqPkEAAACAAg9kQQAAAABXrUJBAAAAAJQVK0EAAAAgsDymQQAAAAAh00NBAAAAwIMQX0E=",
             "dtype": "f8"
            },
            "sizemode": "area",
            "sizeref": 3296707.74,
            "symbol": "circle"
           },
           "mode": "markers",
           "name": "Americas",
           "showlegend": true,
           "type": "scattergeo"
          },
          {
           "geo": "geo",
           "hovertemplate": "<b>%{hovertext}</b><br><br>continent=Oceania<br>year=1962<br>pop=%{marker.size}<br>country=%{location}<extra></extra>",
           "hovertext": [
            "Australia",
            "New Zealand"
           ],
           "legendgroup": "Oceania",
           "locationmode": "country names",
           "locations": [
            "Australia",
            "New Zealand"
           ],
           "marker": {
            "color": "#FFA15A",
            "size": {
             "bdata": "AAAAAPuWZEEAAAAAc/xCQQ==",
             "dtype": "f8"
            },
            "sizemode": "area",
            "sizeref": 3296707.74,
            "symbol": "circle"
           },
           "mode": "markers",
           "name": "Oceania",
           "showlegend": true,
           "type": "scattergeo"
          }
         ],
         "name": "1962"
        },
        {
         "data": [
          {
           "geo": "geo",
           "hovertemplate": "<b>%{hovertext}</b><br><br>continent=Asia<br>year=1967<br>pop=%{marker.size}<br>country=%{location}<extra></extra>",
           "hovertext": [
            "Afghanistan",
            "Bahrain",
            "Bangladesh",
            "Cambodia",
            "China",
            "Hong Kong China",
            "India",
            "Indonesia",
            "Iran",
            "Iraq",
            "Israel",
            "Japan",
            "Jordan",
            "Korea Dem. Rep.",
            "Korea Rep.",
            "Kuwait",
            "Lebanon",
            "Malaysia",
            "Mongolia",
            "Myanmar",
            "Nepal",
            "Oman",
            "Pakistan",
            "Philippines",
            "Saudi Arabia",
            "Singapore",
            "Sri Lanka",
            "Syria",
            "Taiwan",
            "Thailand",
            "Vietnam",
            "West Bank and Gaza",
            "Yemen Rep."
           ],
           "legendgroup": "Asia",
           "locationmode": "country names",
           "locations": [
            "Afghanistan",
            "Bahrain",
            "Bangladesh",
            "Cambodia",
            "China",
            "Hong Kong China",
            "India",
            "Indonesia",
            "Iran",
            "Iraq",
            "Israel",
            "Japan",
            "Jordan",
            "Korea Dem. Rep.",
            "Korea Rep.",
            "Kuwait",
            "Lebanon",
            "Malaysia",
            "Mongolia",
            "Myanmar",
            "Nepal",
            "Oman",
            "Pakistan",
            "Philippines",
            "Saudi Arabia",
            "Singapore",
            "Sri Lanka",
            "Syria",
            "Taiwan",
            "Thailand",
            "Vietnam",
            "West Bank and Gaza",
            "Yemen Rep."
           ],
           "marker": {
            "color": "#636efa",
            "size": {
             "bdata": "AAAAwMUBZkEAAAAAMK4IQQAAAOCv9I1BAAAAwPCMWkEAAAB4wnzGQQAAAAAYZ0xBAAAAgPIovkEAAABgxBGaQQAAAAABT3lBAAAAQM4/YEEAAACA6IxEQQAAAPziCZhBAAAAAJImM0EAAAAgphBoQQAAAIAzvHxBAAAAADaMIUEAAAAAR69AQQAAAMBvXmNBAAAAADyKMUEAAADw+6t4QQAAAEDfemVBAAAAAC7QJUEAAABYk+qMQQAAAMD924BBAAAAgIVuVUEAAAAAAC0+QQAAAIAmY2ZBAAAAAKurVUEAAACAZghqQQAAAMhZOYBBAAAAMF/RgkEAAAAAbG8xQQAAAEDMtllB",
             "dtype": "f8"
            },
            "sizemode": "area",
            "sizeref": 3296707.74,
            "symbol": "circle"
           },
           "mode": "markers",
           "name": "Asia",
           "showlegend": true,
           "type": "scattergeo"
          },
          {
           "geo": "geo",
           "hovertemplate": "<b>%{hovertext}</b><br><br>continent=Europe<br>year=1967<br>pop=%{marker.size}<br>country=%{location}<extra></extra>",
           "hovertext": [
            "Albania",
            "Austria",
            "Belgium",
            "Bosnia and Herzegovina",
            "Bulgaria",
            "Croatia",
            "Czech Republic",
            "Denmark",
            "Finland",
            "France",
            "Germany",
            "Greece",
            "Hungary",
            "Iceland",
            "Ireland",
            "Italy",
            "Montenegro",
            "Netherlands",
            "Norway",
            "Poland",
            "Portugal",
            "Romania",
            "Serbia",
            "Slovak Republic",
            "Slovenia",
            "Spain",
            "Sweden",
            "Switzerland",
            "Turkey",
            "United Kingdom"
           ],
           "legendgroup": "Europe",
           "locationmode": "country names",
           "locations": [
            "Albania",
            "Austria",
            "Belgium",
            "Bosnia and Herzegovina",
            "Bulgaria",
            "Croatia",
            "Czech Republic",
            "Denmark",
            "Finland",
            "France",
            "Germany",
            "Greece",
            "Hungary",
            "Iceland",
            "Ireland",
            "Italy",
            "Montenegro",
            "Netherlands",
            "Norway",
            "Poland",
            "Portugal",
            "Romania",
            "Serbia",
            "Slovak Republic",
            "Slovenia",
            "Spain",
            "Sweden",
            "Switzerland",
            "Turkey",
            "United Kingdom"
           ],
           "marker": {
            "color": "#EF553B",
            "size": {
             "bdata": "AAAAADxGPkEAAACAGSRcQQAAAIBCOmJBAAAAAPRZS0EAAACAdLNfQQAAAAAP2U9BAAAAoEzCYkEAAAAAZHVSQQAAAADMkVFBAAAAQOeih0EAAAAUKTWSQQAAACAToGBBAAAAwOd/Y0EAAAAAoEAIQQAAAABCIEZBAAAA4BYdiUEAAAAArJQeQQAAAMDKBmhBAAAAgJHiTEEAAAAgGlB+QQAAAADTXGFBAAAA4DRkckEAAACAZWheQQAAAIAf8lBBAAAAAEAhOUEAAAAwFlR/QQAAAMCGA15BAAAAAOYgV0EAAABQD91/QQAAAMDcNIpB",
             "dtype": "f8"
            },
            "sizemode": "area",
            "sizeref": 3296707.74,
            "symbol": "circle"
           },
           "mode": "markers",
           "name": "Europe",
           "showlegend": true,
           "type": "scattergeo"
          },
          {
           "geo": "geo",
           "hovertemplate": "<b>%{hovertext}</b><br><br>continent=Africa<br>year=1967<br>pop=%{marker.size}<br>country=%{location}<extra></extra>",
           "hovertext": [
            "Algeria",
            "Angola",
            "Benin",
            "Botswana",
            "Burkina Faso",
            "Burundi",
            "Cameroon",
            "Central African Republic",
            "Chad",
            "Comoros",
            "Congo Dem. Rep.",
            "Congo Rep.",
            "Cote d'Ivoire",
            "Djibouti",
            "Egypt",
            "Equatorial Guinea",
            "Eritrea",
            "Ethiopia",
            "Gabon",
            "Gambia",
            "Ghana",
            "Guinea",
            "Guinea-Bissau",
            "Kenya",
            "Lesotho",
            "Liberia",
            "Libya",
            "Madagascar",
            "Malawi",
            "Mali",
            "Mauritania",
            "Mauritius",
            "Morocco",
            "Mozambique",
            "Namibia",
            "Niger",
            "Nigeria",
            "Reunion",
            "Rwanda",
            "Sao Tome and Principe",
            "Senegal",
            "Sierra Leone",
            "Somalia",
            "South Africa",
            "Sudan",
            "Swaziland",
            "Tanzania",
            "Togo",
            "Tunisia",
            "Uganda",
            "Zambia",
            "Zimbabwe"
           ],
           "legendgroup": "Africa",
           "locationmode": "country names",
           "locations": [
            "Algeria",
            "Angola",
            "Benin",
            "Botswana",
            "Burkina Faso",
            "Burundi",
            "Cameroon",
            "Central African Republic",
            "Chad",
            "Comoros",
            "Congo Dem. Rep.",
            "Congo Rep.",
            "Cote d'Ivoire",
            "Djibouti",
            "Egypt",
            "Equatorial Guinea",
            "Eritrea",
            "Ethiopia",
            "Gabon",
            "Gambia",
            "Ghana",
            "Guinea",
            "Guinea-Bissau",
            "Kenya",
            "Lesotho",
            "Liberia",
            "Libya",
            "Madagascar",
            "Malawi",
            "Mali",
            "Mauritania",
            "Mauritius",
            "Morocco",
            "Mozambique",
            "Namibia",
            "Niger",
            "Nigeria",
            "Reunion",
            "Rwanda",
            "Sao Tome and Principe",
            "Senegal",
            "Sierra Leone",
            "Somalia",
            "South Africa",
            "Sudan",
            "Swaziland",
            "Tanzania",
            "Togo",
            "Tunisia",
            "Uganda",
            "Zambia",
            "Zimbabwe"
           ],
           "marker": {
            "color": "#00cc96",
            "size": {
             "bdata": "AAAAYLZWaEEAAABAewRUQQAAAADjhEJBAAAAAIrkIEEAAADAv49TQQAAAIDWaUlBAAAAgAQrWEEAAAAABnQ6QQAAAIAPrEpBAAAAABCJCkEAAAAQbQRzQQAAAABwADJBAAAAgKkZUkEAAAAAECj/QAAAAECqNn5BAAAAAMC4D0EAAAAAn8Y7QQAAAJDUkXpBAAAAALDYHUEAAAAApNQaQQAAAKCcMWBBAAAAAA1VSkEAAAAAjlkiQQAAAABTcGNBAAAAADhoLkEAAAAAroUzQQAAAAD41zpBAAAAABcqWEEAAAAAGqRPQQAAAABA4lNBAAAAAM7GMkEAAAAAehYoQQAAAAAPLGxBAAAAoLmOYEEAAAAAoJAlQQAAAIDLS1FBAAAAQG6MhkEAAAAAIEUZQQAAAIBjVEpBAAAAADBI8UAAAACAyEFOQQAAAACXT0RBAAAAgPMoSkEAAACQTAZ0QQAAACAMQWhBAAAAAEitGUEAAAAA6gtoQQAAAAB+ezpBAAAAgMpCUkEAAADA2PlgQQAAAAAwwU1BAAAAAFoOU0E=",
             "dtype": "f8"
            },
            "sizemode": "area",
            "sizeref": 3296707.74,
            "symbol": "circle"
           },
           "mode": "markers",
           "name": "Africa",
           "showlegend": true,
           "type": "scattergeo"
          },
          {
           "geo": "geo",
           "hovertemplate": "<b>%{hovertext}</b><br><br>continent=Americas<br>year=1967<br>pop=%{marker.size}<br>country=%{location}<extra></extra>",
           "hovertext": [
            "Argentina",
            "Bolivia",
            "Brazil",
            "Canada",
            "Chile",
            "Colombia",
            "Costa Rica",
            "Cuba",
            "Dominican Republic",
            "Ecuador",
            "El Salvador",
            "Guatemala",
            "Haiti",
            "Honduras",
            "Jamaica",
            "Mexico",
            "Nicaragua",
            "Panama",
            "Paraguay",
            "Peru",
            "Puerto Rico",
            "Trinidad and Tobago",
            "United States",
            "Uruguay",
            "Venezuela"
           ],
           "legendgroup": "Americas",
           "locationmode": "country names",
           "locations": [
            "Argentina",
            "Bolivia",
            "Brazil",
            "Canada",
            "Chile",
            "Colombia",
            "Costa Rica",
            "Cuba",
            "Dominican Republic",
            "Ecuador",
            "El Salvador",
            "Guatemala",
            "Haiti",
            "Honduras",
            "Jamaica",
            "Mexico",
            "Nicaragua",
            "Panama",
            "Paraguay",
            "Peru",
            "Puerto Rico",
            "Trinidad and Tobago",
            "United States",
            "Uruguay",
            "Venezuela"
           ],
           "marker": {
            "color": "#ab63fa",
            "size": {
             "bdata": "AAAAEC3fdUEAAACA7NNOQQAAAHwi/pRBAAAAcPPac0EAAACAo+VgQQAAALAz2XJBAAAAAO09OEEAAAAAkQxfQQAAAAB95E5BAAAAABq5VEEAAACAT6pIQQAAAEDV5FFBAAAAQO54UEEAAACAKBRDQQAAAADoZTxBAAAAONXihkEAAAAAEnc8QQAAAAAucjVBAAAAgLh0QUEAAAAA7SNnQQAAAIDANURBAAAAADZNLUEAAACANbCnQQAAAIBR+ERBAAAAAP6EYkE=",
             "dtype": "f8"
            },
            "sizemode": "area",
            "sizeref": 3296707.74,
            "symbol": "circle"
           },
           "mode": "markers",
           "name": "Americas",
           "showlegend": true,
           "type": "scattergeo"
          },
          {
           "geo": "geo",
           "hovertemplate": "<b>%{hovertext}</b><br><br>continent=Oceania<br>year=1967<br>pop=%{marker.size}<br>country=%{location}<extra></extra>",
           "hovertext": [
            "Australia",
            "New Zealand"
           ],
           "legendgroup": "Oceania",
           "locationmode": "country names",
           "locations": [
            "Australia",
            "New Zealand"
           ],
           "marker": {
            "color": "#FFA15A",
            "size": {
             "bdata": "AAAAAAGlZkEAAAAAa9BEQQ==",
             "dtype": "f8"
            },
            "sizemode": "area",
            "sizeref": 3296707.74,
            "symbol": "circle"
           },
           "mode": "markers",
           "name": "Oceania",
           "showlegend": true,
           "type": "scattergeo"
          }
         ],
         "name": "1967"
        },
        {
         "data": [
          {
           "geo": "geo",
           "hovertemplate": "<b>%{hovertext}</b><br><br>continent=Asia<br>year=1972<br>pop=%{marker.size}<br>country=%{location}<extra></extra>",
           "hovertext": [
            "Afghanistan",
            "Bahrain",
            "Bangladesh",
            "Cambodia",
            "China",
            "Hong Kong China",
            "India",
            "Indonesia",
            "Iran",
            "Iraq",
            "Israel",
            "Japan",
            "Jordan",
            "Korea Dem. Rep.",
            "Korea Rep.",
            "Kuwait",
            "Lebanon",
            "Malaysia",
            "Mongolia",
            "Myanmar",
            "Nepal",
            "Oman",
            "Pakistan",
            "Philippines",
            "Saudi Arabia",
            "Singapore",
            "Sri Lanka",
            "Syria",
            "Taiwan",
            "Thailand",
            "Vietnam",
            "West Bank and Gaza",
            "Yemen Rep."
           ],
           "legendgroup": "Asia",
           "locationmode": "country names",
           "locations": [
            "Afghanistan",
            "Bahrain",
            "Bangladesh",
            "Cambodia",
            "China",
            "Hong Kong China",
            "India",
            "Indonesia",
            "Iran",
            "Iraq",
            "Israel",
            "Japan",
            "Jordan",
            "Korea Dem. Rep.",
            "Korea Rep.",
            "Kuwait",
            "Lebanon",
            "Malaysia",
            "Mongolia",
            "Myanmar",
            "Nepal",
            "Oman",
            "Pakistan",
            "Philippines",
            "Saudi Arabia",
            "Singapore",
            "Sri Lanka",
            "Syria",
            "Taiwan",
            "Thailand",
            "Vietnam",
            "West Bank and Gaza",
            "Yemen Rep."
           ],
           "marker": {
            "color": "#636efa",
            "size": {
             "bdata": "AAAAgHTyaEEAAAAAgCwMQQAAAPzN3pBBAAAAgPtrXEEAAABYxLDJQQAAAAB6Zk9BAAAA4N3lwEEAAABAd+qcQQAAAAAfMn1BAAAAQNgwY0EAAACAqp5HQQAAAMRAjplBAAAAAO+eOEEAAAAgZzFsQQAAAIDu839BAAAAAJyxKUEAAAAAaXJEQQAAAMCm0mVBAAAAADQmNEEAAABgzSV7QQAAACDWrGdBAAAAAPRMKUEAAACEUYeQQQAAAOiWeoNBAAAAAA2xWEEAAAAA6GtAQQAAAKDT02hBAAAAAB2QWUEAAADglgptQQAAAMhzuoJBAAAAMA1LhUEAAAAAJKAwQQAAAMB4QVxB",
             "dtype": "f8"
            },
            "sizemode": "area",
            "sizeref": 3296707.74,
            "symbol": "circle"
           },
           "mode": "markers",
           "name": "Asia",
           "showlegend": true,
           "type": "scattergeo"
          },
          {
           "geo": "geo",
           "hovertemplate": "<b>%{hovertext}</b><br><br>continent=Europe<br>year=1972<br>pop=%{marker.size}<br>country=%{location}<extra></extra>",
           "hovertext": [
            "Albania",
            "Austria",
            "Belgium",
            "Bosnia and Herzegovina",
            "Bulgaria",
            "Croatia",
            "Czech Republic",
            "Denmark",
            "Finland",
            "France",
            "Germany",
            "Greece",
            "Hungary",
            "Iceland",
            "Ireland",
            "Italy",
            "Montenegro",
            "Netherlands",
            "Norway",
            "Poland",
            "Portugal",
            "Romania",
            "Serbia",
            "Slovak Republic",
            "Slovenia",
            "Spain",
            "Sweden",
            "Switzerland",
            "Turkey",
            "United Kingdom"
           ],
           "legendgroup": "Europe",
           "locationmode": "country names",
           "locations": [
            "Albania",
            "Austria",
            "Belgium",
            "Bosnia and Herzegovina",
            "Bulgaria",
            "Croatia",
            "Czech Republic",
            "Denmark",
            "Finland",
            "France",
            "Germany",
            "Greece",
            "Hungary",
            "Iceland",
            "Ireland",
            "Italy",
            "Montenegro",
            "Netherlands",
            "Norway",
            "Poland",
            "Portugal",
            "Romania",
            "Serbia",
            "Slovak Republic",
            "Slovenia",
            "Spain",
            "Sweden",
            "Switzerland",
            "Turkey",
            "United Kingdom"
           ],
           "marker": {
            "color": "#EF553B",
            "size": {
             "bdata": "AAAAAAFFQUEAAABAYsdcQQAAAIDFhGJBAAAAAPwiTUEAAAAAmVtgQQAAAIBHHlBBAAAAwIHPYkEAAAAAmwpTQQAAAEDqslFBAAAAAPGqiEEAAACAgsSSQQAAAIAm9GBBAAAAYD3TY0EAAAAA2IsJQQAAAAAIE0dBAAAA4GvsiUEAAAAAfBogQQAAAEC6bGlBAAAAAKYBTkEAAACQS4J/QQAAAEAaHGFBAAAAgJe0c0EAAAAAcrZfQQAAAEDGhVFBAAAAAC7bOUEAAABICHWAQQAAAEDt+15BAAAAAF5rWEEAAADIxuCBQQAAAMCUvYpB",
             "dtype": "f8"
            },
            "sizemode": "area",
            "sizeref": 3296707.74,
            "symbol": "circle"
           },
           "mode": "markers",
           "name": "Europe",
           "showlegend": true,
           "type": "scattergeo"
          },
          {
           "geo": "geo",
           "hovertemplate": "<b>%{hovertext}</b><br><br>continent=Africa<br>year=1972<br>pop=%{marker.size}<br>country=%{location}<extra></extra>",
           "hovertext": [
            "Algeria",
            "Angola",
            "Benin",
            "Botswana",
            "Burkina Faso",
            "Burundi",
            "Cameroon",
            "Central African Republic",
            "Chad",
            "Comoros",
            "Congo Dem. Rep.",
            "Congo Rep.",
            "Cote d'Ivoire",
            "Djibouti",
            "Egypt",
            "Equatorial Guinea",
            "Eritrea",
            "Ethiopia",
            "Gabon",
            "Gambia",
            "Ghana",
            "Guinea",
            "Guinea-Bissau",
            "Kenya",
            "Lesotho",
            "Liberia",
            "Libya",
            "Madagascar",
            "Malawi",
            "Mali",
            "Mauritania",
            "Mauritius",
            "Morocco",
            "Mozambique",
            "Namibia",
            "Niger",
            "Nigeria",
            "Reunion",
            "Rwanda",
            "Sao Tome and Principe",
            "Senegal",
            "Sierra Leone",
            "Somalia",
            "South Africa",
            "Sudan",
            "Swaziland",
            "Tanzania",
            "Togo",
            "Tunisia",
            "Uganda",
            "Zambia",
            "Zimbabwe"
           ],
           "legendgroup": "Africa",
           "locationmode": "country names",
           "locations": [
            "Algeria",
            "Angola",
            "Benin",
            "Botswana",
            "Burkina Faso",
            "Burundi",
            "Cameroon",
            "Central African Republic",
            "Chad",
            "Comoros",
            "Congo Dem. Rep.",
            "Congo Rep.",
            "Cote d'Ivoire",
            "Djibouti",
            "Egypt",
            "Equatorial Guinea",
            "Eritrea",
            "Ethiopia",
            "Gabon",
            "Gambia",
            "Ghana",
            "Guinea",
            "Guinea-Bissau",
            "Kenya",
            "Lesotho",
            "Liberia",
            "Libya",
            "Madagascar",
            "Malawi",
            "Mali",
            "Mauritania",
            "Mauritius",
            "Morocco",
            "Mozambique",
            "Namibia",
            "Niger",
            "Nigeria",
            "Reunion",
            "Rwanda",
            "Sao Tome and Principe",
            "Senegal",
            "Sierra Leone",
            "Somalia",
            "South Africa",
            "Sudan",
            "Swaziland",
            "Tanzania",
            "Togo",
            "Tunisia",
            "Uganda",
            "Zambia",
            "Zimbabwe"
           ],
           "marker": {
            "color": "#00cc96",
            "size": {
             "bdata": "AAAAYGonbEEAAACAsnxWQQAAAIBfEUVBAAAAAK7mIkEAAACAh7pUQQAAAIB/7kpBAAAAAHnIWkEAAAAAXGg9QQAAAABev01BAAAAAFiFDkEAAABQG/F1QQAAAAAqdDRBAAAAAGQpV0EAAAAAANUFQQAAAMjzmIBBAAAAAIzxEEEAAACAbT5BQQAAAEBMWH1BAAAAAPJqIEEAAAAAtI8fQQAAAABx12FBAAAAgB0UTUEAAAAAohUjQQAAACA++WZBAAAAAGsKMUEAAAAAhJ82QQAAAIBiqUBBAAAAgG8EW0EAAABAHQxSQQAAAICPO1ZBAAAAADJWNEEAAAAADPspQQAAAMAXx29BAAAAgNe1YkEAAAAALBQpQQAAAICpTVNBAAAAqBGgiUEAAAAABC0cQQAAAIAcdU5BAAAAADCz8kAAAAAAJoFRQQAAAIAS90VBAAAAgFBMTUEAAAAgtNN2QQAAAGBz12tBAAAAAKRNHUEAAAAg9AxsQQAAAACfYD9BAAAAwDQ7VEEAAACguW9jQQAAAEDgMFFBAAAAwMNbVkE=",
             "dtype": "f8"
            },
            "sizemode": "area",
            "sizeref": 3296707.74,
            "symbol": "circle"
           },
           "mode": "markers",
           "name": "Africa",
           "showlegend": true,
           "type": "scattergeo"
          },
          {
           "geo": "geo",
           "hovertemplate": "<b>%{hovertext}</b><br><br>continent=Americas<br>year=1972<br>pop=%{marker.size}<br>country=%{location}<extra></extra>",
           "hovertext": [
            "Argentina",
            "Bolivia",
            "Brazil",
            "Canada",
            "Chile",
            "Colombia",
            "Costa Rica",
            "Cuba",
            "Dominican Republic",
            "Ecuador",
            "El Salvador",
            "Guatemala",
            "Haiti",
            "Honduras",
            "Jamaica",
            "Mexico",
            "Nicaragua",
            "Panama",
            "Paraguay",
            "Peru",
            "Puerto Rico",
            "Trinidad and Tobago",
            "United States",
            "Uruguay",
            "Venezuela"
           ],
           "legendgroup": "Americas",
           "locationmode": "country names",
           "locations": [
            "Argentina",
            "Bolivia",
            "Brazil",
            "Canada",
            "Chile",
            "Colombia",
            "Costa Rica",
            "Cuba",
            "Dominican Republic",
            "Ecuador",
            "El Salvador",
            "Guatemala",
            "Haiti",
            "Honduras",
            "Jamaica",
            "Mexico",
            "Nicaragua",
            "Panama",
            "Paraguay",
            "Peru",
            "Puerto Rico",
            "Trinidad and Tobago",
            "United States",
            "Uruguay",
            "Venezuela"
           ],
           "marker": {
            "color": "#ab63fa",
            "size": {
             "bdata": "AAAAcMGhd0EAAAAA3GpRQQAAAOjJCphBAAAAQI1AdUEAAACA4ohiQQAAAKCif3VBAAAAACz/O0EAAACALthgQQAAAEDY0VFBAAAAwAYHWEEAAACAG+xMQQAAAEDjpFNBAAAAQC/sUUEAAAAATZ9GQQAAAAAwez5BAAAAMAWyikEAAAAAfqdAQQAAAAAAqjhBAAAAAKzxQ0EAAACA0Z1qQQAAAADOuEVBAAAAAL7CLUEAAACAhAWpQQAAAABrlkVBAAAAIOD2ZUE=",
             "dtype": "f8"
            },
            "sizemode": "area",
            "sizeref": 3296707.74,
            "symbol": "circle"
           },
           "mode": "markers",
           "name": "Americas",
           "showlegend": true,
           "type": "scattergeo"
          },
          {
           "geo": "geo",
           "hovertemplate": "<b>%{hovertext}</b><br><br>continent=Oceania<br>year=1972<br>pop=%{marker.size}<br>country=%{location}<extra></extra>",
           "hovertext": [
            "Australia",
            "New Zealand"
           ],
           "legendgroup": "Oceania",
           "locationmode": "country names",
           "locations": [
            "Australia",
            "New Zealand"
           ],
           "marker": {
            "color": "#FFA15A",
            "size": {
             "bdata": "AAAAABUiaUEAAAAA5lhGQQ==",
             "dtype": "f8"
            },
            "sizemode": "area",
            "sizeref": 3296707.74,
            "symbol": "circle"
           },
           "mode": "markers",
           "name": "Oceania",
           "showlegend": true,
           "type": "scattergeo"
          }
         ],
         "name": "1972"
        },
        {
         "data": [
          {
           "geo": "geo",
           "hovertemplate": "<b>%{hovertext}</b><br><br>continent=Asia<br>year=1977<br>pop=%{marker.size}<br>country=%{location}<extra></extra>",
           "hovertext": [
            "Afghanistan",
            "Bahrain",
            "Bangladesh",
            "Cambodia",
            "China",
            "Hong Kong China",
            "India",
            "Indonesia",
            "Iran",
            "Iraq",
            "Israel",
            "Japan",
            "Jordan",
            "Korea Dem. Rep.",
            "Korea Rep.",
            "Kuwait",
            "Lebanon",
            "Malaysia",
            "Mongolia",
            "Myanmar",
            "Nepal",
            "Oman",
            "Pakistan",
            "Philippines",
            "Saudi Arabia",
            "Singapore",
            "Sri Lanka",
            "Syria",
            "Taiwan",
            "Thailand",
            "Vietnam",
            "West Bank and Gaza",
            "Yemen Rep."
           ],
           "legendgroup": "Asia",
           "locationmode": "country names",
           "locations": [
            "Afghanistan",
            "Bahrain",
            "Bangladesh",
            "Cambodia",
            "China",
            "Hong Kong China",
            "India",
            "Indonesia",
            "Iran",
            "Iraq",
            "Israel",
            "Japan",
            "Jordan",
            "Korea Dem. Rep.",
            "Korea Rep.",
            "Kuwait",
            "Lebanon",
            "Malaysia",
            "Mongolia",
            "Myanmar",
            "Nepal",
            "Oman",
            "Pakistan",
            "Philippines",
            "Saudi Arabia",
            "Singapore",
            "Sri Lanka",
            "Syria",
            "Taiwan",
            "Thailand",
            "Vietnam",
            "West Bank and Gaza",
            "Yemen Rep."
           ],
           "marker": {
            "color": "#636efa",
            "size": {
             "bdata": "AAAAgM5hbEEAAAAACCcSQQAAAEj0LJNBAAAAwAufWkEAAACM/R3MQQAAAABFfFFBAAAAQAnlwkEAAAAQhEygQQAAADgj64BBAAAAgDSqZkEAAAAA96tKQQAAAGQ5JptBAAAAAPSQPUEAAAAAWSNvQQAAAADBX4FBAAAAAIVmMUEAAACAhcVHQQAAAKAogGhBAAAAAMBQN0EAAABwSRF+QQAAAMBRk2pBAAAAAOqnLkEAAAC4D6KSQQAAAJAcV4ZBAAAAQP4BX0EAAAAAmr1BQQAAAID87GpBAAAAwJVCXkEAAADA8gFwQQAAAOgxDYVBAAAAEKQYiEEAAAAAIz4zQQAAAMCCB2BB",
             "dtype": "f8"
            },
            "sizemode": "area",
            "sizeref": 3296707.74,
            "symbol": "circle"
           },
           "mode": "markers",
           "name": "Asia",
           "showlegend": true,
           "type": "scattergeo"
          },
          {
           "geo": "geo",
           "hovertemplate": "<b>%{hovertext}</b><br><br>continent=Europe<br>year=1977<br>pop=%{marker.size}<br>country=%{location}<extra></extra>",
           "hovertext": [
            "Albania",
            "Austria",
            "Belgium",
            "Bosnia and Herzegovina",
            "Bulgaria",
            "Croatia",
            "Czech Republic",
            "Denmark",
            "Finland",
            "France",
            "Germany",
            "Greece",
            "Hungary",
            "Iceland",
            "Ireland",
            "Italy",
            "Montenegro",
            "Netherlands",
            "Norway",
            "Poland",
            "Portugal",
            "Romania",
            "Serbia",
            "Slovak Republic",
            "Slovenia",
            "Spain",
            "Sweden",
            "Switzerland",
            "Turkey",
            "United Kingdom"
           ],
           "legendgroup": "Europe",
           "locationmode": "country names",
           "locations": [
            "Albania",
            "Austria",
            "Belgium",
            "Bosnia and Herzegovina",
            "Bulgaria",
            "Croatia",
            "Czech Republic",
            "Denmark",
            "Finland",
            "France",
            "Germany",
            "Greece",
            "Hungary",
            "Iceland",
            "Ireland",
            "Italy",
            "Montenegro",
            "Netherlands",
            "Norway",
            "Poland",
            "Portugal",
            "Romania",
            "Serbia",
            "Slovak Republic",
            "Slovenia",
            "Spain",
            "Sweden",
            "Switzerland",
            "Turkey",
            "United Kingdom"
           ],
           "marker": {
            "color": "#EF553B",
            "size": {
             "bdata": "AAAAAHwkQ0EAAACAC99cQQAAAADNu2JBAAAAAHgsT0EAAADAa8dgQQAAAEB0eVBBAAAAYN9hY0EAAADAKGlTQQAAAIDVE1JBAAAA2N5ZiUEAAAAUjqKSQQAAAOAnwWFBAAAAYO5JZEEAAAAA+BMLQQAAAABu9khBAAAAaCu7ikEAAAAAkhchQQAAAKAnbGpBAAAAgOLYTkEAAAAwOoKAQQAAAAARbmJBAAAAUL6ndEEAAADgY5FgQQAAAMCmalJBAAAAAOenOkEAAADAHmCBQQAAAABAel9BAAAAAGIYWEEAAAAIRjiEQQAAAMDJyYpB",
             "dtype": "f8"
            },
            "sizemode": "area",
            "sizeref": 3296707.74,
            "symbol": "circle"
           },
           "mode": "markers",
           "name": "Europe",
           "showlegend": true,
           "type": "scattergeo"
          },
          {
           "geo": "geo",
           "hovertemplate": "<b>%{hovertext}</b><br><br>continent=Africa<br>year=1977<br>pop=%{marker.size}<br>country=%{location}<extra></extra>",
           "hovertext": [
            "Algeria",
            "Angola",
            "Benin",
            "Botswana",
            "Burkina Faso",
            "Burundi",
            "Cameroon",
            "Central African Republic",
            "Chad",
            "Comoros",
            "Congo Dem. Rep.",
            "Congo Rep.",
            "Cote d'Ivoire",
            "Djibouti",
            "Egypt",
            "Equatorial Guinea",
            "Eritrea",
            "Ethiopia",
            "Gabon",
            "Gambia",
            "Ghana",
            "Guinea",
            "Guinea-Bissau",
            "Kenya",
            "Lesotho",
            "Liberia",
            "Libya",
            "Madagascar",
            "Malawi",
            "Mali",
            "Mauritania",
            "Mauritius",
            "Morocco",
            "Mozambique",
            "Namibia",
            "Niger",
            "Nigeria",
            "Reunion",
            "Rwanda",
            "Sao Tome and Principe",
            "Senegal",
            "Sierra Leone",
            "Somalia",
            "South Africa",
            "Sudan",
            "Swaziland",
            "Tanzania",
            "Togo",
            "Tunisia",
            "Uganda",
            "Zambia",
            "Zimbabwe"
           ],
           "legendgroup": "Africa",
           "locationmode": "country names",
           "locations": [
            "Algeria",
            "Angola",
            "Benin",
            "Botswana",
            "Burkina Faso",
            "Burundi",
            "Cameroon",
            "Central African Republic",
            "Chad",
            "Comoros",
            "Congo Dem. Rep.",
            "Congo Rep.",
            "Cote d'Ivoire",
            "Djibouti",
            "Egypt",
            "Equatorial Guinea",
            "Eritrea",
            "Ethiopia",
            "Gabon",
            "Gambia",
            "Ghana",
            "Guinea",
            "Guinea-Bissau",
            "Kenya",
            "Lesotho",
            "Liberia",
            "Libya",
            "Madagascar",
            "Malawi",
            "Mali",
            "Mauritania",
            "Mauritius",
            "Morocco",
            "Mozambique",
            "Namibia",
            "Niger",
            "Nigeria",
            "Reunion",
            "Rwanda",
            "Sao Tome and Principe",
            "Senegal",
            "Sierra Leone",
            "Somalia",
            "South Africa",
            "Sudan",
            "Swaziland",
            "Tanzania",
            "Togo",
            "Tunisia",
            "Uganda",
            "Zambia",
            "Zimbabwe"
           ],
           "marker": {
            "color": "#00cc96",
            "size": {
             "bdata": "AAAAQLJbcEEAAADAPIJXQQAAAIAFLEhBAAAAAEDZJ0EAAACAiXdWQQAAAIAXQU1BAAAAQE5dXkEAAACAdolAQQAAAABpvVBBAAAAAIyZEkEAAABgDkF5QQAAAAABczdBAAAAgL10XEEAAAAAsOoLQQAAALhbfoJBAAAAABiFB0EAAAAAgStDQQAAADjOgYBBAAAAAH6OJUEAAAAAJJAiQQAAAKCNGWRBAAAAgPQfUEEAAAAAGL4mQQAAAIBGqGtBAAAAAMQYM0EAAAAAwf45QQAAAID7w0RBAAAAgH+LXkEAAACAH4FVQQAAAECAw1hBAAAAADA6NkEAAAAAAt0rQQAAANBwi3FBAAAAgIc5ZUEAAAAABNEtQQAAAIDprFVBAAAAqOSpjUEAAAAA/AgeQQAAAADsw1FBAAAAAMAw9UAAAADAjRFUQQAAAICQ9kdBAAAAgKCbUEEAAADAhN95QQAAAKAFUHBBAAAAAALUIEEAAADQBVZwQQAAAADznEFBAAAAQFHoVkEAAADAm9plQQAAAIBJ5lNBAAAAwG5WWUE=",
             "dtype": "f8"
            },
            "sizemode": "area",
            "sizeref": 3296707.74,
            "symbol": "circle"
           },
           "mode": "markers",
           "name": "Africa",
           "showlegend": true,
           "type": "scattergeo"
          },
          {
           "geo": "geo",
           "hovertemplate": "<b>%{hovertext}</b><br><br>continent=Americas<br>year=1977<br>pop=%{marker.size}<br>country=%{location}<extra></extra>",
           "hovertext": [
            "Argentina",
            "Bolivia",
            "Brazil",
            "Canada",
            "Chile",
            "Colombia",
            "Costa Rica",
            "Cuba",
            "Dominican Republic",
            "Ecuador",
            "El Salvador",
            "Guatemala",
            "Haiti",
            "Honduras",
            "Jamaica",
            "Mexico",
            "Nicaragua",
            "Panama",
            "Paraguay",
            "Peru",
            "Puerto Rico",
            "Trinidad and Tobago",
            "United States",
            "Uruguay",
            "Venezuela"
           ],
           "legendgroup": "Americas",
           "locationmode": "country names",
           "locations": [
            "Argentina",
            "Bolivia",
            "Brazil",
            "Canada",
            "Chile",
            "Colombia",
            "Costa Rica",
            "Cuba",
            "Dominican Republic",
            "Ecuador",
            "El Salvador",
            "Guatemala",
            "Haiti",
            "Honduras",
            "Jamaica",
            "Mexico",
            "Nicaragua",
            "Panama",
            "Paraguay",
            "Peru",
            "Puerto Rico",
            "Trinidad and Tobago",
            "United States",
            "Uruguay",
            "Venezuela"
           ],
           "marker": {
            "color": "#ab63fa",
            "size": {
             "bdata": "AAAAQNm7eUEAAAAAqWBTQQAAAHwrQZtBAAAAAKuxdkEAAAAgrjdkQQAAAMCQ7ndBAAAAgBQWQEEAAACAODFiQQAAAACEOlRBAAAAgETEW0EAAACANlZQQQAAAIDBwVVBAAAAgIK5UkEAAACAQU9HQQAAAACHdEBBAAAAQDNnjkEAAAAAc31DQQAAAACmEjxBAAAAABfFRkEAAABgqn9uQQAAAAA+gUdBAAAAAEK1L0EAAAAwKUGqQQAAAABY7EVBAAAAYInBaUE=",
             "dtype": "f8"
            },
            "sizemode": "area",
            "sizeref": 3296707.74,
            "symbol": "circle"
           },
           "mode": "markers",
           "name": "Americas",
           "showlegend": true,
           "type": "scattergeo"
          },
          {
           "geo": "geo",
           "hovertemplate": "<b>%{hovertext}</b><br><br>continent=Oceania<br>year=1977<br>pop=%{marker.size}<br>country=%{location}<extra></extra>",
           "hovertext": [
            "Australia",
            "New Zealand"
           ],
           "legendgroup": "Oceania",
           "locationmode": "country names",
           "locations": [
            "Australia",
            "New Zealand"
           ],
           "marker": {
            "color": "#FFA15A",
            "size": {
             "bdata": "AAAAgB7YakEAAAAAciVIQQ==",
             "dtype": "f8"
            },
            "sizemode": "area",
            "sizeref": 3296707.74,
            "symbol": "circle"
           },
           "mode": "markers",
           "name": "Oceania",
           "showlegend": true,
           "type": "scattergeo"
          }
         ],
         "name": "1977"
        },
        {
         "data": [
          {
           "geo": "geo",
           "hovertemplate": "<b>%{hovertext}</b><br><br>continent=Asia<br>year=1982<br>pop=%{marker.size}<br>country=%{location}<extra></extra>",
           "hovertext": [
            "Afghanistan",
            "Bahrain",
            "Bangladesh",
            "Cambodia",
            "China",
            "Hong Kong China",
            "India",
            "Indonesia",
            "Iran",
            "Iraq",
            "Israel",
            "Japan",
            "Jordan",
            "Korea Dem. Rep.",
            "Korea Rep.",
            "Kuwait",
            "Lebanon",
            "Malaysia",
            "Mongolia",
            "Myanmar",
            "Nepal",
            "Oman",
            "Pakistan",
            "Philippines",
            "Saudi Arabia",
            "Singapore",
            "Sri Lanka",
            "Syria",
            "Taiwan",
            "Thailand",
            "Vietnam",
            "West Bank and Gaza",
            "Yemen Rep."
           ],
           "legendgroup": "Asia",
           "locationmode": "country names",
           "locations": [
            "Afghanistan",
            "Bahrain",
            "Bangladesh",
            "Cambodia",
            "China",
            "Hong Kong China",
            "India",
            "Indonesia",
            "Iran",
            "Iraq",
            "Israel",
            "Japan",
            "Jordan",
            "Korea Dem. Rep.",
            "Korea Rep.",
            "Kuwait",
            "Lebanon",
            "Malaysia",
            "Mongolia",
            "Myanmar",
            "Nepal",
            "Oman",
            "Pakistan",
            "Philippines",
            "Saudi Arabia",
            "Singapore",
            "Sri Lanka",
            "Syria",
            "Taiwan",
            "Thailand",
            "Vietnam",
            "West Bank and Gaza",
            "Yemen Rep."
           ],
           "marker": {
            "color": "#636efa",
            "size": {
             "bdata": "AAAAAPORaEEAAAAAvBEXQQAAAJjPMJZBAAAAQAm+W0EAAADUic/NQQAAAAAdFVRBAAAAgJwZxUEAAAAwqEeiQQAAAHjniYRBAAAAwJAIa0EAAACA+m9NQQAAAPjqPZxBAAAAgAvoQUEAAADgedRwQQAAAICJwIJBAAAAAJbZNkEAAAAADo1HQQAAAIC3i2tBAAAAAIDLOkEAAADQc4mAQQAAAEALIW5BAAAAADjaM0EAAAAgZ86VQQAAADB8fYlBAAAAAHJ3ZUEAAACAbjtEQQAAAOB8ZG1BAAAAwPfyYUEAAADg8KRxQQAAAMBYSIdBAAAAKEvFikEAAAAA1ME1QQAAAECia2JB",
             "dtype": "f8"
            },
            "sizemode": "area",
            "sizeref": 3296707.74,
            "symbol": "circle"
           },
           "mode": "markers",
           "name": "Asia",
           "showlegend": true,
           "type": "scattergeo"
          },
          {
           "geo": "geo",
           "hovertemplate": "<b>%{hovertext}</b><br><br>continent=Europe<br>year=1982<br>pop=%{marker.size}<br>country=%{location}<extra></extra>",
           "hovertext": [
            "Albania",
            "Austria",
            "Belgium",
            "Bosnia and Herzegovina",
            "Bulgaria",
            "Croatia",
            "Czech Republic",
            "Denmark",
            "Finland",
            "France",
            "Germany",
            "Greece",
            "Hungary",
            "Iceland",
            "Ireland",
            "Italy",
            "Montenegro",
            "Netherlands",
            "Norway",
            "Poland",
            "Portugal",
            "Romania",
            "Serbia",
            "Slovak Republic",
            "Slovenia",
            "Spain",
            "Sweden",
            "Switzerland",
            "Turkey",
            "United Kingdom"
           ],
           "legendgroup": "Europe",
           "locationmode": "country names",
           "locations": [
            "Albania",
            "Austria",
            "Belgium",
            "Bosnia and Herzegovina",
            "Bulgaria",
            "Croatia",
            "Czech Republic",
            "Denmark",
            "Finland",
            "France",
            "Germany",
            "Greece",
            "Hungary",
            "Iceland",
            "Ireland",
            "Italy",
            "Montenegro",
            "Netherlands",
            "Norway",
            "Poland",
            "Portugal",
            "Romania",
            "Serbia",
            "Slovak Republic",
            "Slovenia",
            "Spain",
            "Sweden",
            "Switzerland",
            "Turkey",
            "United Kingdom"
           ],
           "marker": {
            "color": "#EF553B",
            "size": {
             "bdata": "AAAAgOA1RUEAAABAFeVcQQAAAOClzGJBAAAAgMrVT0EAAABA2PVgQQAAAADu1VBBAAAAABunY0EAAACA3IVTQQAAAEDNaVJBAAAA6Lj0iUEAAACINK2SQQAAAACOqmJBAAAA4E9rZEEAAAAAaJAMQQAAAADgjEpBAAAAoFL1ikEAAAAA6CohQQAAACCAS2tBAAAAgLFkT0EAAACoSUaBQQAAAEBIzmJBAAAAYC9SdUEAAAAAjzphQQAAAMC6QVNBAAAAAIRmPEEAAABwohyCQQAAAAAjwl9BAAAAgIesWEEAAAC4cJGGQQAAAMBn3YpB",
             "dtype": "f8"
            },
            "sizemode": "area",
            "sizeref": 3296707.74,
            "symbol": "circle"
           },
           "mode": "markers",
           "name": "Europe",
           "showlegend": true,
           "type": "scattergeo"
          },
          {
           "geo": "geo",
           "hovertemplate": "<b>%{hovertext}</b><br><br>continent=Africa<br>year=1982<br>pop=%{marker.size}<br>country=%{location}<extra></extra>",
           "hovertext": [
            "Algeria",
            "Angola",
            "Benin",
            "Botswana",
            "Burkina Faso",
            "Burundi",
            "Cameroon",
            "Central African Republic",
            "Chad",
            "Comoros",
            "Congo Dem. Rep.",
            "Congo Rep.",
            "Cote d'Ivoire",
            "Djibouti",
            "Egypt",
            "Equatorial Guinea",
            "Eritrea",
            "Ethiopia",
            "Gabon",
            "Gambia",
            "Ghana",
            "Guinea",
            "Guinea-Bissau",
            "Kenya",
            "Lesotho",
            "Liberia",
            "Libya",
            "Madagascar",
            "Malawi",
            "Mali",
            "Mauritania",
            "Mauritius",
            "Morocco",
            "Mozambique",
            "Namibia",
            "Niger",
            "Nigeria",
            "Reunion",
            "Rwanda",
            "Sao Tome and Principe",
            "Senegal",
            "Sierra Leone",
            "Somalia",
            "South Africa",
            "Sudan",
            "Swaziland",
            "Tanzania",
            "Togo",
            "Tunisia",
            "Uganda",
            "Zambia",
            "Zimbabwe"
           ],
           "legendgroup": "Africa",
           "locationmode": "country names",
           "locations": [
            "Algeria",
            "Angola",
            "Benin",
            "Botswana",
            "Burkina Faso",
            "Burundi",
            "Cameroon",
            "Central African Republic",
            "Chad",
            "Comoros",
            "Congo Dem. Rep.",
            "Congo Rep.",
            "Cote d'Ivoire",
            "Djibouti",
            "Egypt",
            "Equatorial Guinea",
            "Eritrea",
            "Ethiopia",
            "Gabon",
            "Gambia",
            "Ghana",
            "Guinea",
            "Guinea-Bissau",
            "Kenya",
            "Lesotho",
            "Liberia",
            "Libya",
            "Madagascar",
            "Malawi",
            "Mali",
            "Mauritania",
            "Mauritius",
            "Morocco",
            "Mozambique",
            "Namibia",
            "Niger",
            "Nigeria",
            "Reunion",
            "Rwanda",
            "Sao Tome and Principe",
            "Senegal",
            "Sierra Leone",
            "Somalia",
            "South Africa",
            "Sudan",
            "Swaziland",
            "Tanzania",
            "Togo",
            "Tunisia",
            "Uganda",
            "Zambia",
            "Zimbabwe"
           ],
           "marker": {
            "color": "#00cc96",
            "size": {
             "bdata": "AAAAkA0bc0EAAAAA8MNaQQAAAICByEtBAAAAANacLUEAAAAAGU9ZQQAAAIAOeVFBAAAA4AGlYUEAAACA1eVCQQAAAIDbmFJBAAAAAIxHFUEAAADwDTp9QQAAAACPFDtBAAAA4DM3YUEAAAAAHK0SQQAAAJhkyIVBAAAAAKxsEUEAAACA+B5EQQAAAGBQLIJBAAAAAKQBJ0EAAAAABtYlQQAAAECSvmVBAAAAQBj4UUEAAAAABjUpQQAAAMDg13BBAAAAAN+KNUEAAAAAC9w9QQAAAABlg0lBAAAAoEJ+YUEAAABAas5YQQAAAAA8slpBAAAAAHjAOEEAAAAAUEYuQQAAAKBUQ3NBAAAA4BoCaEEAAAAAAsUwQQAAAABRjlhBAAAAQPhpkUEAAAAAyJofQQAAAEB7AlVBAAAAABAS+EAAAADAsXNXQQAAAAClbkpBAAAAAEc8VkEAAADQi7J9QQAAANBsbHNBAAAAAFrVI0EAAADg0exyQQAAAICOLURBAAAAgESwWUEAAAAAEa5oQQAAAMBtRVdBAAAAAIshXUE=",
             "dtype": "f8"
            },
            "sizemode": "area",
            "sizeref": 3296707.74,
            "symbol": "circle"
           },
           "mode": "markers",
           "name": "Africa",
           "showlegend": true,
           "type": "scattergeo"
          },
          {
           "geo": "geo",
           "hovertemplate": "<b>%{hovertext}</b><br><br>continent=Americas<br>year=1982<br>pop=%{marker.size}<br>country=%{location}<extra></extra>",
           "hovertext": [
            "Argentina",
            "Bolivia",
            "Brazil",
            "Canada",
            "Chile",
            "Colombia",
            "Costa Rica",
            "Cuba",
            "Dominican Republic",
            "Ecuador",
            "El Salvador",
            "Guatemala",
            "Haiti",
            "Honduras",
            "Jamaica",
            "Mexico",
            "Nicaragua",
            "Panama",
            "Paraguay",
            "Peru",
            "Puerto Rico",
            "Trinidad and Tobago",
            "United States",
            "Uruguay",
            "Venezuela"
           ],
           "legendgroup": "Americas",
           "locationmode": "country names",
           "locations": [
            "Argentina",
            "Bolivia",
            "Brazil",
            "Canada",
            "Chile",
            "Colombia",
            "Costa Rica",
            "Cuba",
            "Dominican Republic",
            "Ecuador",
            "El Salvador",
            "Guatemala",
            "Haiti",
            "Honduras",
            "Jamaica",
            "Mexico",
            "Nicaragua",
            "Panama",
            "Paraguay",
            "Peru",
            "Puerto Rico",
            "Trinidad and Tobago",
            "United States",
            "Uruguay",
            "Venezuela"
           ],
           "marker": {
            "color": "#ab63fa",
            "size": {
             "bdata": "AAAA4Gv7e0EAAAAA/IVVQQAAAOxFv55BAAAAwM4IeEEAAAAA8ehlQQAAAEB6enpBAAAAgBd/QkEAAAAA5atiQQAAAEB3xFZBAAAAgMbpX0EAAABA/hFRQQAAAIC7ZVhBAAAAwI/UU0EAAAAA5P5LQQAAAIDiiEFBAAAAIJ0UkUEAAACAL7tGQQAAAABREj9BAAAAgBOvSUEAAACQFElxQQAAAIBMBElBAAAAAD8JMUEAAAB2z62rQQAAAICGiUZBAAAAwFPLbUE=",
             "dtype": "f8"
            },
            "sizemode": "area",
            "sizeref": 3296707.74,
            "symbol": "circle"
           },
           "mode": "markers",
           "name": "Americas",
           "showlegend": true,
           "type": "scattergeo"
          },
          {
           "geo": "geo",
           "hovertemplate": "<b>%{hovertext}</b><br><br>continent=Oceania<br>year=1982<br>pop=%{marker.size}<br>country=%{location}<extra></extra>",
           "hovertext": [
            "Australia",
            "New Zealand"
           ],
           "legendgroup": "Oceania",
           "locationmode": "country names",
           "locations": [
            "Australia",
            "New Zealand"
           ],
           "marker": {
            "color": "#FFA15A",
            "size": {
             "bdata": "AAAAACn2bEEAAAAAzX5IQQ==",
             "dtype": "f8"
            },
            "sizemode": "area",
            "sizeref": 3296707.74,
            "symbol": "circle"
           },
           "mode": "markers",
           "name": "Oceania",
           "showlegend": true,
           "type": "scattergeo"
          }
         ],
         "name": "1982"
        },
        {
         "data": [
          {
           "geo": "geo",
           "hovertemplate": "<b>%{hovertext}</b><br><br>continent=Asia<br>year=1987<br>pop=%{marker.size}<br>country=%{location}<extra></extra>",
           "hovertext": [
            "Afghanistan",
            "Bahrain",
            "Bangladesh",
            "Cambodia",
            "China",
            "Hong Kong China",
            "India",
            "Indonesia",
            "Iran",
            "Iraq",
            "Israel",
            "Japan",
            "Jordan",
            "Korea Dem. Rep.",
            "Korea Rep.",
            "Kuwait",
            "Lebanon",
            "Malaysia",
            "Mongolia",
            "Myanmar",
            "Nepal",
            "Oman",
            "Pakistan",
            "Philippines",
            "Saudi Arabia",
            "Singapore",
            "Sri Lanka",
            "Syria",
            "Taiwan",
            "Thailand",
            "Vietnam",
            "West Bank and Gaza",
            "Yemen Rep."
           ],
           "legendgroup": "Asia",
           "locationmode": "country names",
           "locations": [
            "Afghanistan",
            "Bahrain",
            "Bangladesh",
            "Cambodia",
            "China",
            "Hong Kong China",
            "India",
            "Indonesia",
            "Iran",
            "Iraq",
            "Israel",
            "Japan",
            "Jordan",
            "Korea Dem. Rep.",
            "Korea Rep.",
            "Kuwait",
            "Lebanon",
            "Malaysia",
            "Mongolia",
            "Myanmar",
            "Nepal",
            "Oman",
            "Pakistan",
            "Philippines",
            "Saudi Arabia",
            "Singapore",
            "Sri Lanka",
            "Syria",
            "Taiwan",
            "Thailand",
            "Vietnam",
            "West Bank and Gaza",
            "Yemen Rep."
           ],
           "marker": {
            "color": "#636efa",
            "size": {
             "bdata": "AAAAoHZzakEAAAAAUL8bQQAAAEREvZhBAAAAwJPvX0EAAADuQyfQQQAAAICfTVVBAAAAgPZ7x0EAAADA5C2kQQAAAAAxvohBAAAAoLqNb0EAAAAAowhQQQAAAPTcG51BAAAAAOWDRUEAAAAgKi9yQQAAAIDP2INBAAAAAJ/cPEEAAACA5JFHQQAAACCBJm9BAAAAAJ2/PkEAAAAQKSKCQQAAAMBPFnFBAAAAABpSOEEAAAAEGRSZQQAAAOBjnoxBAAAAIIzia0EAAAAAHFJFQQAAAABZdm9BAAAA4KtxZUEAAABwrtdyQQAAADDIOolBAAAA2D/1jUEAAAAASs45QQAAAIAxZmVB",
             "dtype": "f8"
            },
            "sizemode": "area",
            "sizeref": 3296707.74,
            "symbol": "circle"
           },
           "mode": "markers",
           "name": "Asia",
           "showlegend": true,
           "type": "scattergeo"
          },
          {
           "geo": "geo",
           "hovertemplate": "<b>%{hovertext}</b><br><br>continent=Europe<br>year=1987<br>pop=%{marker.size}<br>country=%{location}<extra></extra>",
           "hovertext": [
            "Albania",
            "Austria",
            "Belgium",
            "Bosnia and Herzegovina",
            "Bulgaria",
            "Croatia",
            "Czech Republic",
            "Denmark",
            "Finland",
            "France",
            "Germany",
            "Greece",
            "Hungary",
            "Iceland",
            "Ireland",
            "Italy",
            "Montenegro",
            "Netherlands",
            "Norway",
            "Poland",
            "Portugal",
            "Romania",
            "Serbia",
            "Slovak Republic",
            "Slovenia",
            "Spain",
            "Sweden",
            "Switzerland",
            "Turkey",
            "United Kingdom"
           ],
           "legendgroup": "Europe",
           "locationmode": "country names",
           "locations": [
            "Albania",
            "Austria",
            "Belgium",
            "Bosnia and Herzegovina",
            "Bulgaria",
            "Croatia",
            "Czech Republic",
            "Denmark",
            "Finland",
            "France",
            "Germany",
            "Greece",
            "Hungary",
            "Iceland",
            "Ireland",
            "Italy",
            "Montenegro",
            "Netherlands",
            "Norway",
            "Poland",
            "Portugal",
            "Romania",
            "Serbia",
            "Slovak Republic",
            "Slovenia",
            "Spain",
            "Sweden",
            "Switzerland",
            "Turkey",
            "United Kingdom"
           ],
           "marker": {
            "color": "#EF553B",
            "size": {
             "bdata": "AAAAgHx2R0EAAADARelcQQAAAABv02JBAAAAQEiNUEEAAADA1hxhQQAAAIA1G1FBAAAAoPWqY0EAAAAA3I5TQQAAAEAk0FJBAAAAoMiGikEAAABojIeSQQAAAEBbBmNBAAAAgAA+ZEEAAAAAIN4NQQAAAADeAUtBAAAAOAMNi0EAAAAAAmEhQQAAAMDH+GtBAAAAgBHwT0EAAAAwBf+BQQAAACBz6WJBAAAAMKqidUEAAADgN5thQQAAAIB11VNBAAAAAA6xPUEAAADwLYqCQQAAAGADEGBBAAAAgBVeWUEAAACAPTeJQQAAAKDDK4tB",
             "dtype": "f8"
            },
            "sizemode": "area",
            "sizeref": 3296707.74,
            "symbol": "circle"
           },
           "mode": "markers",
           "name": "Europe",
           "showlegend": true,
           "type": "scattergeo"
          },
          {
           "geo": "geo",
           "hovertemplate": "<b>%{hovertext}</b><br><br>continent=Africa<br>year=1987<br>pop=%{marker.size}<br>country=%{location}<extra></extra>",
           "hovertext": [
            "Algeria",
            "Angola",
            "Benin",
            "Botswana",
            "Burkina Faso",
            "Burundi",
            "Cameroon",
            "Central African Republic",
            "Chad",
            "Comoros",
            "Congo Dem. Rep.",
            "Congo Rep.",
            "Cote d'Ivoire",
            "Djibouti",
            "Egypt",
            "Equatorial Guinea",
            "Eritrea",
            "Ethiopia",
            "Gabon",
            "Gambia",
            "Ghana",
            "Guinea",
            "Guinea-Bissau",
            "Kenya",
            "Lesotho",
            "Liberia",
            "Libya",
            "Madagascar",
            "Malawi",
            "Mali",
            "Mauritania",
            "Mauritius",
            "Morocco",
            "Mozambique",
            "Namibia",
            "Niger",
            "Nigeria",
            "Reunion",
            "Rwanda",
            "Sao Tome and Principe",
            "Senegal",
            "Sierra Leone",
            "Somalia",
            "South Africa",
            "Sudan",
            "Swaziland",
            "Tanzania",
            "Togo",
            "Tunisia",
            "Uganda",
            "Zambia",
            "Zimbabwe"
           ],
           "legendgroup": "Africa",
           "locationmode": "country names",
           "locations": [
            "Algeria",
            "Angola",
            "Benin",
            "Botswana",
            "Burkina Faso",
            "Burundi",
            "Cameroon",
            "Central African Republic",
            "Chad",
            "Comoros",
            "Congo Dem. Rep.",
            "Congo Rep.",
            "Cote d'Ivoire",
            "Djibouti",
            "Egypt",
            "Equatorial Guinea",
            "Eritrea",
            "Ethiopia",
            "Gabon",
            "Gambia",
            "Ghana",
            "Guinea",
            "Guinea-Bissau",
            "Kenya",
            "Lesotho",
            "Liberia",
            "Libya",
            "Madagascar",
            "Malawi",
            "Mali",
            "Mauritania",
            "Mauritius",
            "Morocco",
            "Mozambique",
            "Namibia",
            "Niger",
            "Nigeria",
            "Reunion",
            "Rwanda",
            "Sao Tome and Principe",
            "Senegal",
            "Sierra Leone",
            "Somalia",
            "South Africa",
            "Sudan",
            "Swaziland",
            "Tanzania",
            "Togo",
            "Tunisia",
            "Uganda",
            "Zambia",
            "Zimbabwe"
           ],
           "marker": {
            "color": "#00cc96",
            "size": {
             "bdata": "AAAAwHotdkEAAACArQleQQAAAABTMFBBAAAAANCQMUEAAADAvfBcQQAAAMDhjVNBAAAAYP+PZEEAAACA5KpFQQAAAMAS+lRBAAAAAKgdGEEAAABoQeuAQQAAAADffj9BAAAAQHGGZEEAAAAAxPsSQQAAALAyLYlBAAAAAPDTFEEAAACAOz9GQQAAAFD3gIRBAAAAABreKkEAAAAALOQpQQAAAKAEBmtBAAAAgNWNVUEAAAAASE4sQQAAACBQN3RBAAAAAOBmOEEAAAAAc1BBQQAAAICS/UxBAAAAQHgoZEEAAADAWtldQQAAAAAWH11BAAAAAFgYPEEAAAAAztEvQQAAAFAo7HVBAAAAAOaWaEEAAAAA6IAzQQAAAIDH+FtBAAAAgIJxk0EAAAAA5iYhQQAAAECNOFhBAAAAAMAN+0AAAADARFtbQQAAAIB0hE1BAAAAgKBnWkEAAAAYZiKBQQAAAICclHdBAAAAAKjIJ0EAAABgJ/l1QQAAAACsEEhBAAAAAOx3XUEAAABAbSZtQQAAAID1vVtBAAAAQDSUYUE=",
             "dtype": "f8"
            },
            "sizemode": "area",
            "sizeref": 3296707.74,
            "symbol": "circle"
           },
           "mode": "markers",
           "name": "Africa",
           "showlegend": true,
           "type": "scattergeo"
          },
          {
           "geo": "geo",
           "hovertemplate": "<b>%{hovertext}</b><br><br>continent=Americas<br>year=1987<br>pop=%{marker.size}<br>country=%{location}<extra></extra>",
           "hovertext": [
            "Argentina",
            "Bolivia",
            "Brazil",
            "Canada",
            "Chile",
            "Colombia",
            "Costa Rica",
            "Cuba",
            "Dominican Republic",
            "Ecuador",
            "El Salvador",
            "Guatemala",
            "Haiti",
            "Honduras",
            "Jamaica",
            "Mexico",
            "Nicaragua",
            "Panama",
            "Paraguay",
            "Peru",
            "Puerto Rico",
            "Trinidad and Tobago",
            "United States",
            "Uruguay",
            "Venezuela"
           ],
           "legendgroup": "Americas",
           "locationmode": "country names",
           "locations": [
            "Argentina",
            "Bolivia",
            "Brazil",
            "Canada",
            "Chile",
            "Colombia",
            "Costa Rica",
            "Cuba",
            "Dominican Republic",
            "Ecuador",
            "El Salvador",
            "Guatemala",
            "Haiti",
            "Honduras",
            "Jamaica",
            "Mexico",
            "Nicaragua",
            "Panama",
            "Paraguay",
            "Peru",
            "Puerto Rico",
            "Trinidad and Tobago",
            "United States",
            "Uruguay",
            "Venezuela"
           ],
           "marker": {
            "color": "#ab63fa",
            "size": {
             "bdata": "AAAAYPMnfkEAAABAFHxXQQAAALgfCqFBAAAAQNxReUEAAABAn8VnQQAAAFChh31BAAAAgGFcRUEAAADg64djQQAAAEBQY1lBAAAAwLg0YkEAAACAtHhSQQAAAICx8ltBAAAAwEr1VUEAAADAuq1QQQAAAAAnwEFBAAAA8Ekak0EAAACA8INJQQAAAICjMUFBAAAAANimTUEAAABApUJzQQAAAAB6R0pBAAAAAKgtMkEAAACaxvGsQQAAAICQO0dBAAAAYJoUcUE=",
             "dtype": "f8"
            },
            "sizemode": "area",
            "sizeref": 3296707.74,
            "symbol": "circle"
           },
           "mode": "markers",
           "name": "Americas",
           "showlegend": true,
           "type": "scattergeo"
          },
          {
           "geo": "geo",
           "hovertemplate": "<b>%{hovertext}</b><br><br>continent=Oceania<br>year=1987<br>pop=%{marker.size}<br>country=%{location}<extra></extra>",
           "hovertext": [
            "Australia",
            "New Zealand"
           ],
           "legendgroup": "Oceania",
           "locationmode": "country names",
           "locations": [
            "Australia",
            "New Zealand"
           ],
           "marker": {
            "color": "#FFA15A",
            "size": {
             "bdata": "AAAAIBwCb0EAAAAA105JQQ==",
             "dtype": "f8"
            },
            "sizemode": "area",
            "sizeref": 3296707.74,
            "symbol": "circle"
           },
           "mode": "markers",
           "name": "Oceania",
           "showlegend": true,
           "type": "scattergeo"
          }
         ],
         "name": "1987"
        },
        {
         "data": [
          {
           "geo": "geo",
           "hovertemplate": "<b>%{hovertext}</b><br><br>continent=Asia<br>year=1992<br>pop=%{marker.size}<br>country=%{location}<extra></extra>",
           "hovertext": [
            "Afghanistan",
            "Bahrain",
            "Bangladesh",
            "Cambodia",
            "China",
            "Hong Kong China",
            "India",
            "Indonesia",
            "Iran",
            "Iraq",
            "Israel",
            "Japan",
            "Jordan",
            "Korea Dem. Rep.",
            "Korea Rep.",
            "Kuwait",
            "Lebanon",
            "Malaysia",
            "Mongolia",
            "Myanmar",
            "Nepal",
            "Oman",
            "Pakistan",
            "Philippines",
            "Saudi Arabia",
            "Singapore",
            "Sri Lanka",
            "Syria",
            "Taiwan",
            "Thailand",
            "Vietnam",
            "West Bank and Gaza",
            "Yemen Rep."
           ],
           "legendgroup": "Asia",
           "locationmode": "country names",
           "locations": [
            "Afghanistan",
            "Bahrain",
            "Bangladesh",
            "Cambodia",
            "China",
            "Hong Kong China",
            "India",
            "Indonesia",
            "Iran",
            "Iraq",
            "Israel",
            "Japan",
            "Jordan",
            "Korea Dem. Rep.",
            "Korea Rep.",
            "Kuwait",
            "Lebanon",
            "Malaysia",
            "Mongolia",
            "Myanmar",
            "Nepal",
            "Oman",
            "Pakistan",
            "Philippines",
            "Saudi Arabia",
            "Singapore",
            "Sri Lanka",
            "Syria",
            "Taiwan",
            "Thailand",
            "Vietnam",
            "West Bank and Gaza",
            "Yemen Rep."
           ],
           "marker": {
            "color": "#636efa",
            "size": {
             "bdata": "AAAAILwfb0EAAAAApiggQQAAAAz6G5tBAAAAwBlcY0EAAAAEAlzRQQAAAAAQPVZBAAAAANX8yUEAAAAAIwimQQAAAKjMzIxBAAAAENEIcUEAAACA2dRSQQAAANR0pJ1BAAAAgIiBTUEAAADwfMBzQQAAAFBY44RBAAAAAG+jNUEAAAAADZFIQQAAAOCIeHFBAAAAADGlQUEAAABQh1WDQQAAABB0YnNBAAAAAEg5PUEAAACwL6CcQQAAAJixBJBBAAAAECwpcEEAAACADLBIQQAAAEC3xXBBAAAAwJ42aUEAAABghLpzQQAAALheBYtBAAAA4NeskEEAAACA5Q5AQQAAAKBXf2lB",
             "dtype": "f8"
            },
            "sizemode": "area",
            "sizeref": 3296707.74,
            "symbol": "circle"
           },
           "mode": "markers",
           "name": "Asia",
           "showlegend": true,
           "type": "scattergeo"
          },
          {
           "geo": "geo",
           "hovertemplate": "<b>%{hovertext}</b><br><br>continent=Europe<br>year=1992<br>pop=%{marker.size}<br>country=%{location}<extra></extra>",
           "hovertext": [
            "Albania",
            "Austria",
            "Belgium",
            "Bosnia and Herzegovina",
            "Bulgaria",
            "Croatia",
            "Czech Republic",
            "Denmark",
            "Finland",
            "France",
            "Germany",
            "Greece",
            "Hungary",
            "Iceland",
            "Ireland",
            "Italy",
            "Montenegro",
            "Netherlands",
            "Norway",
            "Poland",
            "Portugal",
            "Romania",
            "Serbia",
            "Slovak Republic",
            "Slovenia",
            "Spain",
            "Sweden",
            "Switzerland",
            "Turkey",
            "United Kingdom"
           ],
           "legendgroup": "Europe",
           "locationmode": "country names",
           "locations": [
            "Albania",
            "Austria",
            "Belgium",
            "Bosnia and Herzegovina",
            "Bulgaria",
            "Croatia",
            "Czech Republic",
            "Denmark",
            "Finland",
            "France",
            "Germany",
            "Greece",
            "Hungary",
            "Iceland",
            "Ireland",
            "Italy",
            "Montenegro",
            "Netherlands",
            "Norway",
            "Poland",
            "Portugal",
            "Romania",
            "Serbia",
            "Slovak Republic",
            "Slovenia",
            "Spain",
            "Sweden",
            "Switzerland",
            "Turkey",
            "United Kingdom"
           ],
           "marker": {
            "color": "#EF553B",
            "size": {
             "bdata": "AAAAABFhSUEAAABAdjFeQQAAAMAWKWNBAAAAQEM8UEEAAABAyYNgQQAAAECvJFFBAAAAwPasY0EAAABAMLpTQQAAAMDjOlNBAAAAGK9bi0EAAAAQTDeTQQAAAKC2sWNBAAAAgBG9Y0EAAAAAIJ4PQQAAAIDAJEtBAAAAeJQai0EAAAAAavgiQQAAAIBM8WxBAAAAQOVZUEEAAABI7EuCQQAAAACA72JBAAAAMK69dUEAAACgC75iQQAAAACaOlRBAAAAAGqBPkEAAADwz9uCQQAAAGBCoWBBAAAAwH2vWkEAAABA8r2LQQAAAGjDl4tB",
             "dtype": "f8"
            },
            "sizemode": "area",
            "sizeref": 3296707.74,
            "symbol": "circle"
           },
           "mode": "markers",
           "name": "Europe",
           "showlegend": true,
           "type": "scattergeo"
          },
          {
           "geo": "geo",
           "hovertemplate": "<b>%{hovertext}</b><br><br>continent=Africa<br>year=1992<br>pop=%{marker.size}<br>country=%{location}<extra></extra>",
           "hovertext": [
            "Algeria",
            "Angola",
            "Benin",
            "Botswana",
            "Burkina Faso",
            "Burundi",
            "Cameroon",
            "Central African Republic",
            "Chad",
            "Comoros",
            "Congo Dem. Rep.",
            "Congo Rep.",
            "Cote d'Ivoire",
            "Djibouti",
            "Egypt",
            "Equatorial Guinea",
            "Eritrea",
            "Ethiopia",
            "Gabon",
            "Gambia",
            "Ghana",
            "Guinea",
            "Guinea-Bissau",
            "Kenya",
            "Lesotho",
            "Liberia",
            "Libya",
            "Madagascar",
            "Malawi",
            "Mali",
            "Mauritania",
            "Mauritius",
            "Morocco",
            "Mozambique",
            "Namibia",
            "Niger",
            "Nigeria",
            "Reunion",
            "Rwanda",
            "Sao Tome and Principe",
            "Senegal",
            "Sierra Leone",
            "Somalia",
            "South Africa",
            "Sudan",
            "Swaziland",
            "Tanzania",
            "Togo",
            "Tunisia",
            "Uganda",
            "Zambia",
            "Zimbabwe"
           ],
           "legendgroup": "Africa",
           "locationmode": "country names",
           "locations": [
            "Algeria",
            "Angola",
            "Benin",
            "Botswana",
            "Burkina Faso",
            "Burundi",
            "Cameroon",
            "Central African Republic",
            "Chad",
            "Comoros",
            "Congo Dem. Rep.",
            "Congo Rep.",
            "Cote d'Ivoire",
            "Djibouti",
            "Egypt",
            "Equatorial Guinea",
            "Eritrea",
            "Ethiopia",
            "Gabon",
            "Gambia",
            "Ghana",
            "Guinea",
            "Guinea-Bissau",
            "Kenya",
            "Lesotho",
            "Liberia",
            "Libya",
            "Madagascar",
            "Malawi",
            "Mali",
            "Mauritania",
            "Mauritius",
            "Morocco",
            "Mozambique",
            "Namibia",
            "Niger",
            "Nigeria",
            "Reunion",
            "Rwanda",
            "Sao Tome and Principe",
            "Senegal",
            "Sierra Leone",
            "Somalia",
            "South Africa",
            "Sudan",
            "Swaziland",
            "Tanzania",
            "Togo",
            "Tunisia",
            "Uganda",
            "Zambia",
            "Zimbabwe"
           ],
           "marker": {
            "color": "#00cc96",
            "size": {
             "bdata": "AAAAUIAUeUEAAACAnqlgQQAAAMDpAFNBAAAAAJZ8NEEAAADgG+9gQQAAAAAVKVZBAAAAYHzHZ0EAAAAAMulIQQAAAEC6hlhBAAAAAHS8G0EAAAB47t6DQQAAAIA4YUJBAAAAgJ5caEEAAAAAcHIXQQAAALA+U4xBAAAAAPirF0EAAAAA7PxLQQAAAHh31ohBAAAAABYVLkEAAAAA0EovQQAAAECaDG9BAAAAgLuqWkEAAAAAOgkwQQAAALCH3HdBAAAAALuDO0EAAAAAjjA9QQAAAEA1plBBAAAAYBtKZ0EAAAAgxRljQQAAAOB6DWBBAAAAgJQrQEEAAAAACrowQQAAAPBlmnhBAAAAYCMaaUEAAAAATbc3QQAAAEAOAmBBAAAAUIBClkEAAAAA3vwiQQAAAMBWz1tBAAAAAHC9/kAAAAAANLFfQQAAAAAFQVBBAAAAwNVEV0EAAAD4bw6DQQAAAECA63pBAAAAAFBeLUEAAAAQel95QQAAAIBwl0xBAAAAoKhBYEEAAADgGWhxQQAAAMC6+F9BAAAAgLpqZEE=",
             "dtype": "f8"
            },
            "sizemode": "area",
            "sizeref": 3296707.74,
            "symbol": "circle"
           },
           "mode": "markers",
           "name": "Africa",
           "showlegend": true,
           "type": "scattergeo"
          },
          {
           "geo": "geo",
           "hovertemplate": "<b>%{hovertext}</b><br><br>continent=Americas<br>year=1992<br>pop=%{marker.size}<br>country=%{location}<extra></extra>",
           "hovertext": [
            "Argentina",
            "Bolivia",
            "Brazil",
            "Canada",
            "Chile",
            "Colombia",
            "Costa Rica",
            "Cuba",
            "Dominican Republic",
            "Ecuador",
            "El Salvador",
            "Guatemala",
            "Haiti",
            "Honduras",
            "Jamaica",
            "Mexico",
            "Nicaragua",
            "Panama",
            "Paraguay",
            "Peru",
            "Puerto Rico",
            "Trinidad and Tobago",
            "United States",
            "Uruguay",
            "Venezuela"
           ],
           "legendgroup": "Americas",
           "locationmode": "country names",
           "locations": [
            "Argentina",
            "Bolivia",
            "Brazil",
            "Canada",
            "Chile",
            "Colombia",
            "Costa Rica",
            "Cuba",
            "Dominican Republic",
            "Ecuador",
            "El Salvador",
            "Guatemala",
            "Haiti",
            "Honduras",
            "Jamaica",
            "Mexico",
            "Nicaragua",
            "Panama",
            "Paraguay",
            "Peru",
            "Puerto Rico",
            "Trinidad and Tobago",
            "United States",
            "Uruguay",
            "Venezuela"
           ],
           "marker": {
            "color": "#ab63fa",
            "size": {
             "bdata": "AAAAGGExgEEAAADA4ktaQQAAAEwCmKJBAAAA4L4ze0EAAABAcONpQQAAAAgjT4BBAAAAALA1SEEAAACA93NkQQAAAEDjClxBAAAAQD2AZEEAAABABh9UQQAAAKAEMGBBAAAAgGYiWEEAAADAWF5TQQAAAAC9JUJBAAAA2N4BlUEAAACAiadOQQAAAICC9UJBAAAAQNoaUUEAAAAQL2R1QQAAAABMWktBAAAAALUPMkEAAADayZ+uQQAAAADnBkhBAAAAsKVTc0E=",
             "dtype": "f8"
            },
            "sizemode": "area",
            "sizeref": 3296707.74,
            "symbol": "circle"
           },
           "mode": "markers",
           "name": "Americas",
           "showlegend": true,
           "type": "scattergeo"
          },
          {
           "geo": "geo",
           "hovertemplate": "<b>%{hovertext}</b><br><br>continent=Oceania<br>year=1992<br>pop=%{marker.size}<br>country=%{location}<extra></extra>",
           "hovertext": [
            "Australia",
            "New Zealand"
           ],
           "legendgroup": "Oceania",
           "locationmode": "country names",
           "locations": [
            "Australia",
            "New Zealand"
           ],
           "marker": {
            "color": "#FFA15A",
            "size": {
             "bdata": "AAAAkA+scEEAAAAANTpKQQ==",
             "dtype": "f8"
            },
            "sizemode": "area",
            "sizeref": 3296707.74,
            "symbol": "circle"
           },
           "mode": "markers",
           "name": "Oceania",
           "showlegend": true,
           "type": "scattergeo"
          }
         ],
         "name": "1992"
        },
        {
         "data": [
          {
           "geo": "geo",
           "hovertemplate": "<b>%{hovertext}</b><br><br>continent=Asia<br>year=1997<br>pop=%{marker.size}<br>country=%{location}<extra></extra>",
           "hovertext": [
            "Afghanistan",
            "Bahrain",
            "Bangladesh",
            "Cambodia",
            "China",
            "Hong Kong China",
            "India",
            "Indonesia",
            "Iran",
            "Iraq",
            "Israel",
            "Japan",
            "Jordan",
            "Korea Dem. Rep.",
            "Korea Rep.",
            "Kuwait",
            "Lebanon",
            "Malaysia",
            "Mongolia",
            "Myanmar",
            "Nepal",
            "Oman",
            "Pakistan",
            "Philippines",
            "Saudi Arabia",
            "Singapore",
            "Sri Lanka",
            "Syria",
            "Taiwan",
            "Thailand",
            "Vietnam",
            "West Bank and Gaza",
            "Yemen Rep."
           ],
           "legendgroup": "Asia",
           "locationmode": "country names",
           "locations": [
            "Afghanistan",
            "Bahrain",
            "Bangladesh",
            "Cambodia",
            "China",
            "Hong Kong China",
            "India",
            "Indonesia",
            "Iran",
            "Iraq",
            "Israel",
            "Japan",
            "Jordan",
            "Korea Dem. Rep.",
            "Korea Rep.",
            "Kuwait",
            "Lebanon",
            "Malaysia",
            "Mongolia",
            "Myanmar",
            "Nepal",
            "Oman",
            "Pakistan",
            "Philippines",
            "Saudi Arabia",
            "Singapore",
            "Sri Lanka",
            "Syria",
            "Taiwan",
            "Thailand",
            "Vietnam",
            "West Bank and Gaza",
            "Yemen Rep."
           ],
           "marker": {
            "color": "#636efa",
            "size": {
             "bdata": "AAAAcJ0ydUEAAAAAQkQiQQAAAGCRZp1BAAAAQGZ5ZkEAAAAeXVTSQQAAAICrx1hBAAAA4JaUzEEAAABge8GnQQAAAJh3Mo5BAAAAcDHQc0EAAADAvhlVQQAAAEzGB55BAAAAwCZEUUEAAAAQzZV0QQAAAMBzBIZBAAAAAOHvOkEAAAAA+itKQQAAALALh3NBAAAAgKkIQ0EAAADYR5+EQQAAAJCB73VBAAAAgDlsQUEAAABEHCmgQQAAAPBt4pFBAAAA8As/dEEAAACAYgJNQQAAAPAZ1XFBAAAAAMfDbEEAAADQa6B0QQAAACirtoxBAAAAkKkhkkEAAAAAn49FQQAAACDIL25B",
             "dtype": "f8"
            },
            "sizemode": "area",
            "sizeref": 3296707.74,
            "symbol": "circle"
           },
           "mode": "markers",
           "name": "Asia",
           "showlegend": true,
           "type": "scattergeo"
          },
          {
           "geo": "geo",
           "hovertemplate": "<b>%{hovertext}</b><br><br>continent=Europe<br>year=1997<br>pop=%{marker.size}<br>country=%{location}<extra></extra>",
           "hovertext": [
            "Albania",
            "Austria",
            "Belgium",
            "Bosnia and Herzegovina",
            "Bulgaria",
            "Croatia",
            "Czech Republic",
            "Denmark",
            "Finland",
            "France",
            "Germany",
            "Greece",
            "Hungary",
            "Iceland",
            "Ireland",
            "Italy",
            "Montenegro",
            "Netherlands",
            "Norway",
            "Poland",
            "Portugal",
            "Romania",
            "Serbia",
            "Slovak Republic",
            "Slovenia",
            "Spain",
            "Sweden",
            "Switzerland",
            "Turkey",
            "United Kingdom"
           ],
           "legendgroup": "Europe",
           "locationmode": "country names",
           "locations": [
            "Albania",
            "Austria",
            "Belgium",
            "Bosnia and Herzegovina",
            "Bulgaria",
            "Croatia",
            "Czech Republic",
            "Denmark",
            "Finland",
            "France",
            "Germany",
            "Greece",
            "Hungary",
            "Iceland",
            "Ireland",
            "Italy",
            "Montenegro",
            "Netherlands",
            "Norway",
            "Poland",
            "Portugal",
            "Romania",
            "Serbia",
            "Slovak Republic",
            "Slovenia",
            "Spain",
            "Sweden",
            "Switzerland",
            "Turkey",
            "United Kingdom"
           ],
           "marker": {
            "color": "#EF553B",
            "size": {
             "bdata": "AAAAAGMnSkEAAAAAvcheQQAAAGBddGNBAAAAAOyES0EAAABAAsVeQQAAAMBs9FBBAAAAYKSlY0EAAADA0ydUQQAAAIARllNBAAAAIC70i0EAAAAEj42TQQAAAIAcCGRBAAAAgEmKY0EAAAAAYI0QQQAAAICQ+ktBAAAAaIloi0EAAAAAViMlQQAAAABew21BAAAAAGrOUEEAAABon26CQQAAAOAvX2NBAAAAoGmEdUEAAABAKrdjQQAAAIDYiFRBAAAAANyxPkEAAACQKgGDQQAAAGCK+GBBAAAAQChxW0EAAAD4PhCOQQAAAFC+CoxB",
             "dtype": "f8"
            },
            "sizemode": "area",
            "sizeref": 3296707.74,
            "symbol": "circle"
           },
           "mode": "markers",
           "name": "Europe",
           "showlegend": true,
           "type": "scattergeo"
          },
          {
           "geo": "geo",
           "hovertemplate": "<b>%{hovertext}</b><br><br>continent=Africa<br>year=1997<br>pop=%{marker.size}<br>country=%{location}<extra></extra>",
           "hovertext": [
            "Algeria",
            "Angola",
            "Benin",
            "Botswana",
            "Burkina Faso",
            "Burundi",
            "Cameroon",
            "Central African Republic",
            "Chad",
            "Comoros",
            "Congo Dem. Rep.",
            "Congo Rep.",
            "Cote d'Ivoire",
            "Djibouti",
            "Egypt",
            "Equatorial Guinea",
            "Eritrea",
            "Ethiopia",
            "Gabon",
            "Gambia",
            "Ghana",
            "Guinea",
            "Guinea-Bissau",
            "Kenya",
            "Lesotho",
            "Liberia",
            "Libya",
            "Madagascar",
            "Malawi",
            "Mali",
            "Mauritania",
            "Mauritius",
            "Morocco",
            "Mozambique",
            "Namibia",
            "Niger",
            "Nigeria",
            "Reunion",
            "Rwanda",
            "Sao Tome and Principe",
            "Senegal",
            "Sierra Leone",
            "Somalia",
            "South Africa",
            "Sudan",
            "Swaziland",
            "Tanzania",
            "Togo",
            "Tunisia",
            "Uganda",
            "Zambia",
            "Zimbabwe"
           ],
           "legendgroup": "Africa",
           "locationmode": "country names",
           "locations": [
            "Algeria",
            "Angola",
            "Benin",
            "Botswana",
            "Burkina Faso",
            "Burundi",
            "Cameroon",
            "Central African Republic",
            "Chad",
            "Comoros",
            "Congo Dem. Rep.",
            "Congo Rep.",
            "Cote d'Ivoire",
            "Djibouti",
            "Egypt",
            "Equatorial Guinea",
            "Eritrea",
            "Ethiopia",
            "Gabon",
            "Gambia",
            "Ghana",
            "Guinea",
            "Guinea-Bissau",
            "Kenya",
            "Lesotho",
            "Liberia",
            "Libya",
            "Madagascar",
            "Malawi",
            "Mali",
            "Mauritania",
            "Mauritius",
            "Morocco",
            "Mozambique",
            "Namibia",
            "Niger",
            "Nigeria",
            "Reunion",
            "Rwanda",
            "Sao Tome and Principe",
            "Senegal",
            "Sierra Leone",
            "Somalia",
            "South Africa",
            "Sudan",
            "Swaziland",
            "Tanzania",
            "Togo",
            "Tunisia",
            "Uganda",
            "Zambia",
            "Zimbabwe"
           ],
           "marker": {
            "color": "#00cc96",
            "size": {
             "bdata": "AAAA8Ki5e0EAAAAAytViQQAAAADoI1dBAAAAABhyN0EAAABgGb9jQQAAAIAiWldBAAAAIIwTa0EAAACAwDNMQQAAAMDG2FxBAAAAANwcIEEAAABQ1sqGQQAAAICZXkVBAAAA4JXla0EAAAAA0IEZQQAAAJgIiY9BAAAAAIzaGkEAAACAZ/ZOQQAAAKhJi4xBAAAAAC0vMUEAAAAAN9syQQAAAACnkHFBAAAAgDC0XkEAAAAA7DYyQQAAADBZ9HpBAAAAAGdBPkEAAACASspAQQAAAIAdKFJBAAAAQI8Ea0EAAADg4t9jQQAAAACD5mFBAAAAgOKmQkEAAAAAeosxQQAAANA1NXtBAAAAwBirb0EAAAAArhQ7QQAAAIDZb2JBAAAAfGlSmUEAAAAAFOYkQQAAAMCJg1tBAAAAAEDGAUEAAABA6i9iQQAAAADpdlFBAAAAgApOWUEAAADo4WyEQQAAAJC9q35BAAAAABYXMEEAAACQ6kN9QQAAAICee1BBAAAAoKabYUEAAADgSDp0QQAAAKCH9mFBAAAAgNLAZUE=",
             "dtype": "f8"
            },
            "sizemode": "area",
            "sizeref": 3296707.74,
            "symbol": "circle"
           },
           "mode": "markers",
           "name": "Africa",
           "showlegend": true,
           "type": "scattergeo"
          },
          {
           "geo": "geo",
           "hovertemplate": "<b>%{hovertext}</b><br><br>continent=Americas<br>year=1997<br>pop=%{marker.size}<br>country=%{location}<extra></extra>",
           "hovertext": [
            "Argentina",
            "Bolivia",
            "Brazil",
            "Canada",
            "Chile",
            "Colombia",
            "Costa Rica",
            "Cuba",
            "Dominican Republic",
            "Ecuador",
            "El Salvador",
            "Guatemala",
            "Haiti",
            "Honduras",
            "Jamaica",
            "Mexico",
            "Nicaragua",
            "Panama",
            "Paraguay",
            "Peru",
            "Puerto Rico",
            "Trinidad and Tobago",
            "United States",
            "Uruguay",
            "Venezuela"
           ],
           "legendgroup": "Americas",
           "locationmode": "country names",
           "locations": [
            "Argentina",
            "Bolivia",
            "Brazil",
            "Canada",
            "Chile",
            "Colombia",
            "Costa Rica",
            "Cuba",
            "Dominican Republic",
            "Ecuador",
            "El Salvador",
            "Guatemala",
            "Haiti",
            "Honduras",
            "Jamaica",
            "Mexico",
            "Nicaragua",
            "Panama",
            "Paraguay",
            "Peru",
            "Puerto Rico",
            "Trinidad and Tobago",
            "United States",
            "Uruguay",
            "Venezuela"
           ],
           "marker": {
            "color": "#ab63fa",
            "size": {
             "bdata": "AAAAOF5DgUEAAAAA4VhdQQAAAD6jF6RBAAAAMOPmfEEAAAAg39hrQQAAADDn9IFBAAAAgE3XSkEAAADgy/JkQQAAAEAJfV5BAAAAYFG4ZkEAAADA4w9WQQAAAGAMs2JBAAAAQIJfWkEAAABAbWJWQQAAAID3T0NBAAAAqPnclkEAAAAAiZVRQQAAAIDh3ERBAAAAwFKpU0EAAACgBZp3QQAAAACjrkxBAAAAALVdMUEAAACQTUSwQQAAAAC75EhBAAAA4H9WdUE=",
             "dtype": "f8"
            },
            "sizemode": "area",
            "sizeref": 3296707.74,
            "symbol": "circle"
           },
           "mode": "markers",
           "name": "Americas",
           "showlegend": true,
           "type": "scattergeo"
          },
          {
           "geo": "geo",
           "hovertemplate": "<b>%{hovertext}</b><br><br>continent=Oceania<br>year=1997<br>pop=%{marker.size}<br>country=%{location}<extra></extra>",
           "hovertext": [
            "Australia",
            "New Zealand"
           ],
           "legendgroup": "Oceania",
           "locationmode": "country names",
           "locations": [
            "Australia",
            "New Zealand"
           ],
           "marker": {
            "color": "#FFA15A",
            "size": {
             "bdata": "AAAAsIe0cUEAAACADQxMQQ==",
             "dtype": "f8"
            },
            "sizemode": "area",
            "sizeref": 3296707.74,
            "symbol": "circle"
           },
           "mode": "markers",
           "name": "Oceania",
           "showlegend": true,
           "type": "scattergeo"
          }
         ],
         "name": "1997"
        },
        {
         "data": [
          {
           "geo": "geo",
           "hovertemplate": "<b>%{hovertext}</b><br><br>continent=Asia<br>year=2002<br>pop=%{marker.size}<br>country=%{location}<extra></extra>",
           "hovertext": [
            "Afghanistan",
            "Bahrain",
            "Bangladesh",
            "Cambodia",
            "China",
            "Hong Kong China",
            "India",
            "Indonesia",
            "Iran",
            "Iraq",
            "Israel",
            "Japan",
            "Jordan",
            "Korea Dem. Rep.",
            "Korea Rep.",
            "Kuwait",
            "Lebanon",
            "Malaysia",
            "Mongolia",
            "Myanmar",
            "Nepal",
            "Oman",
            "Pakistan",
            "Philippines",
            "Saudi Arabia",
            "Singapore",
            "Sri Lanka",
            "Syria",
            "Taiwan",
            "Thailand",
            "Vietnam",
            "West Bank and Gaza",
            "Yemen Rep."
           ],
           "legendgroup": "Asia",
           "locationmode": "country names",
           "locations": [
            "Afghanistan",
            "Bahrain",
            "Bangladesh",
            "Cambodia",
            "China",
            "Hong Kong China",
            "India",
            "Indonesia",
            "Iran",
            "Iraq",
            "Israel",
            "Japan",
            "Jordan",
            "Korea Dem. Rep.",
            "Korea Rep.",
            "Kuwait",
            "Lebanon",
            "Malaysia",
            "Mongolia",
            "Myanmar",
            "Nepal",
            "Oman",
            "Pakistan",
            "Philippines",
            "Saudi Arabia",
            "Singapore",
            "Sri Lanka",
            "Syria",
            "Taiwan",
            "Thailand",
            "Vietnam",
            "West Bank and Gaza",
            "Yemen Rep."
           ],
           "marker": {
            "color": "#636efa",
            "size": {
             "bdata": "AAAAUAsZeEEAAAAAGggkQQAAAKzqK6BBAAAAYN6naEEAAACgVhTTQQAAAAD7y1lBAACAQRzSzkEAAABACimpQQAAAJB1549BAAAAgNHjdkEAAABANgBXQQAAAMR7S55BAAAAgBM/VEEAAABQrC91QQAAAPCb34ZBAAAAgCQcQEEAAAAAKg9MQQAAANDNnHVBAAAAAB1nREEAAAAILL6FQQAAANDfrHhBAAAAALuzREEAAAAIgUmiQQAAAECeyZNBAAAAoNFdd0EAAAAAZANQQQAAAPB8q3JBAAAAYG5ccEEAAADw/Wl1QQAAAODW8o1BAAAAzD1Kk0EAAAAARdxJQQAAAJC81XFB",
             "dtype": "f8"
            },
            "sizemode": "area",
            "sizeref": 3296707.74,
            "symbol": "circle"
           },
           "mode": "markers",
           "name": "Asia",
           "showlegend": true,
           "type": "scattergeo"
          },
          {
           "geo": "geo",
           "hovertemplate": "<b>%{hovertext}</b><br><br>continent=Europe<br>year=2002<br>pop=%{marker.size}<br>country=%{location}<extra></extra>",
           "hovertext": [
            "Albania",
            "Austria",
            "Belgium",
            "Bosnia and Herzegovina",
            "Bulgaria",
            "Croatia",
            "Czech Republic",
            "Denmark",
            "Finland",
            "France",
            "Germany",
            "Greece",
            "Hungary",
            "Iceland",
            "Ireland",
            "Italy",
            "Montenegro",
            "Netherlands",
            "Norway",
            "Poland",
            "Portugal",
            "Romania",
            "Serbia",
            "Slovak Republic",
            "Slovenia",
            "Spain",
            "Sweden",
            "Switzerland",
            "Turkey",
            "United Kingdom"
           ],
           "legendgroup": "Europe",
           "locationmode": "country names",
           "locations": [
            "Albania",
            "Austria",
            "Belgium",
            "Bosnia and Herzegovina",
            "Bulgaria",
            "Croatia",
            "Czech Republic",
            "Denmark",
            "Finland",
            "France",
            "Germany",
            "Greece",
            "Hungary",
            "Iceland",
            "Ireland",
            "Italy",
            "Montenegro",
            "Netherlands",
            "Norway",
            "Poland",
            "Portugal",
            "Romania",
            "Serbia",
            "Slovak Republic",
            "Slovenia",
            "Spain",
            "Sweden",
            "Switzerland",
            "Turkey",
            "United Kingdom"
           ],
           "marker": {
            "color": "#EF553B",
            "size": {
             "bdata": "AAAAAJDESkEAAAAAVhVfQQAAAEAkq2NBAAAAAJTHT0EAAADAOTpdQQAAAAD/F1FBAAAA4PSPY0EAAABAuYBUQQAAAMBTz1NBAAAAWBGTjEEAAAA8SaKTQQAAAOCqOWRBAAAAIH47Y0EAAAAAeJQRQQAAAIB5mE1BAAAAuCqfi0EAAAAAzPolQQAAAMB5wG5BAAAAwElNUUEAAADAFWuCQQAAAGCp5mNBAAAAEM9ddUEAAADgSEljQQAAAABBo1RBAAAAAGmxPkEAAAAobiWDQQAAAOAnFGFBAAAAQDcVXEEAAAAANgyQQQAAAHiHkYxB",
             "dtype": "f8"
            },
            "sizemode": "area",
            "sizeref": 3296707.74,
            "symbol": "circle"
           },
           "mode": "markers",
           "name": "Europe",
           "showlegend": true,
           "type": "scattergeo"
          },
          {
           "geo": "geo",
           "hovertemplate": "<b>%{hovertext}</b><br><br>continent=Africa<br>year=2002<br>pop=%{marker.size}<br>country=%{location}<extra></extra>",
           "hovertext": [
            "Algeria",
            "Angola",
            "Benin",
            "Botswana",
            "Burkina Faso",
            "Burundi",
            "Cameroon",
            "Central African Republic",
            "Chad",
            "Comoros",
            "Congo Dem. Rep.",
            "Congo Rep.",
            "Cote d'Ivoire",
            "Djibouti",
            "Egypt",
            "Equatorial Guinea",
            "Eritrea",
            "Ethiopia",
            "Gabon",
            "Gambia",
            "Ghana",
            "Guinea",
            "Guinea-Bissau",
            "Kenya",
            "Lesotho",
            "Liberia",
            "Libya",
            "Madagascar",
            "Malawi",
            "Mali",
            "Mauritania",
            "Mauritius",
            "Morocco",
            "Mozambique",
            "Namibia",
            "Niger",
            "Nigeria",
            "Reunion",
            "Rwanda",
            "Sao Tome and Principe",
            "Senegal",
            "Sierra Leone",
            "Somalia",
            "South Africa",
            "Sudan",
            "Swaziland",
            "Tanzania",
            "Togo",
            "Tunisia",
            "Uganda",
            "Zambia",
            "Zimbabwe"
           ],
           "legendgroup": "Africa",
           "locationmode": "country names",
           "locations": [
            "Algeria",
            "Angola",
            "Benin",
            "Botswana",
            "Burkina Faso",
            "Burundi",
            "Cameroon",
            "Central African Republic",
            "Chad",
            "Comoros",
            "Congo Dem. Rep.",
            "Congo Rep.",
            "Cote d'Ivoire",
            "Djibouti",
            "Egypt",
            "Equatorial Guinea",
            "Eritrea",
            "Ethiopia",
            "Gabon",
            "Gambia",
            "Ghana",
            "Guinea",
            "Guinea-Bissau",
            "Kenya",
            "Lesotho",
            "Liberia",
            "Libya",
            "Madagascar",
            "Malawi",
            "Mali",
            "Mauritania",
            "Mauritius",
            "Morocco",
            "Mozambique",
            "Namibia",
            "Niger",
            "Nigeria",
            "Reunion",
            "Rwanda",
            "Sao Tome and Principe",
            "Senegal",
            "Sierra Leone",
            "Somalia",
            "South Africa",
            "Sudan",
            "Swaziland",
            "Tanzania",
            "Togo",
            "Tunisia",
            "Uganda",
            "Zambia",
            "Zimbabwe"
           ],
           "marker": {
            "color": "#00cc96",
            "size": {
             "bdata": "AAAAYHbWfUEAAABAt7lkQQAAAEBwzVpBAAAAAIvgOEEAAAAgCV5nQQAAAICFyFpBAAAAgFBibkEAAACARuJOQQAAAGBT2mBBAAAAANy/IkEAAABgPGiKQQAAAICNZUlBAAAAwOb/bkEAAAAA4E4bQQAAALykepFBAAAAACxAHkEAAABAZNdQQQAAALQkM5BBAAAAAGjTM0EAAAAAZj42QQAAAPBFmXNBAAAAQLHMYEEAAAAA61Q0QQAAAKDN7n1BAAAAADQ7P0EAAACAXXlFQQAAAEDCelRBAAAAoLBrb0EAAADgrY1mQQAAAAAaLmRBAAAAAB2VRUEAAAAATlAyQQAAAHBSuX1BAAAAQDOecUEAAAAAuRc+QQAAAODFP2VBAAAAaDGWnEEAAAAAWrQmQQAAAEBc9F1BAAAAACDMBEEAAACgortkQQAAAAB9cVRBAAAAgJeTXUEAAACwBjCFQQAAANCfr4FBAAAAAB0/MUEAAACY336AQQAAAIC4/FJBAAAA4MmiYkEAAADQAZh3QQAAAGC8NWRBAAAAYIS/ZkE=",
             "dtype": "f8"
            },
            "sizemode": "area",
            "sizeref": 3296707.74,
            "symbol": "circle"
           },
           "mode": "markers",
           "name": "Africa",
           "showlegend": true,
           "type": "scattergeo"
          },
          {
           "geo": "geo",
           "hovertemplate": "<b>%{hovertext}</b><br><br>continent=Americas<br>year=2002<br>pop=%{marker.size}<br>country=%{location}<extra></extra>",
           "hovertext": [
            "Argentina",
            "Bolivia",
            "Brazil",
            "Canada",
            "Chile",
            "Colombia",
            "Costa Rica",
            "Cuba",
            "Dominican Republic",
            "Ecuador",
            "El Salvador",
            "Guatemala",
            "Haiti",
            "Honduras",
            "Jamaica",
            "Mexico",
            "Nicaragua",
            "Panama",
            "Paraguay",
            "Peru",
            "Puerto Rico",
            "Trinidad and Tobago",
            "United States",
            "Uruguay",
            "Venezuela"
           ],
           "legendgroup": "Americas",
           "locationmode": "country names",
           "locations": [
            "Argentina",
            "Bolivia",
            "Brazil",
            "Canada",
            "Chile",
            "Colombia",
            "Costa Rica",
            "Cuba",
            "Dominican Republic",
            "Ecuador",
            "El Salvador",
            "Guatemala",
            "Haiti",
            "Honduras",
            "Jamaica",
            "Mexico",
            "Nicaragua",
            "Panama",
            "Paraguay",
            "Peru",
            "Puerto Rico",
            "Trinidad and Tobago",
            "United States",
            "Uruguay",
            "Venezuela"
           ],
           "marker": {
            "color": "#ab63fa",
            "size": {
             "bdata": "AAAAiBdHgkEAAADAmRtgQQAAAMiLcqVBAAAAwKNsfkEAAADA6o5tQQAAABjjjYNBAAAAABtCTUEAAADg7mllQQAAAEDKf2BBAAAAQDKlaEEAAABAxDxYQQAAAEBTUmVBAAAAwFgFXUEAAAAA1HhZQQAAAIBpVERBAAAA3OBumEEAAAAAOKJTQQAAAICN0UZBAAAAwJJyVkEAAADAgYd5QQAAAABLck1BAAAAAAjQMEEAAACGlCWxQQAAAICGqElBAAAAYJspd0E=",
             "dtype": "f8"
            },
            "sizemode": "area",
            "sizeref": 3296707.74,
            "symbol": "circle"
           },
           "mode": "markers",
           "name": "Americas",
           "showlegend": true,
           "type": "scattergeo"
          },
          {
           "geo": "geo",
           "hovertemplate": "<b>%{hovertext}</b><br><br>continent=Oceania<br>year=2002<br>pop=%{marker.size}<br>country=%{location}<extra></extra>",
           "hovertext": [
            "Australia",
            "New Zealand"
           ],
           "legendgroup": "Oceania",
           "locationmode": "country names",
           "locations": [
            "Australia",
            "New Zealand"
           ],
           "marker": {
            "color": "#FFA15A",
            "size": {
             "bdata": "AAAAgCqkckEAAACA4tBNQQ==",
             "dtype": "f8"
            },
            "sizemode": "area",
            "sizeref": 3296707.74,
            "symbol": "circle"
           },
           "mode": "markers",
           "name": "Oceania",
           "showlegend": true,
           "type": "scattergeo"
          }
         ],
         "name": "2002"
        },
        {
         "data": [
          {
           "geo": "geo",
           "hovertemplate": "<b>%{hovertext}</b><br><br>continent=Asia<br>year=2007<br>pop=%{marker.size}<br>country=%{location}<extra></extra>",
           "hovertext": [
            "Afghanistan",
            "Bahrain",
            "Bangladesh",
            "Cambodia",
            "China",
            "Hong Kong China",
            "India",
            "Indonesia",
            "Iran",
            "Iraq",
            "Israel",
            "Japan",
            "Jordan",
            "Korea Dem. Rep.",
            "Korea Rep.",
            "Kuwait",
            "Lebanon",
            "Malaysia",
            "Mongolia",
            "Myanmar",
            "Nepal",
            "Oman",
            "Pakistan",
            "Philippines",
            "Saudi Arabia",
            "Singapore",
            "Sri Lanka",
            "Syria",
            "Taiwan",
            "Thailand",
            "Vietnam",
            "West Bank and Gaza",
            "Yemen Rep."
           ],
           "legendgroup": "Asia",
           "locationmode": "country names",
           "locations": [
            "Afghanistan",
            "Bahrain",
            "Bangladesh",
            "Cambodia",
            "China",
            "Hong Kong China",
            "India",
            "Indonesia",
            "Iran",
            "Iraq",
            "Israel",
            "Japan",
            "Jordan",
            "Korea Dem. Rep.",
            "Korea Rep.",
            "Kuwait",
            "Lebanon",
            "Malaysia",
            "Mongolia",
            "Myanmar",
            "Nepal",
            "Oman",
            "Pakistan",
            "Philippines",
            "Saudi Arabia",
            "Singapore",
            "Sri Lanka",
            "Syria",
            "Taiwan",
            "Thailand",
            "Vietnam",
            "West Bank and Gaza",
            "Yemen Rep."
           ],
           "marker": {
            "color": "#636efa",
            "size": {
             "bdata": "AAAAMKBpfkEAAAAAup8lQQAAAKZR76FBAAAAQFL0akEAAAB2YKbTQQAAAADPoFpBAADAatOL0EEAAADwHKaqQQAAAAgcj5BBAAAAYMc5ekEAAADADYRYQQAAABAHZJ5BAAAAQFIXV0EAAADQ5Th2QQAAALDpYodBAAAAgKsdQ0EAAAAAv+pNQQAAAGDiq3dBAAAAgIftRUEAAADgUcaGQQAAAOAZkHtBAAAAgJBzSEEAAACyui2kQQAAAJzqtpVBAAAA4IhSekEAAABATF5RQQAAAPAnb3NBAAAAsINrckEAAABgyRl2QQAAAKjjBo9BAAAAUABUlEEAAAAATqhOQQAAAPDJLnVB",
             "dtype": "f8"
            },
            "sizemode": "area",
            "sizeref": 3296707.74,
            "symbol": "circle"
           },
           "mode": "markers",
           "name": "Asia",
           "showlegend": true,
           "type": "scattergeo"
          },
          {
           "geo": "geo",
           "hovertemplate": "<b>%{hovertext}</b><br><br>continent=Europe<br>year=2007<br>pop=%{marker.size}<br>country=%{location}<extra></extra>",
           "hovertext": [
            "Albania",
            "Austria",
            "Belgium",
            "Bosnia and Herzegovina",
            "Bulgaria",
            "Croatia",
            "Czech Republic",
            "Denmark",
            "Finland",
            "France",
            "Germany",
            "Greece",
            "Hungary",
            "Iceland",
            "Ireland",
            "Italy",
            "Montenegro",
            "Netherlands",
            "Norway",
            "Poland",
            "Portugal",
            "Romania",
            "Serbia",
            "Slovak Republic",
            "Slovenia",
            "Spain",
            "Sweden",
            "Switzerland",
            "Turkey",
            "United Kingdom"
           ],
           "legendgroup": "Europe",
           "locationmode": "country names",
           "locations": [
            "Albania",
            "Austria",
            "Belgium",
            "Bosnia and Herzegovina",
            "Bulgaria",
            "Croatia",
            "Czech Republic",
            "Denmark",
            "Finland",
            "France",
            "Germany",
            "Greece",
            "Hungary",
            "Iceland",
            "Ireland",
            "Italy",
            "Montenegro",
            "Netherlands",
            "Norway",
            "Poland",
            "Portugal",
            "Romania",
            "Serbia",
            "Slovak Republic",
            "Slovenia",
            "Spain",
            "Sweden",
            "Switzerland",
            "Turkey",
            "United Kingdom"
           ],
           "marker": {
            "color": "#EF553B",
            "size": {
             "bdata": "AAAAgEV4S0EAAADAmUdfQQAAAEBU0mNBAAAAgIFdUUEAAACAOu9bQQAAAAAAJFFBAAAAAIGCY0EAAAAA9ttUQQAAAACv+1NBAAAAYIggjUEAAACQW6WTQQAAAECua2RBAAAAgGH9YkEAAAAArG0SQQAAAACPWU9BAAAAqBy6i0EAAAAAgOUkQQAAAKAem29BAAAAgHWnUUEAAAAI712CQQAAAICyTGRBAAAAgH0+dUEAAAAgL1xjQQAAAIDTx1RBAAAAAJ2oPkEAAAD4hUmDQQAAAAC2OWFBAAAAQJnRXEEAAADcLfeQQQAAAHD5+oxB",
             "dtype": "f8"
            },
            "sizemode": "area",
            "sizeref": 3296707.74,
            "symbol": "circle"
           },
           "mode": "markers",
           "name": "Europe",
           "showlegend": true,
           "type": "scattergeo"
          },
          {
           "geo": "geo",
           "hovertemplate": "<b>%{hovertext}</b><br><br>continent=Africa<br>year=2007<br>pop=%{marker.size}<br>country=%{location}<extra></extra>",
           "hovertext": [
            "Algeria",
            "Angola",
            "Benin",
            "Botswana",
            "Burkina Faso",
            "Burundi",
            "Cameroon",
            "Central African Republic",
            "Chad",
            "Comoros",
            "Congo Dem. Rep.",
            "Congo Rep.",
            "Cote d'Ivoire",
            "Djibouti",
            "Egypt",
            "Equatorial Guinea",
            "Eritrea",
            "Ethiopia",
            "Gabon",
            "Gambia",
            "Ghana",
            "Guinea",
            "Guinea-Bissau",
            "Kenya",
            "Lesotho",
            "Liberia",
            "Libya",
            "Madagascar",
            "Malawi",
            "Mali",
            "Mauritania",
            "Mauritius",
            "Morocco",
            "Mozambique",
            "Namibia",
            "Niger",
            "Nigeria",
            "Reunion",
            "Rwanda",
            "Sao Tome and Principe",
            "Senegal",
            "Sierra Leone",
            "Somalia",
            "South Africa",
            "Sudan",
            "Swaziland",
            "Tanzania",
            "Togo",
            "Tunisia",
            "Uganda",
            "Zambia",
            "Zimbabwe"
           ],
           "legendgroup": "Africa",
           "locationmode": "country names",
           "locations": [
            "Algeria",
            "Angola",
            "Benin",
            "Botswana",
            "Burkina Faso",
            "Burundi",
            "Cameroon",
            "Central African Republic",
            "Chad",
            "Comoros",
            "Congo Dem. Rep.",
            "Congo Rep.",
            "Cote d'Ivoire",
            "Djibouti",
            "Egypt",
            "Equatorial Guinea",
            "Eritrea",
            "Ethiopia",
            "Gabon",
            "Gambia",
            "Ghana",
            "Guinea",
            "Guinea-Bissau",
            "Kenya",
            "Lesotho",
            "Liberia",
            "Libya",
            "Madagascar",
            "Malawi",
            "Mali",
            "Mauritania",
            "Mauritius",
            "Morocco",
            "Mozambique",
            "Namibia",
            "Niger",
            "Nigeria",
            "Reunion",
            "Rwanda",
            "Sao Tome and Principe",
            "Senegal",
            "Sierra Leone",
            "Somalia",
            "South Africa",
            "Sudan",
            "Swaziland",
            "Tanzania",
            "Togo",
            "Tunisia",
            "Uganda",
            "Zambia",
            "Zimbabwe"
           ],
           "marker": {
            "color": "#00cc96",
            "size": {
             "bdata": "AAAAAP7Jf0EAAACAr7BnQQAAAID60F5BAAAAANsCOUEAAABgN1NrQQAAACDtAGBBAAAAUGLgcEEAAACAo6pQQQAAAOBqh2NBAAAAAGCyJUEAAAA4kc6OQQAAAAAR/0xBAAAAEM4tcUEAAAAA2EseQQAAAHz1IpNBAAAAAELSIEEAAABAlrdSQQAAADzqPZJBAAAAABMzNkEAAAAAJ8M5QQAAAKBP0HVBAAAAwFT5YkEAAAAAKXY2QQAAAAjy+oBBAAAAAOm1PkEAAAAAK15IQQAAAIBsB1dBAAAAYJpHckEAAADgXGtpQQAAAGDm8mZBAAAAgNjySEEAAAAAQhYzQQAAALi/GIBBAAAAgAIHc0EAAAAAqFs/QQAAACBSmGhBAAAA+NIYoEEAAAAAHFsoQQAAAIB15mBBAAAAANhcCEEAAACg/GVnQQAAAICMcFdBAAAAoIZkYUEAAAAg1PqEQQAAAAi2KoRBAAAAAApKMUEAAADAty+CQQAAAMDyv1VBAAAAwKeZY0EAAADgrdF7QQAAAGBeZ2ZBAAAA4Ex7Z0E=",
             "dtype": "f8"
            },
            "sizemode": "area",
            "sizeref": 3296707.74,
            "symbol": "circle"
           },
           "mode": "markers",
           "name": "Africa",
           "showlegend": true,
           "type": "scattergeo"
          },
          {
           "geo": "geo",
           "hovertemplate": "<b>%{hovertext}</b><br><br>continent=Americas<br>year=2007<br>pop=%{marker.size}<br>country=%{location}<extra></extra>",
           "hovertext": [
            "Argentina",
            "Bolivia",
            "Brazil",
            "Canada",
            "Chile",
            "Colombia",
            "Costa Rica",
            "Cuba",
            "Dominican Republic",
            "Ecuador",
            "El Salvador",
            "Guatemala",
            "Haiti",
            "Honduras",
            "Jamaica",
            "Mexico",
            "Nicaragua",
            "Panama",
            "Paraguay",
            "Peru",
            "Puerto Rico",
            "Trinidad and Tobago",
            "United States",
            "Uruguay",
            "Venezuela"
           ],
           "legendgroup": "Americas",
           "locationmode": "country names",
           "locations": [
            "Argentina",
            "Bolivia",
            "Brazil",
            "Canada",
            "Chile",
            "Colombia",
            "Costa Rica",
            "Cuba",
            "Dominican Republic",
            "Ecuador",
            "El Salvador",
            "Guatemala",
            "Haiti",
            "Honduras",
            "Jamaica",
            "Mexico",
            "Nicaragua",
            "Panama",
            "Paraguay",
            "Peru",
            "Puerto Rico",
            "Trinidad and Tobago",
            "United States",
            "Uruguay",
            "Venezuela"
           ],
           "marker": {
            "color": "#ab63fa",
            "size": {
             "bdata": "AAAAOKs3g0EAAAAAtmRhQQAAAC6qpqZBAAAA0OPXf0EAAACgiA9vQQAAAPDeFoVBAAAAAP6JT0EAAABgs8ZlQQAAAMCYxmFBAAAAAKQ8akEAAAAACnlaQQAAAAAg+2dBAAAAwMM3YEEAAADAXIxcQQAAAADyNUVBAAAAbJPqmUEAAAAAV6ZVQQAAAIBevEhBAAAAwOJuWUEAAABQrFh7QQAAAIAtFE5BAAAAAGAfMEEAAADrB/OxQQAAAABkTUpBAAAAYFPgeEE=",
             "dtype": "f8"
            },
            "sizemode": "area",
            "sizeref": 3296707.74,
            "symbol": "circle"
           },
           "mode": "markers",
           "name": "Americas",
           "showlegend": true,
           "type": "scattergeo"
          },
          {
           "geo": "geo",
           "hovertemplate": "<b>%{hovertext}</b><br><br>continent=Oceania<br>year=2007<br>pop=%{marker.size}<br>country=%{location}<extra></extra>",
           "hovertext": [
            "Australia",
            "New Zealand"
           ],
           "legendgroup": "Oceania",
           "locationmode": "country names",
           "locations": [
            "Australia",
            "New Zealand"
           ],
           "marker": {
            "color": "#FFA15A",
            "size": {
             "bdata": "AAAAANB8c0EAAACAnWZPQQ==",
             "dtype": "f8"
            },
            "sizemode": "area",
            "sizeref": 3296707.74,
            "symbol": "circle"
           },
           "mode": "markers",
           "name": "Oceania",
           "showlegend": true,
           "type": "scattergeo"
          }
         ],
         "name": "2007"
        }
       ],
       "layout": {
        "geo": {
         "center": {},
         "domain": {
          "x": [
           0,
           1
          ],
          "y": [
           0,
           1
          ]
         },
         "projection": {
          "type": "natural earth"
         }
        },
        "legend": {
         "itemsizing": "constant",
         "title": {
          "text": "continent"
         },
         "tracegroupgap": 0
        },
        "sliders": [
         {
          "active": 0,
          "currentvalue": {
           "prefix": "year="
          },
          "len": 0.9,
          "pad": {
           "b": 10,
           "t": 60
          },
          "steps": [
           {
            "args": [
             [
              "1952"
             ],
             {
              "frame": {
               "duration": 0,
               "redraw": true
              },
              "fromcurrent": true,
              "mode": "immediate",
              "transition": {
               "duration": 0,
               "easing": "linear"
              }
             }
            ],
            "label": "1952",
            "method": "animate"
           },
           {
            "args": [
             [
              "1957"
             ],
             {
              "frame": {
               "duration": 0,
               "redraw": true
              },
              "fromcurrent": true,
              "mode": "immediate",
              "transition": {
               "duration": 0,
               "easing": "linear"
              }
             }
            ],
            "label": "1957",
            "method": "animate"
           },
           {
            "args": [
             [
              "1962"
             ],
             {
              "frame": {
               "duration": 0,
               "redraw": true
              },
              "fromcurrent": true,
              "mode": "immediate",
              "transition": {
               "duration": 0,
               "easing": "linear"
              }
             }
            ],
            "label": "1962",
            "method": "animate"
           },
           {
            "args": [
             [
              "1967"
             ],
             {
              "frame": {
               "duration": 0,
               "redraw": true
              },
              "fromcurrent": true,
              "mode": "immediate",
              "transition": {
               "duration": 0,
               "easing": "linear"
              }
             }
            ],
            "label": "1967",
            "method": "animate"
           },
           {
            "args": [
             [
              "1972"
             ],
             {
              "frame": {
               "duration": 0,
               "redraw": true
              },
              "fromcurrent": true,
              "mode": "immediate",
              "transition": {
               "duration": 0,
               "easing": "linear"
              }
             }
            ],
            "label": "1972",
            "method": "animate"
           },
           {
            "args": [
             [
              "1977"
             ],
             {
              "frame": {
               "duration": 0,
               "redraw": true
              },
              "fromcurrent": true,
              "mode": "immediate",
              "transition": {
               "duration": 0,
               "easing": "linear"
              }
             }
            ],
            "label": "1977",
            "method": "animate"
           },
           {
            "args": [
             [
              "1982"
             ],
             {
              "frame": {
               "duration": 0,
               "redraw": true
              },
              "fromcurrent": true,
              "mode": "immediate",
              "transition": {
               "duration": 0,
               "easing": "linear"
              }
             }
            ],
            "label": "1982",
            "method": "animate"
           },
           {
            "args": [
             [
              "1987"
             ],
             {
              "frame": {
               "duration": 0,
               "redraw": true
              },
              "fromcurrent": true,
              "mode": "immediate",
              "transition": {
               "duration": 0,
               "easing": "linear"
              }
             }
            ],
            "label": "1987",
            "method": "animate"
           },
           {
            "args": [
             [
              "1992"
             ],
             {
              "frame": {
               "duration": 0,
               "redraw": true
              },
              "fromcurrent": true,
              "mode": "immediate",
              "transition": {
               "duration": 0,
               "easing": "linear"
              }
             }
            ],
            "label": "1992",
            "method": "animate"
           },
           {
            "args": [
             [
              "1997"
             ],
             {
              "frame": {
               "duration": 0,
               "redraw": true
              },
              "fromcurrent": true,
              "mode": "immediate",
              "transition": {
               "duration": 0,
               "easing": "linear"
              }
             }
            ],
            "label": "1997",
            "method": "animate"
           },
           {
            "args": [
             [
              "2002"
             ],
             {
              "frame": {
               "duration": 0,
               "redraw": true
              },
              "fromcurrent": true,
              "mode": "immediate",
              "transition": {
               "duration": 0,
               "easing": "linear"
              }
             }
            ],
            "label": "2002",
            "method": "animate"
           },
           {
            "args": [
             [
              "2007"
             ],
             {
              "frame": {
               "duration": 0,
               "redraw": true
              },
              "fromcurrent": true,
              "mode": "immediate",
              "transition": {
               "duration": 0,
               "easing": "linear"
              }
             }
            ],
            "label": "2007",
            "method": "animate"
           }
          ],
          "x": 0.1,
          "xanchor": "left",
          "y": 0,
          "yanchor": "top"
         }
        ],
        "template": {
         "data": {
          "bar": [
           {
            "error_x": {
             "color": "#2a3f5f"
            },
            "error_y": {
             "color": "#2a3f5f"
            },
            "marker": {
             "line": {
              "color": "#E5ECF6",
              "width": 0.5
             },
             "pattern": {
              "fillmode": "overlay",
              "size": 10,
              "solidity": 0.2
             }
            },
            "type": "bar"
           }
          ],
          "barpolar": [
           {
            "marker": {
             "line": {
              "color": "#E5ECF6",
              "width": 0.5
             },
             "pattern": {
              "fillmode": "overlay",
              "size": 10,
              "solidity": 0.2
             }
            },
            "type": "barpolar"
           }
          ],
          "carpet": [
           {
            "aaxis": {
             "endlinecolor": "#2a3f5f",
             "gridcolor": "white",
             "linecolor": "white",
             "minorgridcolor": "white",
             "startlinecolor": "#2a3f5f"
            },
            "baxis": {
             "endlinecolor": "#2a3f5f",
             "gridcolor": "white",
             "linecolor": "white",
             "minorgridcolor": "white",
             "startlinecolor": "#2a3f5f"
            },
            "type": "carpet"
           }
          ],
          "choropleth": [
           {
            "colorbar": {
             "outlinewidth": 0,
             "ticks": ""
            },
            "type": "choropleth"
           }
          ],
          "contour": [
           {
            "colorbar": {
             "outlinewidth": 0,
             "ticks": ""
            },
            "colorscale": [
             [
              0,
              "#0d0887"
             ],
             [
              0.1111111111111111,
              "#46039f"
             ],
             [
              0.2222222222222222,
              "#7201a8"
             ],
             [
              0.3333333333333333,
              "#9c179e"
             ],
             [
              0.4444444444444444,
              "#bd3786"
             ],
             [
              0.5555555555555556,
              "#d8576b"
             ],
             [
              0.6666666666666666,
              "#ed7953"
             ],
             [
              0.7777777777777778,
              "#fb9f3a"
             ],
             [
              0.8888888888888888,
              "#fdca26"
             ],
             [
              1,
              "#f0f921"
             ]
            ],
            "type": "contour"
           }
          ],
          "contourcarpet": [
           {
            "colorbar": {
             "outlinewidth": 0,
             "ticks": ""
            },
            "type": "contourcarpet"
           }
          ],
          "heatmap": [
           {
            "colorbar": {
             "outlinewidth": 0,
             "ticks": ""
            },
            "colorscale": [
             [
              0,
              "#0d0887"
             ],
             [
              0.1111111111111111,
              "#46039f"
             ],
             [
              0.2222222222222222,
              "#7201a8"
             ],
             [
              0.3333333333333333,
              "#9c179e"
             ],
             [
              0.4444444444444444,
              "#bd3786"
             ],
             [
              0.5555555555555556,
              "#d8576b"
             ],
             [
              0.6666666666666666,
              "#ed7953"
             ],
             [
              0.7777777777777778,
              "#fb9f3a"
             ],
             [
              0.8888888888888888,
              "#fdca26"
             ],
             [
              1,
              "#f0f921"
             ]
            ],
            "type": "heatmap"
           }
          ],
          "histogram": [
           {
            "marker": {
             "pattern": {
              "fillmode": "overlay",
              "size": 10,
              "solidity": 0.2
             }
            },
            "type": "histogram"
           }
          ],
          "histogram2d": [
           {
            "colorbar": {
             "outlinewidth": 0,
             "ticks": ""
            },
            "colorscale": [
             [
              0,
              "#0d0887"
             ],
             [
              0.1111111111111111,
              "#46039f"
             ],
             [
              0.2222222222222222,
              "#7201a8"
             ],
             [
              0.3333333333333333,
              "#9c179e"
             ],
             [
              0.4444444444444444,
              "#bd3786"
             ],
             [
              0.5555555555555556,
              "#d8576b"
             ],
             [
              0.6666666666666666,
              "#ed7953"
             ],
             [
              0.7777777777777778,
              "#fb9f3a"
             ],
             [
              0.8888888888888888,
              "#fdca26"
             ],
             [
              1,
              "#f0f921"
             ]
            ],
            "type": "histogram2d"
           }
          ],
          "histogram2dcontour": [
           {
            "colorbar": {
             "outlinewidth": 0,
             "ticks": ""
            },
            "colorscale": [
             [
              0,
              "#0d0887"
             ],
             [
              0.1111111111111111,
              "#46039f"
             ],
             [
              0.2222222222222222,
              "#7201a8"
             ],
             [
              0.3333333333333333,
              "#9c179e"
             ],
             [
              0.4444444444444444,
              "#bd3786"
             ],
             [
              0.5555555555555556,
              "#d8576b"
             ],
             [
              0.6666666666666666,
              "#ed7953"
             ],
             [
              0.7777777777777778,
              "#fb9f3a"
             ],
             [
              0.8888888888888888,
              "#fdca26"
             ],
             [
              1,
              "#f0f921"
             ]
            ],
            "type": "histogram2dcontour"
           }
          ],
          "mesh3d": [
           {
            "colorbar": {
             "outlinewidth": 0,
             "ticks": ""
            },
            "type": "mesh3d"
           }
          ],
          "parcoords": [
           {
            "line": {
             "colorbar": {
              "outlinewidth": 0,
              "ticks": ""
             }
            },
            "type": "parcoords"
           }
          ],
          "pie": [
           {
            "automargin": true,
            "type": "pie"
           }
          ],
          "scatter": [
           {
            "fillpattern": {
             "fillmode": "overlay",
             "size": 10,
             "solidity": 0.2
            },
            "type": "scatter"
           }
          ],
          "scatter3d": [
           {
            "line": {
             "colorbar": {
              "outlinewidth": 0,
              "ticks": ""
             }
            },
            "marker": {
             "colorbar": {
              "outlinewidth": 0,
              "ticks": ""
             }
            },
            "type": "scatter3d"
           }
          ],
          "scattercarpet": [
           {
            "marker": {
             "colorbar": {
              "outlinewidth": 0,
              "ticks": ""
             }
            },
            "type": "scattercarpet"
           }
          ],
          "scattergeo": [
           {
            "marker": {
             "colorbar": {
              "outlinewidth": 0,
              "ticks": ""
             }
            },
            "type": "scattergeo"
           }
          ],
          "scattergl": [
           {
            "marker": {
             "colorbar": {
              "outlinewidth": 0,
              "ticks": ""
             }
            },
            "type": "scattergl"
           }
          ],
          "scattermap": [
           {
            "marker": {
             "colorbar": {
              "outlinewidth": 0,
              "ticks": ""
             }
            },
            "type": "scattermap"
           }
          ],
          "scattermapbox": [
           {
            "marker": {
             "colorbar": {
              "outlinewidth": 0,
              "ticks": ""
             }
            },
            "type": "scattermapbox"
           }
          ],
          "scatterpolar": [
           {
            "marker": {
             "colorbar": {
              "outlinewidth": 0,
              "ticks": ""
             }
            },
            "type": "scatterpolar"
           }
          ],
          "scatterpolargl": [
           {
            "marker": {
             "colorbar": {
              "outlinewidth": 0,
              "ticks": ""
             }
            },
            "type": "scatterpolargl"
           }
          ],
          "scatterternary": [
           {
            "marker": {
             "colorbar": {
              "outlinewidth": 0,
              "ticks": ""
             }
            },
            "type": "scatterternary"
           }
          ],
          "surface": [
           {
            "colorbar": {
             "outlinewidth": 0,
             "ticks": ""
            },
            "colorscale": [
             [
              0,
              "#0d0887"
             ],
             [
              0.1111111111111111,
              "#46039f"
             ],
             [
              0.2222222222222222,
              "#7201a8"
             ],
             [
              0.3333333333333333,
              "#9c179e"
             ],
             [
              0.4444444444444444,
              "#bd3786"
             ],
             [
              0.5555555555555556,
              "#d8576b"
             ],
             [
              0.6666666666666666,
              "#ed7953"
             ],
             [
              0.7777777777777778,
              "#fb9f3a"
             ],
             [
              0.8888888888888888,
              "#fdca26"
             ],
             [
              1,
              "#f0f921"
             ]
            ],
            "type": "surface"
           }
          ],
          "table": [
           {
            "cells": {
             "fill": {
              "color": "#EBF0F8"
             },
             "line": {
              "color": "white"
             }
            },
            "header": {
             "fill": {
              "color": "#C8D4E3"
             },
             "line": {
              "color": "white"
             }
            },
            "type": "table"
           }
          ]
         },
         "layout": {
          "annotationdefaults": {
           "arrowcolor": "#2a3f5f",
           "arrowhead": 0,
           "arrowwidth": 1
          },
          "autotypenumbers": "strict",
          "coloraxis": {
           "colorbar": {
            "outlinewidth": 0,
            "ticks": ""
           }
          },
          "colorscale": {
           "diverging": [
            [
             0,
             "#8e0152"
            ],
            [
             0.1,
             "#c51b7d"
            ],
            [
             0.2,
             "#de77ae"
            ],
            [
             0.3,
             "#f1b6da"
            ],
            [
             0.4,
             "#fde0ef"
            ],
            [
             0.5,
             "#f7f7f7"
            ],
            [
             0.6,
             "#e6f5d0"
            ],
            [
             0.7,
             "#b8e186"
            ],
            [
             0.8,
             "#7fbc41"
            ],
            [
             0.9,
             "#4d9221"
            ],
            [
             1,
             "#276419"
            ]
           ],
           "sequential": [
            [
             0,
             "#0d0887"
            ],
            [
             0.1111111111111111,
             "#46039f"
            ],
            [
             0.2222222222222222,
             "#7201a8"
            ],
            [
             0.3333333333333333,
             "#9c179e"
            ],
            [
             0.4444444444444444,
             "#bd3786"
            ],
            [
             0.5555555555555556,
             "#d8576b"
            ],
            [
             0.6666666666666666,
             "#ed7953"
            ],
            [
             0.7777777777777778,
             "#fb9f3a"
            ],
            [
             0.8888888888888888,
             "#fdca26"
            ],
            [
             1,
             "#f0f921"
            ]
           ],
           "sequentialminus": [
            [
             0,
             "#0d0887"
            ],
            [
             0.1111111111111111,
             "#46039f"
            ],
            [
             0.2222222222222222,
             "#7201a8"
            ],
            [
             0.3333333333333333,
             "#9c179e"
            ],
            [
             0.4444444444444444,
             "#bd3786"
            ],
            [
             0.5555555555555556,
             "#d8576b"
            ],
            [
             0.6666666666666666,
             "#ed7953"
            ],
            [
             0.7777777777777778,
             "#fb9f3a"
            ],
            [
             0.8888888888888888,
             "#fdca26"
            ],
            [
             1,
             "#f0f921"
            ]
           ]
          },
          "colorway": [
           "#636efa",
           "#EF553B",
           "#00cc96",
           "#ab63fa",
           "#FFA15A",
           "#19d3f3",
           "#FF6692",
           "#B6E880",
           "#FF97FF",
           "#FECB52"
          ],
          "font": {
           "color": "#2a3f5f"
          },
          "geo": {
           "bgcolor": "white",
           "lakecolor": "white",
           "landcolor": "#E5ECF6",
           "showlakes": true,
           "showland": true,
           "subunitcolor": "white"
          },
          "hoverlabel": {
           "align": "left"
          },
          "hovermode": "closest",
          "mapbox": {
           "style": "light"
          },
          "paper_bgcolor": "white",
          "plot_bgcolor": "#E5ECF6",
          "polar": {
           "angularaxis": {
            "gridcolor": "white",
            "linecolor": "white",
            "ticks": ""
           },
           "bgcolor": "#E5ECF6",
           "radialaxis": {
            "gridcolor": "white",
            "linecolor": "white",
            "ticks": ""
           }
          },
          "scene": {
           "xaxis": {
            "backgroundcolor": "#E5ECF6",
            "gridcolor": "white",
            "gridwidth": 2,
            "linecolor": "white",
            "showbackground": true,
            "ticks": "",
            "zerolinecolor": "white"
           },
           "yaxis": {
            "backgroundcolor": "#E5ECF6",
            "gridcolor": "white",
            "gridwidth": 2,
            "linecolor": "white",
            "showbackground": true,
            "ticks": "",
            "zerolinecolor": "white"
           },
           "zaxis": {
            "backgroundcolor": "#E5ECF6",
            "gridcolor": "white",
            "gridwidth": 2,
            "linecolor": "white",
            "showbackground": true,
            "ticks": "",
            "zerolinecolor": "white"
           }
          },
          "shapedefaults": {
           "line": {
            "color": "#2a3f5f"
           }
          },
          "ternary": {
           "aaxis": {
            "gridcolor": "white",
            "linecolor": "white",
            "ticks": ""
           },
           "baxis": {
            "gridcolor": "white",
            "linecolor": "white",
            "ticks": ""
           },
           "bgcolor": "#E5ECF6",
           "caxis": {
            "gridcolor": "white",
            "linecolor": "white",
            "ticks": ""
           }
          },
          "title": {
           "x": 0.05
          },
          "xaxis": {
           "automargin": true,
           "gridcolor": "white",
           "linecolor": "white",
           "ticks": "",
           "title": {
            "standoff": 15
           },
           "zerolinecolor": "white",
           "zerolinewidth": 2
          },
          "yaxis": {
           "automargin": true,
           "gridcolor": "white",
           "linecolor": "white",
           "ticks": "",
           "title": {
            "standoff": 15
           },
           "zerolinecolor": "white",
           "zerolinewidth": 2
          }
         }
        },
        "title": {
         "text": "População dos países de 1952-2007"
        },
        "updatemenus": [
         {
          "buttons": [
           {
            "args": [
             null,
             {
              "frame": {
               "duration": 500,
               "redraw": true
              },
              "fromcurrent": true,
              "mode": "immediate",
              "transition": {
               "duration": 500,
               "easing": "linear"
              }
             }
            ],
            "label": "&#9654;",
            "method": "animate"
           },
           {
            "args": [
             [
              null
             ],
             {
              "frame": {
               "duration": 0,
               "redraw": true
              },
              "fromcurrent": true,
              "mode": "immediate",
              "transition": {
               "duration": 0,
               "easing": "linear"
              }
             }
            ],
            "label": "&#9724;",
            "method": "animate"
           }
          ],
          "direction": "left",
          "pad": {
           "r": 10,
           "t": 70
          },
          "showactive": false,
          "type": "buttons",
          "x": 0.1,
          "xanchor": "right",
          "y": 0,
          "yanchor": "top"
         }
        ]
       }
      }
     },
     "metadata": {},
     "output_type": "display_data"
    }
   ],
   "source": [
    "fig = px.scatter_geo(df, locations=\"country\", locationmode='country names', color=\"continent\",\n",
    "                     hover_name=\"country\", size=\"pop\",\n",
    "                     animation_frame=\"year\",\n",
    "                     projection=\"natural earth\", title='População dos países de 1952-2007')\n",
    "fig.show()"
   ]
  }
 ],
 "metadata": {
  "kernelspec": {
   "display_name": "Python 3",
   "language": "python",
   "name": "python3"
  },
  "language_info": {
   "codemirror_mode": {
    "name": "ipython",
    "version": 3
   },
   "file_extension": ".py",
   "mimetype": "text/x-python",
   "name": "python",
   "nbconvert_exporter": "python",
   "pygments_lexer": "ipython3",
   "version": "3.13.7"
  }
 },
 "nbformat": 4,
 "nbformat_minor": 5
}
